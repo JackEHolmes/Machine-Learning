{
 "cells": [
  {
   "cell_type": "code",
   "execution_count": 80,
   "metadata": {
    "ExecuteTime": {
     "end_time": "2019-05-01T14:05:02.244212Z",
     "start_time": "2019-05-01T14:05:02.230562Z"
    }
   },
   "outputs": [],
   "source": [
    "from keras.models import Sequential\n",
    "from keras.layers import Dense, Flatten\n",
    "from keras.layers.convolutional import Conv2D, AveragePooling2D\n",
    "import numpy as np\n",
    "from tensorflow.examples.tutorials.mnist import input_data\n",
    "from matplotlib import pyplot"
   ]
  },
  {
   "cell_type": "code",
   "execution_count": 81,
   "metadata": {
    "ExecuteTime": {
     "end_time": "2019-05-01T14:05:14.665408Z",
     "start_time": "2019-05-01T14:05:14.661291Z"
    }
   },
   "outputs": [],
   "source": [
    "import tensorflow as tf"
   ]
  },
  {
   "cell_type": "code",
   "execution_count": null,
   "metadata": {
    "ExecuteTime": {
     "end_time": "2019-05-01T13:46:13.670550Z",
     "start_time": "2019-05-01T13:46:13.668142Z"
    }
   },
   "outputs": [],
   "source": [
    "seed = 167\n",
    "np.random.seed(seed)"
   ]
  },
  {
   "cell_type": "code",
   "execution_count": null,
   "metadata": {
    "ExecuteTime": {
     "end_time": "2019-05-01T13:46:14.405153Z",
     "start_time": "2019-05-01T13:46:13.673032Z"
    },
    "scrolled": false
   },
   "outputs": [],
   "source": [
    "mnist = input_data.read_data_sets(\"MNIST_data/\", one_hot=True)"
   ]
  },
  {
   "cell_type": "code",
   "execution_count": null,
   "metadata": {
    "ExecuteTime": {
     "end_time": "2019-05-01T13:46:14.412114Z",
     "start_time": "2019-05-01T13:46:14.407580Z"
    },
    "scrolled": false
   },
   "outputs": [],
   "source": [
    "print(mnist.train.images.shape)\n",
    "print(mnist.test.images.shape)\n",
    "print(mnist.validation.images.shape)"
   ]
  },
  {
   "cell_type": "code",
   "execution_count": null,
   "metadata": {
    "ExecuteTime": {
     "end_time": "2019-05-01T13:46:14.562295Z",
     "start_time": "2019-05-01T13:46:14.414804Z"
    }
   },
   "outputs": [],
   "source": [
    "pyplot.imshow(mnist.train.images[0].reshape((28 ,28)))"
   ]
  },
  {
   "cell_type": "code",
   "execution_count": null,
   "metadata": {
    "ExecuteTime": {
     "end_time": "2019-05-01T13:46:14.567739Z",
     "start_time": "2019-05-01T13:46:14.563971Z"
    }
   },
   "outputs": [],
   "source": [
    "train_x = mnist.train.images.reshape((-1,28,28,1))\n",
    "train_y = mnist.train.labels\n",
    " \n",
    "valid_x = mnist.validation.images.reshape((-1,28,28,1))\n",
    "valid_y = mnist.validation.labels\n",
    " \n",
    "test_x = mnist.test.images.reshape((-1,28,28,1))\n",
    "test_y = mnist.test.labels"
   ]
  },
  {
   "cell_type": "markdown",
   "metadata": {},
   "source": [
    "##  LeNet-5 Architectures:  \n",
    "![](https://cdn-images-1.medium.com/max/2400/1*1TI1aGBZ4dybR6__DI9dzA.png)"
   ]
  },
  {
   "cell_type": "code",
   "execution_count": null,
   "metadata": {
    "ExecuteTime": {
     "end_time": "2019-05-01T13:46:14.700327Z",
     "start_time": "2019-05-01T13:46:14.569349Z"
    }
   },
   "outputs": [],
   "source": [
    "model = Sequential()\n",
    "\n",
    "# C1 Convolutional Layer\n",
    "model.add(Conv2D(6, kernel_size=(5, 5), strides=(1, 1), activation='tanh', input_shape=(28,28,1), padding='same'))\n",
    "\n",
    "# S2 Pooling Layer\n",
    "model.add(AveragePooling2D(pool_size=(2, 2), strides=(1, 1), padding='valid'))\n",
    "\n",
    "# C3 Convolutional Layer\n",
    "model.add(Conv2D(16, kernel_size=(5, 5), strides=(1, 1), activation='tanh', padding='valid'))\n",
    "\n",
    "# S4 Pooling Layer\n",
    "model.add(AveragePooling2D(pool_size=(2, 2), strides=(2, 2), padding='valid'))\n",
    "\n",
    "# C5 Fully Connected Convolutional Layer\n",
    "model.add(Conv2D(120, kernel_size=(5, 5), strides=(1, 1), activation='tanh', padding='valid'))\n",
    "#Flatten the CNN output so that we can connect it with fully connected layers\n",
    "model.add(Flatten())\n",
    "\n",
    "# FC6 Fully Connected Layer\n",
    "model.add(Dense(84, activation='tanh'))\n",
    "\n",
    "#Output Layer with softmax activation\n",
    "model.add(Dense(10, activation='softmax'))\n",
    "\n",
    "# Compile the model\n",
    "model.compile(optimizer='sgd',loss='categorical_crossentropy',metrics=['accuracy'])\n",
    "\n",
    "# Summary of model\n",
    "model.summary()"
   ]
  },
  {
   "cell_type": "code",
   "execution_count": null,
   "metadata": {
    "ExecuteTime": {
     "end_time": "2019-05-01T13:55:10.447028Z",
     "start_time": "2019-05-01T13:46:14.702536Z"
    }
   },
   "outputs": [],
   "source": [
    "model.fit(train_x, train_y, validation_data=(valid_x, valid_y), batch_size=20, epochs=20, verbose=2)"
   ]
  },
  {
   "cell_type": "code",
   "execution_count": null,
   "metadata": {
    "ExecuteTime": {
     "end_time": "2019-05-01T13:55:10.456080Z",
     "start_time": "2019-05-01T13:46:13.680Z"
    }
   },
   "outputs": [],
   "source": [
    "print(model.evaluate(test_x, test_y, batch_size=20, verbose=2))"
   ]
  }
 ],
 "metadata": {
  "kernelspec": {
   "display_name": "Python 3",
   "language": "python",
   "name": "python3"
  },
  "language_info": {
   "codemirror_mode": {
    "name": "ipython",
    "version": 3
   },
   "file_extension": ".py",
   "mimetype": "text/x-python",
   "name": "python",
   "nbconvert_exporter": "python",
   "pygments_lexer": "ipython3",
   "version": "3.6.7"
  },
  "toc": {
   "base_numbering": 1,
   "nav_menu": {},
   "number_sections": true,
   "sideBar": true,
   "skip_h1_title": false,
   "title_cell": "Table of Contents",
   "title_sidebar": "Contents",
   "toc_cell": false,
   "toc_position": {},
   "toc_section_display": true,
   "toc_window_display": false
  }
 },
 "nbformat": 4,
 "nbformat_minor": 2
}
