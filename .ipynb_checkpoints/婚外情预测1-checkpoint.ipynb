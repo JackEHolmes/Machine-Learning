{
 "cells": [
  {
   "cell_type": "code",
   "execution_count": 1,
   "metadata": {
    "ExecuteTime": {
     "end_time": "2018-11-04T04:47:24.334817Z",
     "start_time": "2018-11-04T04:47:19.812335Z"
    }
   },
   "outputs": [
    {
     "name": "stderr",
     "output_type": "stream",
     "text": [
      "Using TensorFlow backend.\n"
     ]
    }
   ],
   "source": [
    "import pandas as pd\n",
    "import numpy as np\n",
    "import matplotlib.pyplot as plt\n",
    "import seaborn as sns\n",
    "from sklearn.model_selection import train_test_split\n",
    "from sklearn.model_selection import learning_curve\n",
    "from sklearn.metrics import accuracy_score\n",
    "from sklearn.metrics import confusion_matrix\n",
    "from sklearn.preprocessing import MinMaxScaler\n",
    "from sklearn.pipeline import make_pipeline\n",
    "import tensorflow as tf\n",
    "from keras.models import Sequential\n",
    "from keras.layers import Dense, Activation, Dropout\n",
    "from keras.optimizers import SGD\n",
    "import warnings\n",
    "warnings.filterwarnings('ignore')"
   ]
  },
  {
   "cell_type": "code",
   "execution_count": 2,
   "metadata": {
    "ExecuteTime": {
     "end_time": "2018-11-04T04:47:24.374309Z",
     "start_time": "2018-11-04T04:47:24.336671Z"
    },
    "scrolled": true
   },
   "outputs": [
    {
     "name": "stdout",
     "output_type": "stream",
     "text": [
      "<class 'pandas.core.frame.DataFrame'>\n",
      "RangeIndex: 601 entries, 0 to 600\n",
      "Data columns (total 10 columns):\n",
      "Unnamed: 0       601 non-null int64\n",
      "affairs          601 non-null int64\n",
      "gender           601 non-null object\n",
      "age              601 non-null float64\n",
      "yearsmarried     601 non-null float64\n",
      "children         601 non-null object\n",
      "religiousness    601 non-null int64\n",
      "education        601 non-null int64\n",
      "occupation       601 non-null int64\n",
      "rating           601 non-null int64\n",
      "dtypes: float64(2), int64(6), object(2)\n",
      "memory usage: 47.0+ KB\n",
      "None\n"
     ]
    },
    {
     "data": {
      "text/html": [
       "<div>\n",
       "<style scoped>\n",
       "    .dataframe tbody tr th:only-of-type {\n",
       "        vertical-align: middle;\n",
       "    }\n",
       "\n",
       "    .dataframe tbody tr th {\n",
       "        vertical-align: top;\n",
       "    }\n",
       "\n",
       "    .dataframe thead th {\n",
       "        text-align: right;\n",
       "    }\n",
       "</style>\n",
       "<table border=\"1\" class=\"dataframe\">\n",
       "  <thead>\n",
       "    <tr style=\"text-align: right;\">\n",
       "      <th></th>\n",
       "      <th>Unnamed: 0</th>\n",
       "      <th>affairs</th>\n",
       "      <th>gender</th>\n",
       "      <th>age</th>\n",
       "      <th>yearsmarried</th>\n",
       "      <th>children</th>\n",
       "      <th>religiousness</th>\n",
       "      <th>education</th>\n",
       "      <th>occupation</th>\n",
       "      <th>rating</th>\n",
       "    </tr>\n",
       "  </thead>\n",
       "  <tbody>\n",
       "    <tr>\n",
       "      <th>0</th>\n",
       "      <td>4</td>\n",
       "      <td>0</td>\n",
       "      <td>male</td>\n",
       "      <td>37.0</td>\n",
       "      <td>10.00</td>\n",
       "      <td>no</td>\n",
       "      <td>3</td>\n",
       "      <td>18</td>\n",
       "      <td>7</td>\n",
       "      <td>4</td>\n",
       "    </tr>\n",
       "    <tr>\n",
       "      <th>1</th>\n",
       "      <td>5</td>\n",
       "      <td>0</td>\n",
       "      <td>female</td>\n",
       "      <td>27.0</td>\n",
       "      <td>4.00</td>\n",
       "      <td>no</td>\n",
       "      <td>4</td>\n",
       "      <td>14</td>\n",
       "      <td>6</td>\n",
       "      <td>4</td>\n",
       "    </tr>\n",
       "    <tr>\n",
       "      <th>2</th>\n",
       "      <td>11</td>\n",
       "      <td>0</td>\n",
       "      <td>female</td>\n",
       "      <td>32.0</td>\n",
       "      <td>15.00</td>\n",
       "      <td>yes</td>\n",
       "      <td>1</td>\n",
       "      <td>12</td>\n",
       "      <td>1</td>\n",
       "      <td>4</td>\n",
       "    </tr>\n",
       "    <tr>\n",
       "      <th>3</th>\n",
       "      <td>16</td>\n",
       "      <td>0</td>\n",
       "      <td>male</td>\n",
       "      <td>57.0</td>\n",
       "      <td>15.00</td>\n",
       "      <td>yes</td>\n",
       "      <td>5</td>\n",
       "      <td>18</td>\n",
       "      <td>6</td>\n",
       "      <td>5</td>\n",
       "    </tr>\n",
       "    <tr>\n",
       "      <th>4</th>\n",
       "      <td>23</td>\n",
       "      <td>0</td>\n",
       "      <td>male</td>\n",
       "      <td>22.0</td>\n",
       "      <td>0.75</td>\n",
       "      <td>no</td>\n",
       "      <td>2</td>\n",
       "      <td>17</td>\n",
       "      <td>6</td>\n",
       "      <td>3</td>\n",
       "    </tr>\n",
       "  </tbody>\n",
       "</table>\n",
       "</div>"
      ],
      "text/plain": [
       "   Unnamed: 0  affairs  gender   age  yearsmarried children  religiousness  \\\n",
       "0           4        0    male  37.0         10.00       no              3   \n",
       "1           5        0  female  27.0          4.00       no              4   \n",
       "2          11        0  female  32.0         15.00      yes              1   \n",
       "3          16        0    male  57.0         15.00      yes              5   \n",
       "4          23        0    male  22.0          0.75       no              2   \n",
       "\n",
       "   education  occupation  rating  \n",
       "0         18           7       4  \n",
       "1         14           6       4  \n",
       "2         12           1       4  \n",
       "3         18           6       5  \n",
       "4         17           6       3  "
      ]
     },
     "execution_count": 2,
     "metadata": {},
     "output_type": "execute_result"
    }
   ],
   "source": [
    "pd_data = pd.read_csv('Affairs.csv')\n",
    "print(pd_data.info(memory_usage=True))\n",
    "pd_data.head()"
   ]
  },
  {
   "cell_type": "code",
   "execution_count": 3,
   "metadata": {
    "ExecuteTime": {
     "end_time": "2018-11-04T04:47:24.381551Z",
     "start_time": "2018-11-04T04:47:24.376453Z"
    }
   },
   "outputs": [],
   "source": [
    "pd_data['affairs_1'] = (pd_data['affairs'] > 0 ).astype('int')"
   ]
  },
  {
   "cell_type": "code",
   "execution_count": 4,
   "metadata": {
    "ExecuteTime": {
     "end_time": "2018-11-04T04:47:24.389484Z",
     "start_time": "2018-11-04T04:47:24.384001Z"
    }
   },
   "outputs": [],
   "source": [
    "pd_data['gender_1'] = pd_data['gender'].map({'male': 1, 'female': 0})"
   ]
  },
  {
   "cell_type": "code",
   "execution_count": 5,
   "metadata": {
    "ExecuteTime": {
     "end_time": "2018-11-04T04:47:24.395049Z",
     "start_time": "2018-11-04T04:47:24.391321Z"
    }
   },
   "outputs": [],
   "source": [
    "pd_data['children_1'] = pd_data['children'].map({'yes': 1, 'no': 0})"
   ]
  },
  {
   "cell_type": "code",
   "execution_count": 6,
   "metadata": {
    "ExecuteTime": {
     "end_time": "2018-11-04T04:47:24.606778Z",
     "start_time": "2018-11-04T04:47:24.396743Z"
    },
    "scrolled": false
   },
   "outputs": [
    {
     "data": {
      "text/plain": [
       "<matplotlib.axes._subplots.AxesSubplot at 0x1a3b570b70>"
      ]
     },
     "execution_count": 6,
     "metadata": {},
     "output_type": "execute_result"
    },
    {
     "data": {
      "image/png": "[encoded data removed]",
      "text/plain": [
       "<Figure size 432x288 with 1 Axes>"
      ]
     },
     "metadata": {
      "needs_background": "light"
     },
     "output_type": "display_data"
    }
   ],
   "source": [
    "sns.distplot(pd_data['age'], hist=True, bins=15, kde=False)"
   ]
  },
  {
   "cell_type": "code",
   "execution_count": 7,
   "metadata": {
    "ExecuteTime": {
     "end_time": "2018-11-04T04:47:24.620127Z",
     "start_time": "2018-11-04T04:47:24.609640Z"
    }
   },
   "outputs": [
    {
     "data": {
      "text/plain": [
       "count    601.000000\n",
       "mean      32.487521\n",
       "std        9.288762\n",
       "min       17.500000\n",
       "25%       27.000000\n",
       "50%       32.000000\n",
       "75%       37.000000\n",
       "max       57.000000\n",
       "Name: age, dtype: float64"
      ]
     },
     "execution_count": 7,
     "metadata": {},
     "output_type": "execute_result"
    }
   ],
   "source": [
    "pd_data['age'].describe()"
   ]
  },
  {
   "cell_type": "code",
   "execution_count": 8,
   "metadata": {
    "ExecuteTime": {
     "end_time": "2018-11-04T04:47:24.638965Z",
     "start_time": "2018-11-04T04:47:24.621814Z"
    }
   },
   "outputs": [],
   "source": [
    "# age bin and one_hot\n",
    "bins = np.arange(15,61,5)\n",
    "age_one_hot = pd.get_dummies(pd.cut(pd_data['age'], bins=bins))\n",
    "pd_data[['age_onehot_'+n for n in np.arange(len(bins)-1).astype(str)]] = age_one_hot"
   ]
  },
  {
   "cell_type": "code",
   "execution_count": 9,
   "metadata": {
    "ExecuteTime": {
     "end_time": "2018-11-04T04:47:24.645744Z",
     "start_time": "2018-11-04T04:47:24.641703Z"
    }
   },
   "outputs": [
    {
     "data": {
      "text/plain": [
       "Index(['Unnamed: 0', 'affairs', 'gender', 'age', 'yearsmarried', 'children',\n",
       "       'religiousness', 'education', 'occupation', 'rating', 'affairs_1',\n",
       "       'gender_1', 'children_1', 'age_onehot_0', 'age_onehot_1',\n",
       "       'age_onehot_2', 'age_onehot_3', 'age_onehot_4', 'age_onehot_5',\n",
       "       'age_onehot_6', 'age_onehot_7', 'age_onehot_8'],\n",
       "      dtype='object')"
      ]
     },
     "execution_count": 9,
     "metadata": {},
     "output_type": "execute_result"
    }
   ],
   "source": [
    "pd_data.columns"
   ]
  },
  {
   "cell_type": "code",
   "execution_count": 10,
   "metadata": {
    "ExecuteTime": {
     "end_time": "2018-11-04T04:47:24.819681Z",
     "start_time": "2018-11-04T04:47:24.647522Z"
    },
    "scrolled": true
   },
   "outputs": [
    {
     "data": {
      "text/plain": [
       "<matplotlib.axes._subplots.AxesSubplot at 0x1a3b8958d0>"
      ]
     },
     "execution_count": 10,
     "metadata": {},
     "output_type": "execute_result"
    },
    {
     "data": {
      "image/png": "[encoded data removed]",
      "text/plain": [
       "<Figure size 432x288 with 1 Axes>"
      ]
     },
     "metadata": {
      "needs_background": "light"
     },
     "output_type": "display_data"
    }
   ],
   "source": [
    "sns.distplot(pd_data['yearsmarried'], hist=True, bins=15, kde=False)"
   ]
  },
  {
   "cell_type": "code",
   "execution_count": 11,
   "metadata": {
    "ExecuteTime": {
     "end_time": "2018-11-04T04:47:24.828536Z",
     "start_time": "2018-11-04T04:47:24.821195Z"
    }
   },
   "outputs": [
    {
     "data": {
      "text/plain": [
       "count    601.000000\n",
       "mean       8.177696\n",
       "std        5.571303\n",
       "min        0.125000\n",
       "25%        4.000000\n",
       "50%        7.000000\n",
       "75%       15.000000\n",
       "max       15.000000\n",
       "Name: yearsmarried, dtype: float64"
      ]
     },
     "execution_count": 11,
     "metadata": {},
     "output_type": "execute_result"
    }
   ],
   "source": [
    "pd_data['yearsmarried'].describe()"
   ]
  },
  {
   "cell_type": "code",
   "execution_count": 12,
   "metadata": {
    "ExecuteTime": {
     "end_time": "2018-11-04T04:47:24.840508Z",
     "start_time": "2018-11-04T04:47:24.830391Z"
    }
   },
   "outputs": [],
   "source": [
    "# yearsmarried bin and one_hot\n",
    "bins = np.arange(0,16,3)\n",
    "yearsmarried_one_hot = pd.get_dummies(pd.cut(pd_data['yearsmarried'], bins=bins))\n",
    "pd_data[['yearsmarried_onehot_'+n for n in np.arange(len(bins)-1).astype(str)]] = yearsmarried_one_hot"
   ]
  },
  {
   "cell_type": "code",
   "execution_count": 13,
   "metadata": {
    "ExecuteTime": {
     "end_time": "2018-11-04T04:47:24.847438Z",
     "start_time": "2018-11-04T04:47:24.842090Z"
    }
   },
   "outputs": [],
   "source": [
    "# religiousness one_hot\n",
    "religiousness_one_hot = pd.get_dummies(pd_data['religiousness'])\n",
    "pd_data[['religiousness_onehot_'+n for n in religiousness_one_hot.columns.astype(str)]] = religiousness_one_hot"
   ]
  },
  {
   "cell_type": "code",
   "execution_count": 14,
   "metadata": {
    "ExecuteTime": {
     "end_time": "2018-11-04T04:47:24.855870Z",
     "start_time": "2018-11-04T04:47:24.849072Z"
    }
   },
   "outputs": [],
   "source": [
    "# occupation one_hot\n",
    "occupation_one_hot = pd.get_dummies(pd_data['occupation'])\n",
    "pd_data[['occupation_onehot_'+n for n in occupation_one_hot.columns.astype(str)]] = occupation_one_hot"
   ]
  },
  {
   "cell_type": "code",
   "execution_count": 15,
   "metadata": {
    "ExecuteTime": {
     "end_time": "2018-11-04T04:47:24.863750Z",
     "start_time": "2018-11-04T04:47:24.857669Z"
    }
   },
   "outputs": [],
   "source": [
    "# education one_hot\n",
    "education_one_hot = pd.get_dummies(pd_data['education'])\n",
    "pd_data[['education_onehot_'+n for n in education_one_hot.columns.astype(str)]] = education_one_hot"
   ]
  },
  {
   "cell_type": "code",
   "execution_count": 16,
   "metadata": {
    "ExecuteTime": {
     "end_time": "2018-11-04T04:47:24.869129Z",
     "start_time": "2018-11-04T04:47:24.865496Z"
    }
   },
   "outputs": [],
   "source": [
    "# rating 归一化\n",
    "pd_data['rating_1'] = pd.Series(MinMaxScaler().fit_transform(pd_data['rating'].values.reshape(-1,1)).reshape(-1,))"
   ]
  },
  {
   "cell_type": "code",
   "execution_count": 17,
   "metadata": {
    "ExecuteTime": {
     "end_time": "2018-11-04T04:47:24.875072Z",
     "start_time": "2018-11-04T04:47:24.870787Z"
    },
    "scrolled": false
   },
   "outputs": [
    {
     "data": {
      "text/plain": [
       "Index(['Unnamed: 0', 'affairs', 'gender', 'age', 'yearsmarried', 'children',\n",
       "       'religiousness', 'education', 'occupation', 'rating', 'affairs_1',\n",
       "       'gender_1', 'children_1', 'age_onehot_0', 'age_onehot_1',\n",
       "       'age_onehot_2', 'age_onehot_3', 'age_onehot_4', 'age_onehot_5',\n",
       "       'age_onehot_6', 'age_onehot_7', 'age_onehot_8', 'yearsmarried_onehot_0',\n",
       "       'yearsmarried_onehot_1', 'yearsmarried_onehot_2',\n",
       "       'yearsmarried_onehot_3', 'yearsmarried_onehot_4',\n",
       "       'religiousness_onehot_1', 'religiousness_onehot_2',\n",
       "       'religiousness_onehot_3', 'religiousness_onehot_4',\n",
       "       'religiousness_onehot_5', 'occupation_onehot_1', 'occupation_onehot_2',\n",
       "       'occupation_onehot_3', 'occupation_onehot_4', 'occupation_onehot_5',\n",
       "       'occupation_onehot_6', 'occupation_onehot_7', 'education_onehot_9',\n",
       "       'education_onehot_12', 'education_onehot_14', 'education_onehot_16',\n",
       "       'education_onehot_17', 'education_onehot_18', 'education_onehot_20',\n",
       "       'rating_1'],\n",
       "      dtype='object')"
      ]
     },
     "execution_count": 17,
     "metadata": {},
     "output_type": "execute_result"
    }
   ],
   "source": [
    "pd_data.columns"
   ]
  },
  {
   "cell_type": "code",
   "execution_count": 18,
   "metadata": {
    "ExecuteTime": {
     "end_time": "2018-11-04T04:47:24.889583Z",
     "start_time": "2018-11-04T04:47:24.876723Z"
    },
    "scrolled": false
   },
   "outputs": [
    {
     "data": {
      "text/plain": [
       "Unnamed: 0                9029\n",
       "affairs                     12\n",
       "gender                    male\n",
       "age                         57\n",
       "yearsmarried                15\n",
       "children                   yes\n",
       "religiousness                5\n",
       "education                   20\n",
       "occupation                   7\n",
       "rating                       5\n",
       "affairs_1                    1\n",
       "gender_1                     1\n",
       "children_1                   1\n",
       "age_onehot_0                 1\n",
       "age_onehot_1                 1\n",
       "age_onehot_2                 1\n",
       "age_onehot_3                 1\n",
       "age_onehot_4                 1\n",
       "age_onehot_5                 1\n",
       "age_onehot_6                 1\n",
       "age_onehot_7                 1\n",
       "age_onehot_8                 1\n",
       "yearsmarried_onehot_0        1\n",
       "yearsmarried_onehot_1        1\n",
       "yearsmarried_onehot_2        1\n",
       "yearsmarried_onehot_3        1\n",
       "yearsmarried_onehot_4        1\n",
       "religiousness_onehot_1       1\n",
       "religiousness_onehot_2       1\n",
       "religiousness_onehot_3       1\n",
       "religiousness_onehot_4       1\n",
       "religiousness_onehot_5       1\n",
       "occupation_onehot_1          1\n",
       "occupation_onehot_2          1\n",
       "occupation_onehot_3          1\n",
       "occupation_onehot_4          1\n",
       "occupation_onehot_5          1\n",
       "occupation_onehot_6          1\n",
       "occupation_onehot_7          1\n",
       "education_onehot_9           1\n",
       "education_onehot_12          1\n",
       "education_onehot_14          1\n",
       "education_onehot_16          1\n",
       "education_onehot_17          1\n",
       "education_onehot_18          1\n",
       "education_onehot_20          1\n",
       "rating_1                     1\n",
       "dtype: object"
      ]
     },
     "execution_count": 18,
     "metadata": {},
     "output_type": "execute_result"
    }
   ],
   "source": [
    "pd_data.max(axis=0)"
   ]
  },
  {
   "cell_type": "code",
   "execution_count": 19,
   "metadata": {
    "ExecuteTime": {
     "end_time": "2018-11-04T04:47:24.895934Z",
     "start_time": "2018-11-04T04:47:24.891558Z"
    }
   },
   "outputs": [
    {
     "data": {
      "text/plain": [
       "(601, 47)"
      ]
     },
     "execution_count": 19,
     "metadata": {},
     "output_type": "execute_result"
    }
   ],
   "source": [
    "pd_data.shape"
   ]
  },
  {
   "cell_type": "code",
   "execution_count": 20,
   "metadata": {
    "ExecuteTime": {
     "end_time": "2018-11-04T04:47:24.902022Z",
     "start_time": "2018-11-04T04:47:24.898144Z"
    }
   },
   "outputs": [],
   "source": [
    "new_data = pd_data.iloc[:, 10:]"
   ]
  },
  {
   "cell_type": "code",
   "execution_count": 21,
   "metadata": {
    "ExecuteTime": {
     "end_time": "2018-11-04T04:47:24.908588Z",
     "start_time": "2018-11-04T04:47:24.904164Z"
    }
   },
   "outputs": [
    {
     "data": {
      "text/plain": [
       "Index(['affairs_1', 'gender_1', 'children_1', 'age_onehot_0', 'age_onehot_1',\n",
       "       'age_onehot_2', 'age_onehot_3', 'age_onehot_4', 'age_onehot_5',\n",
       "       'age_onehot_6', 'age_onehot_7', 'age_onehot_8', 'yearsmarried_onehot_0',\n",
       "       'yearsmarried_onehot_1', 'yearsmarried_onehot_2',\n",
       "       'yearsmarried_onehot_3', 'yearsmarried_onehot_4',\n",
       "       'religiousness_onehot_1', 'religiousness_onehot_2',\n",
       "       'religiousness_onehot_3', 'religiousness_onehot_4',\n",
       "       'religiousness_onehot_5', 'occupation_onehot_1', 'occupation_onehot_2',\n",
       "       'occupation_onehot_3', 'occupation_onehot_4', 'occupation_onehot_5',\n",
       "       'occupation_onehot_6', 'occupation_onehot_7', 'education_onehot_9',\n",
       "       'education_onehot_12', 'education_onehot_14', 'education_onehot_16',\n",
       "       'education_onehot_17', 'education_onehot_18', 'education_onehot_20',\n",
       "       'rating_1'],\n",
       "      dtype='object')"
      ]
     },
     "execution_count": 21,
     "metadata": {},
     "output_type": "execute_result"
    }
   ],
   "source": [
    "new_data.columns"
   ]
  },
  {
   "cell_type": "code",
   "execution_count": 22,
   "metadata": {
    "ExecuteTime": {
     "end_time": "2018-11-04T04:47:24.929438Z",
     "start_time": "2018-11-04T04:47:24.910496Z"
    },
    "scrolled": true
   },
   "outputs": [
    {
     "data": {
      "text/html": [
       "<div>\n",
       "<style scoped>\n",
       "    .dataframe tbody tr th:only-of-type {\n",
       "        vertical-align: middle;\n",
       "    }\n",
       "\n",
       "    .dataframe tbody tr th {\n",
       "        vertical-align: top;\n",
       "    }\n",
       "\n",
       "    .dataframe thead th {\n",
       "        text-align: right;\n",
       "    }\n",
       "</style>\n",
       "<table border=\"1\" class=\"dataframe\">\n",
       "  <thead>\n",
       "    <tr style=\"text-align: right;\">\n",
       "      <th></th>\n",
       "      <th>affairs_1</th>\n",
       "      <th>gender_1</th>\n",
       "      <th>children_1</th>\n",
       "      <th>age_onehot_0</th>\n",
       "      <th>age_onehot_1</th>\n",
       "      <th>age_onehot_2</th>\n",
       "      <th>age_onehot_3</th>\n",
       "      <th>age_onehot_4</th>\n",
       "      <th>age_onehot_5</th>\n",
       "      <th>age_onehot_6</th>\n",
       "      <th>...</th>\n",
       "      <th>occupation_onehot_6</th>\n",
       "      <th>occupation_onehot_7</th>\n",
       "      <th>education_onehot_9</th>\n",
       "      <th>education_onehot_12</th>\n",
       "      <th>education_onehot_14</th>\n",
       "      <th>education_onehot_16</th>\n",
       "      <th>education_onehot_17</th>\n",
       "      <th>education_onehot_18</th>\n",
       "      <th>education_onehot_20</th>\n",
       "      <th>rating_1</th>\n",
       "    </tr>\n",
       "  </thead>\n",
       "  <tbody>\n",
       "    <tr>\n",
       "      <th>0</th>\n",
       "      <td>0</td>\n",
       "      <td>1</td>\n",
       "      <td>0</td>\n",
       "      <td>0</td>\n",
       "      <td>0</td>\n",
       "      <td>0</td>\n",
       "      <td>0</td>\n",
       "      <td>1</td>\n",
       "      <td>0</td>\n",
       "      <td>0</td>\n",
       "      <td>...</td>\n",
       "      <td>0</td>\n",
       "      <td>1</td>\n",
       "      <td>0</td>\n",
       "      <td>0</td>\n",
       "      <td>0</td>\n",
       "      <td>0</td>\n",
       "      <td>0</td>\n",
       "      <td>1</td>\n",
       "      <td>0</td>\n",
       "      <td>0.75</td>\n",
       "    </tr>\n",
       "    <tr>\n",
       "      <th>1</th>\n",
       "      <td>0</td>\n",
       "      <td>0</td>\n",
       "      <td>0</td>\n",
       "      <td>0</td>\n",
       "      <td>0</td>\n",
       "      <td>1</td>\n",
       "      <td>0</td>\n",
       "      <td>0</td>\n",
       "      <td>0</td>\n",
       "      <td>0</td>\n",
       "      <td>...</td>\n",
       "      <td>1</td>\n",
       "      <td>0</td>\n",
       "      <td>0</td>\n",
       "      <td>0</td>\n",
       "      <td>1</td>\n",
       "      <td>0</td>\n",
       "      <td>0</td>\n",
       "      <td>0</td>\n",
       "      <td>0</td>\n",
       "      <td>0.75</td>\n",
       "    </tr>\n",
       "    <tr>\n",
       "      <th>2</th>\n",
       "      <td>0</td>\n",
       "      <td>0</td>\n",
       "      <td>1</td>\n",
       "      <td>0</td>\n",
       "      <td>0</td>\n",
       "      <td>0</td>\n",
       "      <td>1</td>\n",
       "      <td>0</td>\n",
       "      <td>0</td>\n",
       "      <td>0</td>\n",
       "      <td>...</td>\n",
       "      <td>0</td>\n",
       "      <td>0</td>\n",
       "      <td>0</td>\n",
       "      <td>1</td>\n",
       "      <td>0</td>\n",
       "      <td>0</td>\n",
       "      <td>0</td>\n",
       "      <td>0</td>\n",
       "      <td>0</td>\n",
       "      <td>0.75</td>\n",
       "    </tr>\n",
       "    <tr>\n",
       "      <th>3</th>\n",
       "      <td>0</td>\n",
       "      <td>1</td>\n",
       "      <td>1</td>\n",
       "      <td>0</td>\n",
       "      <td>0</td>\n",
       "      <td>0</td>\n",
       "      <td>0</td>\n",
       "      <td>0</td>\n",
       "      <td>0</td>\n",
       "      <td>0</td>\n",
       "      <td>...</td>\n",
       "      <td>1</td>\n",
       "      <td>0</td>\n",
       "      <td>0</td>\n",
       "      <td>0</td>\n",
       "      <td>0</td>\n",
       "      <td>0</td>\n",
       "      <td>0</td>\n",
       "      <td>1</td>\n",
       "      <td>0</td>\n",
       "      <td>1.00</td>\n",
       "    </tr>\n",
       "    <tr>\n",
       "      <th>4</th>\n",
       "      <td>0</td>\n",
       "      <td>1</td>\n",
       "      <td>0</td>\n",
       "      <td>0</td>\n",
       "      <td>1</td>\n",
       "      <td>0</td>\n",
       "      <td>0</td>\n",
       "      <td>0</td>\n",
       "      <td>0</td>\n",
       "      <td>0</td>\n",
       "      <td>...</td>\n",
       "      <td>1</td>\n",
       "      <td>0</td>\n",
       "      <td>0</td>\n",
       "      <td>0</td>\n",
       "      <td>0</td>\n",
       "      <td>0</td>\n",
       "      <td>1</td>\n",
       "      <td>0</td>\n",
       "      <td>0</td>\n",
       "      <td>0.50</td>\n",
       "    </tr>\n",
       "  </tbody>\n",
       "</table>\n",
       "<p>5 rows × 37 columns</p>\n",
       "</div>"
      ],
      "text/plain": [
       "   affairs_1  gender_1  children_1  age_onehot_0  age_onehot_1  age_onehot_2  \\\n",
       "0          0         1           0             0             0             0   \n",
       "1          0         0           0             0             0             1   \n",
       "2          0         0           1             0             0             0   \n",
       "3          0         1           1             0             0             0   \n",
       "4          0         1           0             0             1             0   \n",
       "\n",
       "   age_onehot_3  age_onehot_4  age_onehot_5  age_onehot_6    ...     \\\n",
       "0             0             1             0             0    ...      \n",
       "1             0             0             0             0    ...      \n",
       "2             1             0             0             0    ...      \n",
       "3             0             0             0             0    ...      \n",
       "4             0             0             0             0    ...      \n",
       "\n",
       "   occupation_onehot_6  occupation_onehot_7  education_onehot_9  \\\n",
       "0                    0                    1                   0   \n",
       "1                    1                    0                   0   \n",
       "2                    0                    0                   0   \n",
       "3                    1                    0                   0   \n",
       "4                    1                    0                   0   \n",
       "\n",
       "   education_onehot_12  education_onehot_14  education_onehot_16  \\\n",
       "0                    0                    0                    0   \n",
       "1                    0                    1                    0   \n",
       "2                    1                    0                    0   \n",
       "3                    0                    0                    0   \n",
       "4                    0                    0                    0   \n",
       "\n",
       "   education_onehot_17  education_onehot_18  education_onehot_20  rating_1  \n",
       "0                    0                    1                    0      0.75  \n",
       "1                    0                    0                    0      0.75  \n",
       "2                    0                    0                    0      0.75  \n",
       "3                    0                    1                    0      1.00  \n",
       "4                    1                    0                    0      0.50  \n",
       "\n",
       "[5 rows x 37 columns]"
      ]
     },
     "execution_count": 22,
     "metadata": {},
     "output_type": "execute_result"
    }
   ],
   "source": [
    "new_data.head()"
   ]
  },
  {
   "cell_type": "code",
   "execution_count": 23,
   "metadata": {
    "ExecuteTime": {
     "end_time": "2018-11-04T04:47:24.937084Z",
     "start_time": "2018-11-04T04:47:24.931418Z"
    }
   },
   "outputs": [],
   "source": [
    "x_train, x_test, y_train, y_test = train_test_split(new_data.drop(['affairs_1'], axis=1), new_data['affairs_1'], test_size=0.2, random_state=0)"
   ]
  },
  {
   "cell_type": "code",
   "execution_count": 24,
   "metadata": {
    "ExecuteTime": {
     "end_time": "2018-11-04T04:47:24.942772Z",
     "start_time": "2018-11-04T04:47:24.938992Z"
    }
   },
   "outputs": [
    {
     "data": {
      "text/plain": [
       "((480, 36), (121, 36), (480,), (121,))"
      ]
     },
     "execution_count": 24,
     "metadata": {},
     "output_type": "execute_result"
    }
   ],
   "source": [
    "x_train.shape, x_test.shape, y_train.shape, y_test.shape"
   ]
  },
  {
   "cell_type": "code",
   "execution_count": 46,
   "metadata": {
    "ExecuteTime": {
     "end_time": "2018-11-04T05:32:03.824095Z",
     "start_time": "2018-11-04T05:24:10.338453Z"
    },
    "scrolled": true
   },
   "outputs": [
    {
     "name": "stdout",
     "output_type": "stream",
     "text": [
      "Epoch 1/500\n",
      "480/480 [==============================] - 3s 5ms/step - loss: 0.6640 - acc: 0.6458\n",
      "Epoch 2/500\n",
      "480/480 [==============================] - 1s 2ms/step - loss: 0.6053 - acc: 0.7354\n",
      "Epoch 3/500\n",
      "480/480 [==============================] - 1s 2ms/step - loss: 0.6012 - acc: 0.7396\n",
      "Epoch 4/500\n",
      "480/480 [==============================] - 1s 2ms/step - loss: 0.6073 - acc: 0.7396\n",
      "Epoch 5/500\n",
      "480/480 [==============================] - 1s 2ms/step - loss: 0.5831 - acc: 0.7396\n",
      "Epoch 6/500\n",
      "480/480 [==============================] - 1s 2ms/step - loss: 0.6237 - acc: 0.7396\n",
      "Epoch 7/500\n",
      "480/480 [==============================] - 1s 2ms/step - loss: 0.5863 - acc: 0.7396\n",
      "Epoch 8/500\n",
      "480/480 [==============================] - 1s 2ms/step - loss: 0.5873 - acc: 0.7396\n",
      "Epoch 9/500\n",
      "480/480 [==============================] - 1s 2ms/step - loss: 0.6050 - acc: 0.7396\n",
      "Epoch 10/500\n",
      "480/480 [==============================] - 1s 2ms/step - loss: 0.5908 - acc: 0.7396\n",
      "Epoch 11/500\n",
      "480/480 [==============================] - 1s 2ms/step - loss: 0.5940 - acc: 0.7396\n",
      "Epoch 12/500\n",
      "480/480 [==============================] - 1s 2ms/step - loss: 0.5617 - acc: 0.7396\n",
      "Epoch 13/500\n",
      "480/480 [==============================] - 1s 2ms/step - loss: 0.5732 - acc: 0.7396\n",
      "Epoch 14/500\n",
      "480/480 [==============================] - 1s 2ms/step - loss: 0.5746 - acc: 0.7396\n",
      "Epoch 15/500\n",
      "480/480 [==============================] - 1s 2ms/step - loss: 0.5746 - acc: 0.7396\n",
      "Epoch 16/500\n",
      "480/480 [==============================] - 1s 2ms/step - loss: 0.5482 - acc: 0.7396\n",
      "Epoch 17/500\n",
      "480/480 [==============================] - 1s 2ms/step - loss: 0.5992 - acc: 0.7396\n",
      "Epoch 18/500\n",
      "480/480 [==============================] - 1s 2ms/step - loss: 0.5694 - acc: 0.7396\n",
      "Epoch 19/500\n",
      "480/480 [==============================] - 1s 2ms/step - loss: 0.5728 - acc: 0.7396\n",
      "Epoch 20/500\n",
      "480/480 [==============================] - 1s 2ms/step - loss: 0.5822 - acc: 0.7396\n",
      "Epoch 21/500\n",
      "480/480 [==============================] - 1s 2ms/step - loss: 0.5744 - acc: 0.7396\n",
      "Epoch 22/500\n",
      "480/480 [==============================] - 1s 2ms/step - loss: 0.5514 - acc: 0.7437\n",
      "Epoch 23/500\n",
      "480/480 [==============================] - 1s 2ms/step - loss: 0.5702 - acc: 0.7396\n",
      "Epoch 24/500\n",
      "480/480 [==============================] - 1s 2ms/step - loss: 0.5899 - acc: 0.7396\n",
      "Epoch 25/500\n",
      "480/480 [==============================] - 1s 2ms/step - loss: 0.5545 - acc: 0.7417\n",
      "Epoch 26/500\n",
      "480/480 [==============================] - 1s 2ms/step - loss: 0.5503 - acc: 0.7396\n",
      "Epoch 27/500\n",
      "480/480 [==============================] - 1s 2ms/step - loss: 0.5835 - acc: 0.7396\n",
      "Epoch 28/500\n",
      "480/480 [==============================] - 1s 2ms/step - loss: 0.5653 - acc: 0.7271\n",
      "Epoch 29/500\n",
      "480/480 [==============================] - 1s 2ms/step - loss: 0.5980 - acc: 0.7417\n",
      "Epoch 30/500\n",
      "480/480 [==============================] - 1s 2ms/step - loss: 0.5634 - acc: 0.7312\n",
      "Epoch 31/500\n",
      "480/480 [==============================] - 1s 2ms/step - loss: 0.5664 - acc: 0.7396\n",
      "Epoch 32/500\n",
      "480/480 [==============================] - 1s 2ms/step - loss: 0.5668 - acc: 0.7375\n",
      "Epoch 33/500\n",
      "480/480 [==============================] - 1s 2ms/step - loss: 0.6200 - acc: 0.7396\n",
      "Epoch 34/500\n",
      "480/480 [==============================] - 1s 2ms/step - loss: 0.5753 - acc: 0.7521\n",
      "Epoch 35/500\n",
      "480/480 [==============================] - 1s 2ms/step - loss: 0.5741 - acc: 0.7229\n",
      "Epoch 36/500\n",
      "480/480 [==============================] - 1s 2ms/step - loss: 0.5804 - acc: 0.7396\n",
      "Epoch 37/500\n",
      "480/480 [==============================] - 1s 2ms/step - loss: 0.5751 - acc: 0.7292\n",
      "Epoch 38/500\n",
      "480/480 [==============================] - 1s 2ms/step - loss: 0.5814 - acc: 0.7333\n",
      "Epoch 39/500\n",
      "480/480 [==============================] - 1s 2ms/step - loss: 0.5622 - acc: 0.7396\n",
      "Epoch 40/500\n",
      "480/480 [==============================] - 1s 2ms/step - loss: 0.5569 - acc: 0.7458\n",
      "Epoch 41/500\n",
      "480/480 [==============================] - 1s 2ms/step - loss: 0.5711 - acc: 0.7312\n",
      "Epoch 42/500\n",
      "480/480 [==============================] - 1s 2ms/step - loss: 0.5581 - acc: 0.7375\n",
      "Epoch 43/500\n",
      "480/480 [==============================] - 1s 2ms/step - loss: 0.5836 - acc: 0.7354\n",
      "Epoch 44/500\n",
      "480/480 [==============================] - 1s 2ms/step - loss: 0.5831 - acc: 0.7354\n",
      "Epoch 45/500\n",
      "480/480 [==============================] - 1s 2ms/step - loss: 0.5699 - acc: 0.7312\n",
      "Epoch 46/500\n",
      "480/480 [==============================] - 1s 2ms/step - loss: 0.5898 - acc: 0.7396\n",
      "Epoch 47/500\n",
      "480/480 [==============================] - 1s 2ms/step - loss: 0.5878 - acc: 0.7250\n",
      "Epoch 48/500\n",
      "480/480 [==============================] - 1s 2ms/step - loss: 0.5785 - acc: 0.7333\n",
      "Epoch 49/500\n",
      "480/480 [==============================] - 1s 2ms/step - loss: 0.5799 - acc: 0.7521\n",
      "Epoch 50/500\n",
      "480/480 [==============================] - 1s 2ms/step - loss: 0.5768 - acc: 0.7479\n",
      "Epoch 51/500\n",
      "480/480 [==============================] - 1s 2ms/step - loss: 0.5653 - acc: 0.7521\n",
      "Epoch 52/500\n",
      "480/480 [==============================] - 1s 2ms/step - loss: 0.5693 - acc: 0.7312\n",
      "Epoch 53/500\n",
      "480/480 [==============================] - 1s 2ms/step - loss: 0.5816 - acc: 0.7312\n",
      "Epoch 54/500\n",
      "480/480 [==============================] - 1s 2ms/step - loss: 0.5640 - acc: 0.7312\n",
      "Epoch 55/500\n",
      "480/480 [==============================] - 1s 2ms/step - loss: 0.5694 - acc: 0.7437\n",
      "Epoch 56/500\n",
      "480/480 [==============================] - 1s 2ms/step - loss: 0.5521 - acc: 0.7458\n",
      "Epoch 57/500\n",
      "480/480 [==============================] - 1s 2ms/step - loss: 0.5583 - acc: 0.7479\n",
      "Epoch 58/500\n",
      "480/480 [==============================] - 1s 2ms/step - loss: 0.5623 - acc: 0.7417\n",
      "Epoch 59/500\n",
      "480/480 [==============================] - 1s 2ms/step - loss: 0.5784 - acc: 0.7312\n",
      "Epoch 60/500\n",
      "480/480 [==============================] - 1s 2ms/step - loss: 0.5837 - acc: 0.7250\n",
      "Epoch 61/500\n",
      "480/480 [==============================] - 1s 2ms/step - loss: 0.5663 - acc: 0.7375\n",
      "Epoch 62/500\n",
      "480/480 [==============================] - 1s 2ms/step - loss: 0.6031 - acc: 0.7333\n",
      "Epoch 63/500\n",
      "480/480 [==============================] - 1s 2ms/step - loss: 0.5697 - acc: 0.7396\n",
      "Epoch 64/500\n",
      "480/480 [==============================] - 1s 2ms/step - loss: 0.5836 - acc: 0.7375\n",
      "Epoch 65/500\n",
      "480/480 [==============================] - 1s 2ms/step - loss: 0.5212 - acc: 0.7417\n",
      "Epoch 66/500\n",
      "480/480 [==============================] - 1s 2ms/step - loss: 0.5981 - acc: 0.7396\n",
      "Epoch 67/500\n",
      "480/480 [==============================] - 1s 2ms/step - loss: 0.5588 - acc: 0.7292\n",
      "Epoch 68/500\n",
      "480/480 [==============================] - 1s 2ms/step - loss: 0.5791 - acc: 0.7292\n",
      "Epoch 69/500\n",
      "480/480 [==============================] - 1s 2ms/step - loss: 0.5932 - acc: 0.7417\n",
      "Epoch 70/500\n",
      "480/480 [==============================] - 1s 2ms/step - loss: 0.5583 - acc: 0.7333\n",
      "Epoch 71/500\n",
      "480/480 [==============================] - 1s 2ms/step - loss: 0.5847 - acc: 0.7396\n",
      "Epoch 72/500\n",
      "480/480 [==============================] - 1s 2ms/step - loss: 0.5612 - acc: 0.7354\n",
      "Epoch 73/500\n",
      "480/480 [==============================] - 1s 2ms/step - loss: 0.5785 - acc: 0.7354\n",
      "Epoch 74/500\n",
      "480/480 [==============================] - 1s 2ms/step - loss: 0.5702 - acc: 0.7208\n",
      "Epoch 75/500\n",
      "480/480 [==============================] - 1s 2ms/step - loss: 0.5625 - acc: 0.7542\n",
      "Epoch 76/500\n",
      "480/480 [==============================] - 1s 2ms/step - loss: 0.5855 - acc: 0.7292\n",
      "Epoch 77/500\n",
      "480/480 [==============================] - 1s 2ms/step - loss: 0.5863 - acc: 0.7458\n",
      "Epoch 78/500\n",
      "480/480 [==============================] - 1s 2ms/step - loss: 0.5806 - acc: 0.7000\n",
      "Epoch 79/500\n",
      "480/480 [==============================] - 1s 2ms/step - loss: 0.5784 - acc: 0.7208\n",
      "Epoch 80/500\n",
      "480/480 [==============================] - 1s 2ms/step - loss: 0.5516 - acc: 0.7312\n",
      "Epoch 81/500\n",
      "480/480 [==============================] - 1s 2ms/step - loss: 0.5861 - acc: 0.7042\n",
      "Epoch 82/500\n",
      "480/480 [==============================] - 1s 2ms/step - loss: 0.5749 - acc: 0.7271\n",
      "Epoch 83/500\n",
      "480/480 [==============================] - 1s 2ms/step - loss: 0.5993 - acc: 0.7292\n",
      "Epoch 84/500\n",
      "480/480 [==============================] - 1s 2ms/step - loss: 0.5883 - acc: 0.7500\n",
      "Epoch 85/500\n",
      "480/480 [==============================] - 1s 2ms/step - loss: 0.5608 - acc: 0.7563\n",
      "Epoch 86/500\n",
      "480/480 [==============================] - 1s 2ms/step - loss: 0.6178 - acc: 0.7229\n",
      "Epoch 87/500\n",
      "480/480 [==============================] - 1s 2ms/step - loss: 0.5991 - acc: 0.7312\n",
      "Epoch 88/500\n",
      "480/480 [==============================] - 1s 2ms/step - loss: 0.5462 - acc: 0.7354\n",
      "Epoch 89/500\n",
      "480/480 [==============================] - 1s 2ms/step - loss: 0.5540 - acc: 0.7146\n",
      "Epoch 90/500\n",
      "480/480 [==============================] - 1s 2ms/step - loss: 0.5668 - acc: 0.7125\n",
      "Epoch 91/500\n",
      "480/480 [==============================] - 1s 2ms/step - loss: 0.5883 - acc: 0.7271\n",
      "Epoch 92/500\n",
      "480/480 [==============================] - 1s 2ms/step - loss: 0.5735 - acc: 0.7437\n",
      "Epoch 93/500\n",
      "480/480 [==============================] - 1s 2ms/step - loss: 0.5810 - acc: 0.7500\n",
      "Epoch 94/500\n",
      "480/480 [==============================] - 1s 2ms/step - loss: 0.6102 - acc: 0.7292\n",
      "Epoch 95/500\n",
      "480/480 [==============================] - 1s 2ms/step - loss: 0.5813 - acc: 0.7375\n",
      "Epoch 96/500\n",
      "480/480 [==============================] - 1s 2ms/step - loss: 0.5600 - acc: 0.7188\n",
      "Epoch 97/500\n",
      "480/480 [==============================] - 1s 2ms/step - loss: 0.5810 - acc: 0.7167\n",
      "Epoch 98/500\n",
      "480/480 [==============================] - 1s 2ms/step - loss: 0.5900 - acc: 0.7167\n",
      "Epoch 99/500\n",
      "480/480 [==============================] - 1s 2ms/step - loss: 0.5753 - acc: 0.7417\n",
      "Epoch 100/500\n",
      "480/480 [==============================] - 1s 2ms/step - loss: 0.5786 - acc: 0.7542\n",
      "Epoch 101/500\n",
      "480/480 [==============================] - 1s 2ms/step - loss: 0.5933 - acc: 0.7375\n",
      "Epoch 102/500\n",
      "480/480 [==============================] - 1s 2ms/step - loss: 0.5774 - acc: 0.7417\n",
      "Epoch 103/500\n",
      "480/480 [==============================] - 1s 2ms/step - loss: 0.5859 - acc: 0.7437\n",
      "Epoch 104/500\n",
      "480/480 [==============================] - 1s 2ms/step - loss: 0.5831 - acc: 0.7271\n",
      "Epoch 105/500\n",
      "480/480 [==============================] - 1s 2ms/step - loss: 0.5766 - acc: 0.7250\n",
      "Epoch 106/500\n",
      "480/480 [==============================] - 1s 2ms/step - loss: 0.6005 - acc: 0.7375\n",
      "Epoch 107/500\n",
      "480/480 [==============================] - 1s 2ms/step - loss: 0.5817 - acc: 0.7292\n",
      "Epoch 108/500\n",
      "480/480 [==============================] - 1s 2ms/step - loss: 0.5847 - acc: 0.7021\n",
      "Epoch 109/500\n",
      "480/480 [==============================] - 1s 2ms/step - loss: 0.5717 - acc: 0.7375\n",
      "Epoch 110/500\n",
      "480/480 [==============================] - 1s 2ms/step - loss: 0.6022 - acc: 0.7250\n",
      "Epoch 111/500\n",
      "480/480 [==============================] - 1s 2ms/step - loss: 0.5658 - acc: 0.7250\n",
      "Epoch 112/500\n",
      "480/480 [==============================] - 1s 2ms/step - loss: 0.5814 - acc: 0.7292\n",
      "Epoch 113/500\n",
      "480/480 [==============================] - 1s 2ms/step - loss: 0.5648 - acc: 0.7771\n",
      "Epoch 114/500\n",
      "480/480 [==============================] - 1s 2ms/step - loss: 0.5875 - acc: 0.7292\n",
      "Epoch 115/500\n",
      "480/480 [==============================] - 1s 2ms/step - loss: 0.5825 - acc: 0.7000\n",
      "Epoch 116/500\n",
      "480/480 [==============================] - 1s 2ms/step - loss: 0.5976 - acc: 0.7146\n",
      "Epoch 117/500\n",
      "480/480 [==============================] - 1s 2ms/step - loss: 0.5988 - acc: 0.7229\n",
      "Epoch 118/500\n",
      "480/480 [==============================] - 1s 2ms/step - loss: 0.5896 - acc: 0.7333\n",
      "Epoch 119/500\n",
      "480/480 [==============================] - 1s 2ms/step - loss: 0.5811 - acc: 0.7417\n",
      "Epoch 120/500\n",
      "480/480 [==============================] - 1s 2ms/step - loss: 0.5892 - acc: 0.7250\n",
      "Epoch 121/500\n",
      "480/480 [==============================] - 1s 2ms/step - loss: 0.5855 - acc: 0.7375\n",
      "Epoch 122/500\n",
      "480/480 [==============================] - 1s 2ms/step - loss: 0.5832 - acc: 0.7292\n",
      "Epoch 123/500\n",
      "480/480 [==============================] - 1s 2ms/step - loss: 0.5847 - acc: 0.7396\n",
      "Epoch 124/500\n",
      "480/480 [==============================] - 1s 2ms/step - loss: 0.5886 - acc: 0.7333\n",
      "Epoch 125/500\n",
      "480/480 [==============================] - 1s 2ms/step - loss: 0.5587 - acc: 0.7354\n",
      "Epoch 126/500\n",
      "480/480 [==============================] - 1s 2ms/step - loss: 0.5836 - acc: 0.7125\n",
      "Epoch 127/500\n",
      "480/480 [==============================] - 1s 2ms/step - loss: 0.5735 - acc: 0.7417\n",
      "Epoch 128/500\n",
      "480/480 [==============================] - 1s 2ms/step - loss: 0.5759 - acc: 0.7375\n",
      "Epoch 129/500\n",
      "480/480 [==============================] - 1s 2ms/step - loss: 0.5907 - acc: 0.7271\n",
      "Epoch 130/500\n",
      "480/480 [==============================] - 1s 2ms/step - loss: 0.5658 - acc: 0.7250\n",
      "Epoch 131/500\n",
      "480/480 [==============================] - 1s 2ms/step - loss: 0.5824 - acc: 0.7271\n",
      "Epoch 132/500\n",
      "480/480 [==============================] - 1s 2ms/step - loss: 0.5675 - acc: 0.7271\n",
      "Epoch 133/500\n",
      "480/480 [==============================] - 1s 2ms/step - loss: 0.5872 - acc: 0.7167\n",
      "Epoch 134/500\n",
      "480/480 [==============================] - 1s 2ms/step - loss: 0.5856 - acc: 0.7250\n",
      "Epoch 135/500\n",
      "480/480 [==============================] - 1s 2ms/step - loss: 0.5902 - acc: 0.7125\n",
      "Epoch 136/500\n",
      "480/480 [==============================] - 1s 2ms/step - loss: 0.5963 - acc: 0.7250\n",
      "Epoch 137/500\n",
      "480/480 [==============================] - 1s 2ms/step - loss: 0.5887 - acc: 0.7417\n",
      "Epoch 138/500\n",
      "480/480 [==============================] - 1s 2ms/step - loss: 0.5700 - acc: 0.7354\n",
      "Epoch 139/500\n",
      "480/480 [==============================] - 1s 2ms/step - loss: 0.5838 - acc: 0.7146\n",
      "Epoch 140/500\n",
      "480/480 [==============================] - 1s 2ms/step - loss: 0.5966 - acc: 0.7146\n",
      "Epoch 141/500\n",
      "480/480 [==============================] - 1s 2ms/step - loss: 0.6098 - acc: 0.7104\n",
      "Epoch 142/500\n",
      "480/480 [==============================] - 1s 2ms/step - loss: 0.5945 - acc: 0.7500\n",
      "Epoch 143/500\n",
      "480/480 [==============================] - 1s 2ms/step - loss: 0.5895 - acc: 0.7500\n",
      "Epoch 144/500\n",
      "480/480 [==============================] - 1s 2ms/step - loss: 0.5700 - acc: 0.7396\n",
      "Epoch 145/500\n",
      "480/480 [==============================] - 1s 2ms/step - loss: 0.5788 - acc: 0.7229\n",
      "Epoch 146/500\n",
      "480/480 [==============================] - 1s 2ms/step - loss: 0.5838 - acc: 0.7521\n",
      "Epoch 147/500\n",
      "480/480 [==============================] - 1s 2ms/step - loss: 0.6049 - acc: 0.7521\n",
      "Epoch 148/500\n",
      "480/480 [==============================] - 1s 2ms/step - loss: 0.6052 - acc: 0.7375\n",
      "Epoch 149/500\n",
      "480/480 [==============================] - 1s 2ms/step - loss: 0.5894 - acc: 0.7354\n",
      "Epoch 150/500\n",
      "480/480 [==============================] - 1s 2ms/step - loss: 0.5842 - acc: 0.7292\n",
      "Epoch 151/500\n",
      "480/480 [==============================] - 1s 2ms/step - loss: 0.5811 - acc: 0.7396\n",
      "Epoch 152/500\n",
      "480/480 [==============================] - 1s 2ms/step - loss: 0.5938 - acc: 0.7188\n",
      "Epoch 153/500\n",
      "480/480 [==============================] - 1s 2ms/step - loss: 0.5654 - acc: 0.7479\n",
      "Epoch 154/500\n",
      "480/480 [==============================] - 1s 2ms/step - loss: 0.5908 - acc: 0.7437\n",
      "Epoch 155/500\n",
      "480/480 [==============================] - 1s 2ms/step - loss: 0.5455 - acc: 0.7479\n",
      "Epoch 156/500\n",
      "480/480 [==============================] - 1s 2ms/step - loss: 0.5834 - acc: 0.7292\n",
      "Epoch 157/500\n",
      "480/480 [==============================] - 1s 2ms/step - loss: 0.5858 - acc: 0.7229\n",
      "Epoch 158/500\n",
      "480/480 [==============================] - 1s 2ms/step - loss: 0.5756 - acc: 0.7312\n",
      "Epoch 159/500\n",
      "480/480 [==============================] - 1s 2ms/step - loss: 0.6017 - acc: 0.7437\n",
      "Epoch 160/500\n",
      "480/480 [==============================] - 1s 2ms/step - loss: 0.5756 - acc: 0.7333\n",
      "Epoch 161/500\n",
      "480/480 [==============================] - 1s 2ms/step - loss: 0.5788 - acc: 0.7312\n",
      "Epoch 162/500\n",
      "480/480 [==============================] - 1s 2ms/step - loss: 0.5796 - acc: 0.7167\n",
      "Epoch 163/500\n",
      "480/480 [==============================] - 1s 2ms/step - loss: 0.5927 - acc: 0.7312\n",
      "Epoch 164/500\n",
      "480/480 [==============================] - 1s 2ms/step - loss: 0.5707 - acc: 0.7312\n",
      "Epoch 165/500\n",
      "480/480 [==============================] - 1s 2ms/step - loss: 0.6010 - acc: 0.7500\n",
      "Epoch 166/500\n",
      "480/480 [==============================] - 1s 2ms/step - loss: 0.5835 - acc: 0.7333\n",
      "Epoch 167/500\n",
      "480/480 [==============================] - 1s 2ms/step - loss: 0.6157 - acc: 0.7375\n",
      "Epoch 168/500\n"
     ]
    },
    {
     "name": "stdout",
     "output_type": "stream",
     "text": [
      "480/480 [==============================] - 1s 2ms/step - loss: 0.5934 - acc: 0.7458\n",
      "Epoch 169/500\n",
      "480/480 [==============================] - 1s 2ms/step - loss: 0.5953 - acc: 0.7229\n",
      "Epoch 170/500\n",
      "480/480 [==============================] - 1s 2ms/step - loss: 0.6013 - acc: 0.7104\n",
      "Epoch 171/500\n",
      "480/480 [==============================] - 1s 2ms/step - loss: 0.5969 - acc: 0.7333\n",
      "Epoch 172/500\n",
      "480/480 [==============================] - 1s 2ms/step - loss: 0.5961 - acc: 0.7333\n",
      "Epoch 173/500\n",
      "480/480 [==============================] - 1s 2ms/step - loss: 0.5882 - acc: 0.7479\n",
      "Epoch 174/500\n",
      "480/480 [==============================] - 1s 2ms/step - loss: 0.5648 - acc: 0.7104\n",
      "Epoch 175/500\n",
      "480/480 [==============================] - 1s 2ms/step - loss: 0.5721 - acc: 0.7125\n",
      "Epoch 176/500\n",
      "480/480 [==============================] - 1s 2ms/step - loss: 0.5893 - acc: 0.7375\n",
      "Epoch 177/500\n",
      "480/480 [==============================] - 1s 2ms/step - loss: 0.5842 - acc: 0.7250\n",
      "Epoch 178/500\n",
      "480/480 [==============================] - 1s 2ms/step - loss: 0.5651 - acc: 0.7396\n",
      "Epoch 179/500\n",
      "480/480 [==============================] - 1s 2ms/step - loss: 0.6148 - acc: 0.7271\n",
      "Epoch 180/500\n",
      "480/480 [==============================] - 1s 2ms/step - loss: 0.5653 - acc: 0.7312\n",
      "Epoch 181/500\n",
      "480/480 [==============================] - 1s 2ms/step - loss: 0.5858 - acc: 0.7188\n",
      "Epoch 182/500\n",
      "480/480 [==============================] - 1s 2ms/step - loss: 0.5766 - acc: 0.7250\n",
      "Epoch 183/500\n",
      "480/480 [==============================] - 1s 2ms/step - loss: 0.6194 - acc: 0.7417\n",
      "Epoch 184/500\n",
      "480/480 [==============================] - 1s 2ms/step - loss: 0.5550 - acc: 0.7375\n",
      "Epoch 185/500\n",
      "480/480 [==============================] - 1s 2ms/step - loss: 0.5804 - acc: 0.7333\n",
      "Epoch 186/500\n",
      "480/480 [==============================] - 1s 2ms/step - loss: 0.5743 - acc: 0.7250\n",
      "Epoch 187/500\n",
      "480/480 [==============================] - 1s 2ms/step - loss: 0.5740 - acc: 0.7354\n",
      "Epoch 188/500\n",
      "480/480 [==============================] - 1s 2ms/step - loss: 0.6057 - acc: 0.7396\n",
      "Epoch 189/500\n",
      "480/480 [==============================] - 1s 2ms/step - loss: 0.6086 - acc: 0.7229\n",
      "Epoch 190/500\n",
      "480/480 [==============================] - 1s 2ms/step - loss: 0.5977 - acc: 0.7333\n",
      "Epoch 191/500\n",
      "480/480 [==============================] - 1s 2ms/step - loss: 0.5478 - acc: 0.7437\n",
      "Epoch 192/500\n",
      "480/480 [==============================] - 1s 2ms/step - loss: 0.5485 - acc: 0.7500\n",
      "Epoch 193/500\n",
      "480/480 [==============================] - 1s 2ms/step - loss: 0.5983 - acc: 0.7188\n",
      "Epoch 194/500\n",
      "480/480 [==============================] - 1s 2ms/step - loss: 0.5898 - acc: 0.7229\n",
      "Epoch 195/500\n",
      "480/480 [==============================] - 1s 2ms/step - loss: 0.5970 - acc: 0.7333\n",
      "Epoch 196/500\n",
      "480/480 [==============================] - 1s 2ms/step - loss: 0.5765 - acc: 0.7292\n",
      "Epoch 197/500\n",
      "480/480 [==============================] - 1s 2ms/step - loss: 0.5997 - acc: 0.7250\n",
      "Epoch 198/500\n",
      "480/480 [==============================] - 1s 2ms/step - loss: 0.5922 - acc: 0.7208\n",
      "Epoch 199/500\n",
      "480/480 [==============================] - 1s 2ms/step - loss: 0.6133 - acc: 0.7063\n",
      "Epoch 200/500\n",
      "480/480 [==============================] - 1s 2ms/step - loss: 0.6016 - acc: 0.7250\n",
      "Epoch 201/500\n",
      "480/480 [==============================] - 1s 2ms/step - loss: 0.5853 - acc: 0.7375\n",
      "Epoch 202/500\n",
      "480/480 [==============================] - 1s 2ms/step - loss: 0.5921 - acc: 0.7375\n",
      "Epoch 203/500\n",
      "480/480 [==============================] - 1s 2ms/step - loss: 0.5697 - acc: 0.7354\n",
      "Epoch 204/500\n",
      "480/480 [==============================] - 1s 2ms/step - loss: 0.5693 - acc: 0.7312\n",
      "Epoch 205/500\n",
      "480/480 [==============================] - 1s 2ms/step - loss: 0.6189 - acc: 0.7208\n",
      "Epoch 206/500\n",
      "480/480 [==============================] - 1s 2ms/step - loss: 0.5889 - acc: 0.7229\n",
      "Epoch 207/500\n",
      "480/480 [==============================] - 1s 2ms/step - loss: 0.6004 - acc: 0.7354\n",
      "Epoch 208/500\n",
      "480/480 [==============================] - 1s 2ms/step - loss: 0.5706 - acc: 0.7479\n",
      "Epoch 209/500\n",
      "480/480 [==============================] - 1s 2ms/step - loss: 0.5876 - acc: 0.7292\n",
      "Epoch 210/500\n",
      "480/480 [==============================] - 1s 2ms/step - loss: 0.5706 - acc: 0.7417\n",
      "Epoch 211/500\n",
      "480/480 [==============================] - 1s 2ms/step - loss: 0.5795 - acc: 0.7271\n",
      "Epoch 212/500\n",
      "480/480 [==============================] - 1s 2ms/step - loss: 0.5764 - acc: 0.7437\n",
      "Epoch 213/500\n",
      "480/480 [==============================] - 1s 2ms/step - loss: 0.6054 - acc: 0.7167\n",
      "Epoch 214/500\n",
      "480/480 [==============================] - 1s 2ms/step - loss: 0.5761 - acc: 0.7104\n",
      "Epoch 215/500\n",
      "480/480 [==============================] - 1s 2ms/step - loss: 0.5919 - acc: 0.7312\n",
      "Epoch 216/500\n",
      "480/480 [==============================] - 1s 2ms/step - loss: 0.5883 - acc: 0.7500\n",
      "Epoch 217/500\n",
      "480/480 [==============================] - 1s 2ms/step - loss: 0.5844 - acc: 0.7125\n",
      "Epoch 218/500\n",
      "480/480 [==============================] - 1s 2ms/step - loss: 0.5953 - acc: 0.7354\n",
      "Epoch 219/500\n",
      "480/480 [==============================] - 1s 2ms/step - loss: 0.5982 - acc: 0.7188\n",
      "Epoch 220/500\n",
      "480/480 [==============================] - 1s 2ms/step - loss: 0.5774 - acc: 0.7375\n",
      "Epoch 221/500\n",
      "480/480 [==============================] - 1s 2ms/step - loss: 0.5853 - acc: 0.7208\n",
      "Epoch 222/500\n",
      "480/480 [==============================] - 1s 2ms/step - loss: 0.5864 - acc: 0.7271\n",
      "Epoch 223/500\n",
      "480/480 [==============================] - 1s 2ms/step - loss: 0.5899 - acc: 0.7354\n",
      "Epoch 224/500\n",
      "480/480 [==============================] - 1s 2ms/step - loss: 0.5788 - acc: 0.7437\n",
      "Epoch 225/500\n",
      "480/480 [==============================] - 1s 2ms/step - loss: 0.5982 - acc: 0.7125\n",
      "Epoch 226/500\n",
      "480/480 [==============================] - 1s 2ms/step - loss: 0.5873 - acc: 0.7229\n",
      "Epoch 227/500\n",
      "480/480 [==============================] - 1s 2ms/step - loss: 0.5737 - acc: 0.7375\n",
      "Epoch 228/500\n",
      "480/480 [==============================] - 1s 2ms/step - loss: 0.5893 - acc: 0.7271\n",
      "Epoch 229/500\n",
      "480/480 [==============================] - 1s 2ms/step - loss: 0.5789 - acc: 0.7229\n",
      "Epoch 230/500\n",
      "480/480 [==============================] - 1s 2ms/step - loss: 0.5722 - acc: 0.7292\n",
      "Epoch 231/500\n",
      "480/480 [==============================] - 1s 2ms/step - loss: 0.6023 - acc: 0.7125\n",
      "Epoch 232/500\n",
      "480/480 [==============================] - 1s 2ms/step - loss: 0.5956 - acc: 0.7375\n",
      "Epoch 233/500\n",
      "480/480 [==============================] - 1s 2ms/step - loss: 0.5694 - acc: 0.7250\n",
      "Epoch 234/500\n",
      "480/480 [==============================] - 1s 2ms/step - loss: 0.5929 - acc: 0.7354\n",
      "Epoch 235/500\n",
      "480/480 [==============================] - 1s 2ms/step - loss: 0.5789 - acc: 0.7563\n",
      "Epoch 236/500\n",
      "480/480 [==============================] - 1s 2ms/step - loss: 0.5832 - acc: 0.7271\n",
      "Epoch 237/500\n",
      "480/480 [==============================] - 1s 2ms/step - loss: 0.5579 - acc: 0.7375\n",
      "Epoch 238/500\n",
      "480/480 [==============================] - 1s 2ms/step - loss: 0.5935 - acc: 0.7479\n",
      "Epoch 239/500\n",
      "480/480 [==============================] - 1s 2ms/step - loss: 0.5791 - acc: 0.7250\n",
      "Epoch 240/500\n",
      "480/480 [==============================] - 1s 2ms/step - loss: 0.5918 - acc: 0.7250\n",
      "Epoch 241/500\n",
      "480/480 [==============================] - 1s 2ms/step - loss: 0.5869 - acc: 0.7437\n",
      "Epoch 242/500\n",
      "480/480 [==============================] - 1s 2ms/step - loss: 0.5794 - acc: 0.7271\n",
      "Epoch 243/500\n",
      "480/480 [==============================] - 1s 2ms/step - loss: 0.5897 - acc: 0.7271\n",
      "Epoch 244/500\n",
      "480/480 [==============================] - 1s 2ms/step - loss: 0.5943 - acc: 0.7583\n",
      "Epoch 245/500\n",
      "480/480 [==============================] - 1s 2ms/step - loss: 0.5702 - acc: 0.7188\n",
      "Epoch 246/500\n",
      "480/480 [==============================] - 1s 2ms/step - loss: 0.5874 - acc: 0.7521\n",
      "Epoch 247/500\n",
      "480/480 [==============================] - 1s 2ms/step - loss: 0.5934 - acc: 0.7375\n",
      "Epoch 248/500\n",
      "480/480 [==============================] - 1s 2ms/step - loss: 0.6010 - acc: 0.7333\n",
      "Epoch 249/500\n",
      "480/480 [==============================] - 1s 2ms/step - loss: 0.5853 - acc: 0.7125\n",
      "Epoch 250/500\n",
      "480/480 [==============================] - 1s 2ms/step - loss: 0.5960 - acc: 0.7667\n",
      "Epoch 251/500\n",
      "480/480 [==============================] - 1s 2ms/step - loss: 0.5953 - acc: 0.7563\n",
      "Epoch 252/500\n",
      "480/480 [==============================] - 1s 2ms/step - loss: 0.5666 - acc: 0.7354\n",
      "Epoch 253/500\n",
      "480/480 [==============================] - 1s 2ms/step - loss: 0.5693 - acc: 0.7312\n",
      "Epoch 254/500\n",
      "480/480 [==============================] - 1s 2ms/step - loss: 0.5754 - acc: 0.7354\n",
      "Epoch 255/500\n",
      "480/480 [==============================] - 1s 2ms/step - loss: 0.5898 - acc: 0.7521\n",
      "Epoch 256/500\n",
      "480/480 [==============================] - 1s 2ms/step - loss: 0.6054 - acc: 0.7229\n",
      "Epoch 257/500\n",
      "480/480 [==============================] - 1s 2ms/step - loss: 0.5881 - acc: 0.7354\n",
      "Epoch 258/500\n",
      "480/480 [==============================] - 1s 2ms/step - loss: 0.5953 - acc: 0.7229\n",
      "Epoch 259/500\n",
      "480/480 [==============================] - 1s 2ms/step - loss: 0.5921 - acc: 0.7146\n",
      "Epoch 260/500\n",
      "480/480 [==============================] - 1s 2ms/step - loss: 0.5588 - acc: 0.7312\n",
      "Epoch 261/500\n",
      "480/480 [==============================] - 1s 2ms/step - loss: 0.5686 - acc: 0.7354\n",
      "Epoch 262/500\n",
      "480/480 [==============================] - 1s 2ms/step - loss: 0.5691 - acc: 0.6875\n",
      "Epoch 263/500\n",
      "480/480 [==============================] - 1s 2ms/step - loss: 0.5950 - acc: 0.7458\n",
      "Epoch 264/500\n",
      "480/480 [==============================] - 1s 2ms/step - loss: 0.5866 - acc: 0.7479\n",
      "Epoch 265/500\n",
      "480/480 [==============================] - 1s 2ms/step - loss: 0.5808 - acc: 0.7563\n",
      "Epoch 266/500\n",
      "480/480 [==============================] - 1s 2ms/step - loss: 0.6183 - acc: 0.7396\n",
      "Epoch 267/500\n",
      "480/480 [==============================] - 1s 2ms/step - loss: 0.5763 - acc: 0.7354\n",
      "Epoch 268/500\n",
      "480/480 [==============================] - 1s 2ms/step - loss: 0.5853 - acc: 0.7229\n",
      "Epoch 269/500\n",
      "480/480 [==============================] - 1s 2ms/step - loss: 0.6097 - acc: 0.7167\n",
      "Epoch 270/500\n",
      "480/480 [==============================] - 1s 2ms/step - loss: 0.5961 - acc: 0.7208\n",
      "Epoch 271/500\n",
      "480/480 [==============================] - 1s 2ms/step - loss: 0.5831 - acc: 0.7417\n",
      "Epoch 272/500\n",
      "480/480 [==============================] - 1s 2ms/step - loss: 0.6075 - acc: 0.7125\n",
      "Epoch 273/500\n",
      "480/480 [==============================] - 1s 2ms/step - loss: 0.6137 - acc: 0.7146\n",
      "Epoch 274/500\n",
      "480/480 [==============================] - 1s 2ms/step - loss: 0.6256 - acc: 0.7188\n",
      "Epoch 275/500\n",
      "480/480 [==============================] - 1s 2ms/step - loss: 0.6162 - acc: 0.7000\n",
      "Epoch 276/500\n",
      "480/480 [==============================] - 1s 2ms/step - loss: 0.5824 - acc: 0.7375\n",
      "Epoch 277/500\n",
      "480/480 [==============================] - 1s 2ms/step - loss: 0.6056 - acc: 0.7021\n",
      "Epoch 278/500\n",
      "480/480 [==============================] - 1s 2ms/step - loss: 0.6263 - acc: 0.7396\n",
      "Epoch 279/500\n",
      "480/480 [==============================] - 1s 2ms/step - loss: 0.6276 - acc: 0.7021\n",
      "Epoch 280/500\n",
      "480/480 [==============================] - 1s 2ms/step - loss: 0.5857 - acc: 0.7396\n",
      "Epoch 281/500\n",
      "480/480 [==============================] - 1s 2ms/step - loss: 0.5829 - acc: 0.7396\n",
      "Epoch 282/500\n",
      "480/480 [==============================] - 1s 2ms/step - loss: 0.5974 - acc: 0.7333\n",
      "Epoch 283/500\n",
      "480/480 [==============================] - 1s 2ms/step - loss: 0.5674 - acc: 0.7354\n",
      "Epoch 284/500\n",
      "480/480 [==============================] - 1s 2ms/step - loss: 0.6129 - acc: 0.7063\n",
      "Epoch 285/500\n",
      "480/480 [==============================] - 1s 2ms/step - loss: 0.5941 - acc: 0.7292\n",
      "Epoch 286/500\n",
      "480/480 [==============================] - 1s 2ms/step - loss: 0.5896 - acc: 0.7271\n",
      "Epoch 287/500\n",
      "480/480 [==============================] - 1s 2ms/step - loss: 0.5944 - acc: 0.7354\n",
      "Epoch 288/500\n",
      "480/480 [==============================] - 1s 2ms/step - loss: 0.5726 - acc: 0.7500\n",
      "Epoch 289/500\n",
      "480/480 [==============================] - 1s 2ms/step - loss: 0.5897 - acc: 0.7167\n",
      "Epoch 290/500\n",
      "480/480 [==============================] - 1s 2ms/step - loss: 0.5752 - acc: 0.7104\n",
      "Epoch 291/500\n",
      "480/480 [==============================] - 1s 2ms/step - loss: 0.5884 - acc: 0.7417\n",
      "Epoch 292/500\n",
      "480/480 [==============================] - 1s 2ms/step - loss: 0.5895 - acc: 0.7292\n",
      "Epoch 293/500\n",
      "480/480 [==============================] - 1s 2ms/step - loss: 0.6026 - acc: 0.7208\n",
      "Epoch 294/500\n",
      "480/480 [==============================] - 1s 2ms/step - loss: 0.6131 - acc: 0.7312\n",
      "Epoch 295/500\n",
      "480/480 [==============================] - 1s 2ms/step - loss: 0.5820 - acc: 0.7188\n",
      "Epoch 296/500\n",
      "480/480 [==============================] - 1s 2ms/step - loss: 0.5926 - acc: 0.7437\n",
      "Epoch 297/500\n",
      "480/480 [==============================] - 1s 2ms/step - loss: 0.5952 - acc: 0.7417\n",
      "Epoch 298/500\n",
      "480/480 [==============================] - 1s 2ms/step - loss: 0.6002 - acc: 0.7125\n",
      "Epoch 299/500\n",
      "480/480 [==============================] - 1s 2ms/step - loss: 0.5986 - acc: 0.7375\n",
      "Epoch 300/500\n",
      "480/480 [==============================] - 1s 2ms/step - loss: 0.5900 - acc: 0.7167\n",
      "Epoch 301/500\n",
      "480/480 [==============================] - 1s 2ms/step - loss: 0.5869 - acc: 0.7375\n",
      "Epoch 302/500\n",
      "480/480 [==============================] - 1s 2ms/step - loss: 0.5973 - acc: 0.7333\n",
      "Epoch 303/500\n",
      "480/480 [==============================] - 1s 2ms/step - loss: 0.5919 - acc: 0.7292\n",
      "Epoch 304/500\n",
      "480/480 [==============================] - 1s 2ms/step - loss: 0.5616 - acc: 0.7479\n",
      "Epoch 305/500\n",
      "480/480 [==============================] - 1s 2ms/step - loss: 0.5775 - acc: 0.7396\n",
      "Epoch 306/500\n",
      "480/480 [==============================] - 1s 2ms/step - loss: 0.5532 - acc: 0.7583\n",
      "Epoch 307/500\n",
      "480/480 [==============================] - 1s 2ms/step - loss: 0.6082 - acc: 0.7333\n",
      "Epoch 308/500\n",
      "480/480 [==============================] - 1s 2ms/step - loss: 0.6229 - acc: 0.7208\n",
      "Epoch 309/500\n",
      "480/480 [==============================] - 1s 2ms/step - loss: 0.5767 - acc: 0.7271\n",
      "Epoch 310/500\n",
      "480/480 [==============================] - 1s 2ms/step - loss: 0.5868 - acc: 0.7437\n",
      "Epoch 311/500\n",
      "480/480 [==============================] - 1s 2ms/step - loss: 0.5851 - acc: 0.7312\n",
      "Epoch 312/500\n",
      "480/480 [==============================] - 1s 2ms/step - loss: 0.5811 - acc: 0.7458\n",
      "Epoch 313/500\n",
      "480/480 [==============================] - 1s 2ms/step - loss: 0.5923 - acc: 0.7250\n",
      "Epoch 314/500\n",
      "480/480 [==============================] - 1s 2ms/step - loss: 0.5614 - acc: 0.7458\n",
      "Epoch 315/500\n",
      "480/480 [==============================] - 1s 2ms/step - loss: 0.5930 - acc: 0.7312\n",
      "Epoch 316/500\n",
      "480/480 [==============================] - 1s 2ms/step - loss: 0.5889 - acc: 0.7458\n",
      "Epoch 317/500\n",
      "480/480 [==============================] - 1s 2ms/step - loss: 0.5793 - acc: 0.7437\n",
      "Epoch 318/500\n",
      "480/480 [==============================] - 1s 2ms/step - loss: 0.5753 - acc: 0.7229\n",
      "Epoch 319/500\n",
      "480/480 [==============================] - 1s 2ms/step - loss: 0.5604 - acc: 0.7375\n",
      "Epoch 320/500\n",
      "480/480 [==============================] - 1s 2ms/step - loss: 0.6047 - acc: 0.7208\n",
      "Epoch 321/500\n",
      "480/480 [==============================] - 1s 2ms/step - loss: 0.6214 - acc: 0.7104\n",
      "Epoch 322/500\n",
      "480/480 [==============================] - 1s 2ms/step - loss: 0.5698 - acc: 0.7229\n",
      "Epoch 323/500\n",
      "480/480 [==============================] - 1s 2ms/step - loss: 0.5716 - acc: 0.7375\n",
      "Epoch 324/500\n",
      "480/480 [==============================] - 1s 2ms/step - loss: 0.5749 - acc: 0.7500\n",
      "Epoch 325/500\n",
      "480/480 [==============================] - 1s 2ms/step - loss: 0.6065 - acc: 0.7167\n",
      "Epoch 326/500\n",
      "480/480 [==============================] - 1s 2ms/step - loss: 0.5875 - acc: 0.7417\n",
      "Epoch 327/500\n",
      "480/480 [==============================] - 1s 2ms/step - loss: 0.6010 - acc: 0.7271\n",
      "Epoch 328/500\n",
      "480/480 [==============================] - 1s 2ms/step - loss: 0.5681 - acc: 0.7542\n",
      "Epoch 329/500\n",
      "480/480 [==============================] - 1s 2ms/step - loss: 0.5978 - acc: 0.7458\n",
      "Epoch 330/500\n",
      "480/480 [==============================] - 1s 2ms/step - loss: 0.5811 - acc: 0.7437\n",
      "Epoch 331/500\n",
      "480/480 [==============================] - 1s 2ms/step - loss: 0.5546 - acc: 0.7417\n",
      "Epoch 332/500\n",
      "480/480 [==============================] - 1s 2ms/step - loss: 0.5813 - acc: 0.7250\n",
      "Epoch 333/500\n",
      "480/480 [==============================] - 1s 2ms/step - loss: 0.5436 - acc: 0.7500\n",
      "Epoch 334/500\n"
     ]
    },
    {
     "name": "stdout",
     "output_type": "stream",
     "text": [
      "480/480 [==============================] - 1s 2ms/step - loss: 0.5936 - acc: 0.7312\n",
      "Epoch 335/500\n",
      "480/480 [==============================] - 1s 2ms/step - loss: 0.5760 - acc: 0.7542\n",
      "Epoch 336/500\n",
      "480/480 [==============================] - 1s 2ms/step - loss: 0.6020 - acc: 0.7375\n",
      "Epoch 337/500\n",
      "480/480 [==============================] - 1s 2ms/step - loss: 0.5727 - acc: 0.7542\n",
      "Epoch 338/500\n",
      "480/480 [==============================] - 1s 2ms/step - loss: 0.5946 - acc: 0.7396\n",
      "Epoch 339/500\n",
      "480/480 [==============================] - 1s 2ms/step - loss: 0.5765 - acc: 0.7354\n",
      "Epoch 340/500\n",
      "480/480 [==============================] - 1s 2ms/step - loss: 0.6073 - acc: 0.7208\n",
      "Epoch 341/500\n",
      "480/480 [==============================] - 1s 2ms/step - loss: 0.5733 - acc: 0.7125\n",
      "Epoch 342/500\n",
      "480/480 [==============================] - 1s 2ms/step - loss: 0.5774 - acc: 0.7396\n",
      "Epoch 343/500\n",
      "480/480 [==============================] - 1s 2ms/step - loss: 0.5873 - acc: 0.7229\n",
      "Epoch 344/500\n",
      "480/480 [==============================] - 1s 2ms/step - loss: 0.6031 - acc: 0.7125\n",
      "Epoch 345/500\n",
      "480/480 [==============================] - 1s 2ms/step - loss: 0.5815 - acc: 0.7312\n",
      "Epoch 346/500\n",
      "480/480 [==============================] - 1s 2ms/step - loss: 0.5965 - acc: 0.7188\n",
      "Epoch 347/500\n",
      "480/480 [==============================] - 1s 2ms/step - loss: 0.6018 - acc: 0.7104\n",
      "Epoch 348/500\n",
      "480/480 [==============================] - 1s 2ms/step - loss: 0.5720 - acc: 0.7229\n",
      "Epoch 349/500\n",
      "480/480 [==============================] - 1s 2ms/step - loss: 0.5876 - acc: 0.7333\n",
      "Epoch 350/500\n",
      "480/480 [==============================] - 1s 2ms/step - loss: 0.5860 - acc: 0.7271\n",
      "Epoch 351/500\n",
      "480/480 [==============================] - 1s 2ms/step - loss: 0.5823 - acc: 0.6917\n",
      "Epoch 352/500\n",
      "480/480 [==============================] - 1s 2ms/step - loss: 0.5879 - acc: 0.7375\n",
      "Epoch 353/500\n",
      "480/480 [==============================] - 1s 2ms/step - loss: 0.5838 - acc: 0.7250\n",
      "Epoch 354/500\n",
      "480/480 [==============================] - 1s 2ms/step - loss: 0.5709 - acc: 0.7312\n",
      "Epoch 355/500\n",
      "480/480 [==============================] - 1s 2ms/step - loss: 0.5908 - acc: 0.7208\n",
      "Epoch 356/500\n",
      "480/480 [==============================] - 1s 2ms/step - loss: 0.5879 - acc: 0.7375\n",
      "Epoch 357/500\n",
      "480/480 [==============================] - 1s 2ms/step - loss: 0.6076 - acc: 0.7458\n",
      "Epoch 358/500\n",
      "480/480 [==============================] - 1s 2ms/step - loss: 0.6032 - acc: 0.7271\n",
      "Epoch 359/500\n",
      "480/480 [==============================] - 1s 2ms/step - loss: 0.5690 - acc: 0.7396\n",
      "Epoch 360/500\n",
      "480/480 [==============================] - 1s 2ms/step - loss: 0.5791 - acc: 0.7479\n",
      "Epoch 361/500\n",
      "480/480 [==============================] - 1s 2ms/step - loss: 0.6031 - acc: 0.7250\n",
      "Epoch 362/500\n",
      "480/480 [==============================] - 1s 2ms/step - loss: 0.5683 - acc: 0.7396\n",
      "Epoch 363/500\n",
      "480/480 [==============================] - 1s 2ms/step - loss: 0.5790 - acc: 0.7375\n",
      "Epoch 364/500\n",
      "480/480 [==============================] - 1s 2ms/step - loss: 0.5978 - acc: 0.7208\n",
      "Epoch 365/500\n",
      "480/480 [==============================] - 1s 2ms/step - loss: 0.5758 - acc: 0.7271\n",
      "Epoch 366/500\n",
      "480/480 [==============================] - 1s 2ms/step - loss: 0.5880 - acc: 0.7333\n",
      "Epoch 367/500\n",
      "480/480 [==============================] - 1s 2ms/step - loss: 0.5722 - acc: 0.7417\n",
      "Epoch 368/500\n",
      "480/480 [==============================] - 1s 2ms/step - loss: 0.5734 - acc: 0.7271\n",
      "Epoch 369/500\n",
      "480/480 [==============================] - 1s 2ms/step - loss: 0.5649 - acc: 0.7354\n",
      "Epoch 370/500\n",
      "480/480 [==============================] - 1s 2ms/step - loss: 0.5590 - acc: 0.7354\n",
      "Epoch 371/500\n",
      "480/480 [==============================] - 1s 2ms/step - loss: 0.6061 - acc: 0.7375\n",
      "Epoch 372/500\n",
      "480/480 [==============================] - 1s 2ms/step - loss: 0.5790 - acc: 0.7292\n",
      "Epoch 373/500\n",
      "480/480 [==============================] - 1s 2ms/step - loss: 0.5861 - acc: 0.7542\n",
      "Epoch 374/500\n",
      "480/480 [==============================] - 1s 2ms/step - loss: 0.6149 - acc: 0.7104\n",
      "Epoch 375/500\n",
      "480/480 [==============================] - 1s 2ms/step - loss: 0.5874 - acc: 0.7458\n",
      "Epoch 376/500\n",
      "480/480 [==============================] - 1s 2ms/step - loss: 0.5675 - acc: 0.7458\n",
      "Epoch 377/500\n",
      "480/480 [==============================] - 1s 2ms/step - loss: 0.5824 - acc: 0.7437\n",
      "Epoch 378/500\n",
      "480/480 [==============================] - 1s 2ms/step - loss: 0.5914 - acc: 0.7167\n",
      "Epoch 379/500\n",
      "480/480 [==============================] - 1s 2ms/step - loss: 0.5698 - acc: 0.7417\n",
      "Epoch 380/500\n",
      "480/480 [==============================] - 1s 2ms/step - loss: 0.6002 - acc: 0.7396\n",
      "Epoch 381/500\n",
      "480/480 [==============================] - 1s 2ms/step - loss: 0.5578 - acc: 0.7417\n",
      "Epoch 382/500\n",
      "480/480 [==============================] - 1s 2ms/step - loss: 0.5794 - acc: 0.7542\n",
      "Epoch 383/500\n",
      "480/480 [==============================] - 1s 2ms/step - loss: 0.5854 - acc: 0.7375\n",
      "Epoch 384/500\n",
      "480/480 [==============================] - 1s 2ms/step - loss: 0.5474 - acc: 0.7250\n",
      "Epoch 385/500\n",
      "480/480 [==============================] - 1s 2ms/step - loss: 0.5945 - acc: 0.7229\n",
      "Epoch 386/500\n",
      "480/480 [==============================] - 1s 2ms/step - loss: 0.5759 - acc: 0.7688\n",
      "Epoch 387/500\n",
      "480/480 [==============================] - 1s 2ms/step - loss: 0.5821 - acc: 0.7146\n",
      "Epoch 388/500\n",
      "480/480 [==============================] - 1s 2ms/step - loss: 0.5710 - acc: 0.7312\n",
      "Epoch 389/500\n",
      "480/480 [==============================] - 1s 2ms/step - loss: 0.6155 - acc: 0.7354\n",
      "Epoch 390/500\n",
      "480/480 [==============================] - 1s 2ms/step - loss: 0.5566 - acc: 0.7542\n",
      "Epoch 391/500\n",
      "480/480 [==============================] - 1s 2ms/step - loss: 0.6028 - acc: 0.7333\n",
      "Epoch 392/500\n",
      "480/480 [==============================] - 1s 2ms/step - loss: 0.5822 - acc: 0.7458\n",
      "Epoch 393/500\n",
      "480/480 [==============================] - 1s 2ms/step - loss: 0.5582 - acc: 0.7312\n",
      "Epoch 394/500\n",
      "480/480 [==============================] - 1s 2ms/step - loss: 0.5750 - acc: 0.7396\n",
      "Epoch 395/500\n",
      "480/480 [==============================] - 1s 2ms/step - loss: 0.5421 - acc: 0.7271\n",
      "Epoch 396/500\n",
      "480/480 [==============================] - 1s 2ms/step - loss: 0.6008 - acc: 0.7312\n",
      "Epoch 397/500\n",
      "480/480 [==============================] - 1s 2ms/step - loss: 0.5789 - acc: 0.7437\n",
      "Epoch 398/500\n",
      "480/480 [==============================] - 1s 2ms/step - loss: 0.6077 - acc: 0.7208\n",
      "Epoch 399/500\n",
      "480/480 [==============================] - 1s 2ms/step - loss: 0.5654 - acc: 0.7375\n",
      "Epoch 400/500\n",
      "480/480 [==============================] - 1s 2ms/step - loss: 0.5730 - acc: 0.7333\n",
      "Epoch 401/500\n",
      "480/480 [==============================] - 1s 2ms/step - loss: 0.5924 - acc: 0.7208\n",
      "Epoch 402/500\n",
      "480/480 [==============================] - 1s 2ms/step - loss: 0.5695 - acc: 0.7312\n",
      "Epoch 403/500\n",
      "480/480 [==============================] - 1s 2ms/step - loss: 0.5815 - acc: 0.7458\n",
      "Epoch 404/500\n",
      "480/480 [==============================] - 1s 2ms/step - loss: 0.5664 - acc: 0.7375\n",
      "Epoch 405/500\n",
      "480/480 [==============================] - 1s 2ms/step - loss: 0.5924 - acc: 0.7458\n",
      "Epoch 406/500\n",
      "480/480 [==============================] - 1s 2ms/step - loss: 0.5861 - acc: 0.7333\n",
      "Epoch 407/500\n",
      "480/480 [==============================] - 1s 2ms/step - loss: 0.5892 - acc: 0.7229\n",
      "Epoch 408/500\n",
      "480/480 [==============================] - 1s 2ms/step - loss: 0.5794 - acc: 0.7500\n",
      "Epoch 409/500\n",
      "480/480 [==============================] - 1s 2ms/step - loss: 0.5843 - acc: 0.7375\n",
      "Epoch 410/500\n",
      "480/480 [==============================] - 1s 2ms/step - loss: 0.5739 - acc: 0.7375\n",
      "Epoch 411/500\n",
      "480/480 [==============================] - 1s 2ms/step - loss: 0.5986 - acc: 0.7354\n",
      "Epoch 412/500\n",
      "480/480 [==============================] - 1s 2ms/step - loss: 0.6000 - acc: 0.6979\n",
      "Epoch 413/500\n",
      "480/480 [==============================] - 1s 2ms/step - loss: 0.5855 - acc: 0.7167\n",
      "Epoch 414/500\n",
      "480/480 [==============================] - 1s 2ms/step - loss: 0.5722 - acc: 0.7188\n",
      "Epoch 415/500\n",
      "480/480 [==============================] - 1s 2ms/step - loss: 0.5758 - acc: 0.7417\n",
      "Epoch 416/500\n",
      "480/480 [==============================] - 1s 2ms/step - loss: 0.5782 - acc: 0.7292\n",
      "Epoch 417/500\n",
      "480/480 [==============================] - 1s 2ms/step - loss: 0.6183 - acc: 0.7167\n",
      "Epoch 418/500\n",
      "480/480 [==============================] - 1s 2ms/step - loss: 0.5695 - acc: 0.7292\n",
      "Epoch 419/500\n",
      "480/480 [==============================] - 1s 2ms/step - loss: 0.5840 - acc: 0.7563\n",
      "Epoch 420/500\n",
      "480/480 [==============================] - 1s 2ms/step - loss: 0.5871 - acc: 0.7250\n",
      "Epoch 421/500\n",
      "480/480 [==============================] - 1s 2ms/step - loss: 0.5970 - acc: 0.7396\n",
      "Epoch 422/500\n",
      "480/480 [==============================] - 1s 2ms/step - loss: 0.5575 - acc: 0.7292\n",
      "Epoch 423/500\n",
      "480/480 [==============================] - 1s 2ms/step - loss: 0.5710 - acc: 0.7271\n",
      "Epoch 424/500\n",
      "480/480 [==============================] - 1s 2ms/step - loss: 0.5621 - acc: 0.7396\n",
      "Epoch 425/500\n",
      "480/480 [==============================] - 1s 2ms/step - loss: 0.5954 - acc: 0.7375\n",
      "Epoch 426/500\n",
      "480/480 [==============================] - 1s 2ms/step - loss: 0.5807 - acc: 0.7167\n",
      "Epoch 427/500\n",
      "480/480 [==============================] - 1s 2ms/step - loss: 0.5626 - acc: 0.7479\n",
      "Epoch 428/500\n",
      "480/480 [==============================] - 1s 2ms/step - loss: 0.5714 - acc: 0.7396\n",
      "Epoch 429/500\n",
      "480/480 [==============================] - 1s 2ms/step - loss: 0.5770 - acc: 0.7333\n",
      "Epoch 430/500\n",
      "480/480 [==============================] - 1s 2ms/step - loss: 0.5670 - acc: 0.7625\n",
      "Epoch 431/500\n",
      "480/480 [==============================] - 1s 2ms/step - loss: 0.5966 - acc: 0.7396\n",
      "Epoch 432/500\n",
      "480/480 [==============================] - 1s 2ms/step - loss: 0.5977 - acc: 0.7271\n",
      "Epoch 433/500\n",
      "480/480 [==============================] - 1s 2ms/step - loss: 0.5891 - acc: 0.7375\n",
      "Epoch 434/500\n",
      "480/480 [==============================] - 1s 2ms/step - loss: 0.5715 - acc: 0.7563\n",
      "Epoch 435/500\n",
      "480/480 [==============================] - 1s 2ms/step - loss: 0.5738 - acc: 0.7312\n",
      "Epoch 436/500\n",
      "480/480 [==============================] - 1s 2ms/step - loss: 0.5805 - acc: 0.7042\n",
      "Epoch 437/500\n",
      "480/480 [==============================] - 1s 2ms/step - loss: 0.5808 - acc: 0.7375\n",
      "Epoch 438/500\n",
      "480/480 [==============================] - 1s 2ms/step - loss: 0.5939 - acc: 0.7437\n",
      "Epoch 439/500\n",
      "480/480 [==============================] - 1s 2ms/step - loss: 0.5775 - acc: 0.7396\n",
      "Epoch 440/500\n",
      "480/480 [==============================] - 1s 2ms/step - loss: 0.6075 - acc: 0.7229\n",
      "Epoch 441/500\n",
      "480/480 [==============================] - 1s 2ms/step - loss: 0.6059 - acc: 0.7354\n",
      "Epoch 442/500\n",
      "480/480 [==============================] - 1s 2ms/step - loss: 0.5974 - acc: 0.7333\n",
      "Epoch 443/500\n",
      "480/480 [==============================] - 1s 2ms/step - loss: 0.5587 - acc: 0.7396\n",
      "Epoch 444/500\n",
      "480/480 [==============================] - 1s 2ms/step - loss: 0.5908 - acc: 0.7437\n",
      "Epoch 445/500\n",
      "480/480 [==============================] - 1s 2ms/step - loss: 0.5703 - acc: 0.7417\n",
      "Epoch 446/500\n",
      "480/480 [==============================] - 1s 2ms/step - loss: 0.5872 - acc: 0.7563\n",
      "Epoch 447/500\n",
      "480/480 [==============================] - 1s 2ms/step - loss: 0.5740 - acc: 0.7479\n",
      "Epoch 448/500\n",
      "480/480 [==============================] - 1s 2ms/step - loss: 0.5817 - acc: 0.7458\n",
      "Epoch 449/500\n",
      "480/480 [==============================] - 1s 2ms/step - loss: 0.5723 - acc: 0.7437\n",
      "Epoch 450/500\n",
      "480/480 [==============================] - 1s 2ms/step - loss: 0.5680 - acc: 0.7375\n",
      "Epoch 451/500\n",
      "480/480 [==============================] - 1s 2ms/step - loss: 0.5987 - acc: 0.7104\n",
      "Epoch 452/500\n",
      "480/480 [==============================] - 1s 2ms/step - loss: 0.5897 - acc: 0.7271\n",
      "Epoch 453/500\n",
      "480/480 [==============================] - 1s 2ms/step - loss: 0.5721 - acc: 0.7604\n",
      "Epoch 454/500\n",
      "480/480 [==============================] - 1s 2ms/step - loss: 0.5686 - acc: 0.7583\n",
      "Epoch 455/500\n",
      "480/480 [==============================] - 1s 2ms/step - loss: 0.5768 - acc: 0.7458\n",
      "Epoch 456/500\n",
      "480/480 [==============================] - 1s 2ms/step - loss: 0.5626 - acc: 0.7458\n",
      "Epoch 457/500\n",
      "480/480 [==============================] - 1s 2ms/step - loss: 0.5762 - acc: 0.7333\n",
      "Epoch 458/500\n",
      "480/480 [==============================] - 1s 2ms/step - loss: 0.5586 - acc: 0.7542\n",
      "Epoch 459/500\n",
      "480/480 [==============================] - 1s 2ms/step - loss: 0.5785 - acc: 0.7292\n",
      "Epoch 460/500\n",
      "480/480 [==============================] - 1s 2ms/step - loss: 0.6042 - acc: 0.6938\n",
      "Epoch 461/500\n",
      "480/480 [==============================] - 1s 2ms/step - loss: 0.5832 - acc: 0.7458\n",
      "Epoch 462/500\n",
      "480/480 [==============================] - 1s 2ms/step - loss: 0.5683 - acc: 0.7625\n",
      "Epoch 463/500\n",
      "480/480 [==============================] - 1s 2ms/step - loss: 0.6235 - acc: 0.7208\n",
      "Epoch 464/500\n",
      "480/480 [==============================] - 1s 2ms/step - loss: 0.5672 - acc: 0.7458\n",
      "Epoch 465/500\n",
      "480/480 [==============================] - 1s 2ms/step - loss: 0.5858 - acc: 0.7396\n",
      "Epoch 466/500\n",
      "480/480 [==============================] - 1s 2ms/step - loss: 0.6012 - acc: 0.7208\n",
      "Epoch 467/500\n",
      "480/480 [==============================] - 1s 2ms/step - loss: 0.5956 - acc: 0.7229\n",
      "Epoch 468/500\n",
      "480/480 [==============================] - 1s 2ms/step - loss: 0.5992 - acc: 0.7229\n",
      "Epoch 469/500\n",
      "480/480 [==============================] - 1s 2ms/step - loss: 0.5748 - acc: 0.7396\n",
      "Epoch 470/500\n",
      "480/480 [==============================] - 1s 2ms/step - loss: 0.5928 - acc: 0.7437\n",
      "Epoch 471/500\n",
      "480/480 [==============================] - 1s 2ms/step - loss: 0.5599 - acc: 0.7500\n",
      "Epoch 472/500\n",
      "480/480 [==============================] - 1s 2ms/step - loss: 0.5505 - acc: 0.7500\n",
      "Epoch 473/500\n",
      "480/480 [==============================] - 1s 2ms/step - loss: 0.5915 - acc: 0.7417\n",
      "Epoch 474/500\n",
      "480/480 [==============================] - 1s 2ms/step - loss: 0.5915 - acc: 0.7354\n",
      "Epoch 475/500\n",
      "480/480 [==============================] - 1s 2ms/step - loss: 0.5441 - acc: 0.7479\n",
      "Epoch 476/500\n",
      "480/480 [==============================] - 1s 2ms/step - loss: 0.5932 - acc: 0.7708\n",
      "Epoch 477/500\n",
      "480/480 [==============================] - 1s 2ms/step - loss: 0.5634 - acc: 0.7500\n",
      "Epoch 478/500\n",
      "480/480 [==============================] - 1s 2ms/step - loss: 0.5785 - acc: 0.7333\n",
      "Epoch 479/500\n",
      "480/480 [==============================] - 1s 2ms/step - loss: 0.5933 - acc: 0.7625\n",
      "Epoch 480/500\n",
      "480/480 [==============================] - 1s 2ms/step - loss: 0.6146 - acc: 0.7312\n",
      "Epoch 481/500\n",
      "480/480 [==============================] - 1s 2ms/step - loss: 0.6060 - acc: 0.7083\n",
      "Epoch 482/500\n",
      "480/480 [==============================] - 1s 2ms/step - loss: 0.5862 - acc: 0.7458\n",
      "Epoch 483/500\n",
      "480/480 [==============================] - 1s 2ms/step - loss: 0.6191 - acc: 0.7229\n",
      "Epoch 484/500\n",
      "480/480 [==============================] - 1s 2ms/step - loss: 0.5748 - acc: 0.7312\n",
      "Epoch 485/500\n",
      "480/480 [==============================] - 1s 2ms/step - loss: 0.5726 - acc: 0.7375\n",
      "Epoch 486/500\n",
      "480/480 [==============================] - 1s 2ms/step - loss: 0.5987 - acc: 0.7500\n",
      "Epoch 487/500\n",
      "480/480 [==============================] - 1s 2ms/step - loss: 0.5912 - acc: 0.7354\n",
      "Epoch 488/500\n",
      "480/480 [==============================] - 1s 2ms/step - loss: 0.6025 - acc: 0.7188\n",
      "Epoch 489/500\n",
      "480/480 [==============================] - 1s 2ms/step - loss: 0.5874 - acc: 0.7542\n",
      "Epoch 490/500\n",
      "480/480 [==============================] - 1s 2ms/step - loss: 0.5640 - acc: 0.7312\n",
      "Epoch 491/500\n",
      "480/480 [==============================] - 1s 2ms/step - loss: 0.5773 - acc: 0.7375\n",
      "Epoch 492/500\n",
      "480/480 [==============================] - 1s 2ms/step - loss: 0.5969 - acc: 0.7146\n",
      "Epoch 493/500\n",
      "480/480 [==============================] - 1s 2ms/step - loss: 0.5587 - acc: 0.7479\n",
      "Epoch 494/500\n",
      "480/480 [==============================] - 1s 2ms/step - loss: 0.6176 - acc: 0.7312\n",
      "Epoch 495/500\n",
      "480/480 [==============================] - 1s 2ms/step - loss: 0.5778 - acc: 0.7375\n",
      "Epoch 496/500\n",
      "480/480 [==============================] - 1s 2ms/step - loss: 0.5672 - acc: 0.7417\n",
      "Epoch 497/500\n",
      "480/480 [==============================] - 1s 2ms/step - loss: 0.5708 - acc: 0.7417\n",
      "Epoch 498/500\n",
      "480/480 [==============================] - 1s 2ms/step - loss: 0.5924 - acc: 0.7563\n",
      "Epoch 499/500\n",
      "480/480 [==============================] - 1s 2ms/step - loss: 0.5817 - acc: 0.7125\n",
      "Epoch 500/500\n"
     ]
    },
    {
     "name": "stdout",
     "output_type": "stream",
     "text": [
      "480/480 [==============================] - 1s 2ms/step - loss: 0.5874 - acc: 0.7208\n",
      "121/121 [==============================] - 0s 2ms/step\n"
     ]
    }
   ],
   "source": [
    "# keras 构建多层感知机\n",
    "model = Sequential()\n",
    "model.add(Dense(10, input_dim=x_train.shape[1], activation='relu'))\n",
    "model.add(Dropout(0.3))\n",
    "model.add(Dense(10, activation='relu'))\n",
    "model.add(Dropout(0.3))\n",
    "model.add(Dense(1, activation='sigmoid'))\n",
    "\n",
    "model.compile(loss='binary_crossentropy',\n",
    "              optimizer= 'rmsprop',\n",
    "              metrics=['accuracy'])\n",
    "model.fit(x_train, y_train,\n",
    "          epochs=500,\n",
    "          batch_size=1)\n",
    "score = model.evaluate(x_test, y_test)"
   ]
  },
  {
   "cell_type": "code",
   "execution_count": 47,
   "metadata": {
    "ExecuteTime": {
     "end_time": "2018-11-04T05:32:03.831090Z",
     "start_time": "2018-11-04T05:32:03.825945Z"
    },
    "scrolled": true
   },
   "outputs": [
    {
     "data": {
      "text/plain": [
       "[0.5347461966443653, 0.7933884277816646]"
      ]
     },
     "execution_count": 47,
     "metadata": {},
     "output_type": "execute_result"
    }
   ],
   "source": [
    "score"
   ]
  },
  {
   "cell_type": "code",
   "execution_count": 77,
   "metadata": {
    "ExecuteTime": {
     "end_time": "2018-11-04T05:48:35.314206Z",
     "start_time": "2018-11-04T05:48:35.311465Z"
    }
   },
   "outputs": [],
   "source": [
    "from sklearn.metrics import auc,f1_score,accuracy_score"
   ]
  },
  {
   "cell_type": "code",
   "execution_count": 52,
   "metadata": {
    "ExecuteTime": {
     "end_time": "2018-11-04T05:37:39.785549Z",
     "start_time": "2018-11-04T05:37:39.778420Z"
    },
    "scrolled": false
   },
   "outputs": [
    {
     "data": {
      "text/plain": [
       "array([[75, 13],\n",
       "       [21, 12]])"
      ]
     },
     "execution_count": 52,
     "metadata": {},
     "output_type": "execute_result"
    }
   ],
   "source": [
    "confusion_matrix(model.predict(x_test)>0.2, y_test)"
   ]
  },
  {
   "cell_type": "code",
   "execution_count": 71,
   "metadata": {
    "ExecuteTime": {
     "end_time": "2018-11-04T05:47:28.955845Z",
     "start_time": "2018-11-04T05:47:26.664822Z"
    }
   },
   "outputs": [],
   "source": [
    "th = np.linspace(0, 1, 1000)\n",
    "au = [f1_score(model.predict(x_test)>t, y_test) for t in th]"
   ]
  },
  {
   "cell_type": "code",
   "execution_count": 72,
   "metadata": {
    "ExecuteTime": {
     "end_time": "2018-11-04T05:47:29.866760Z",
     "start_time": "2018-11-04T05:47:29.745968Z"
    },
    "scrolled": true
   },
   "outputs": [
    {
     "data": {
      "text/plain": [
       "[<matplotlib.lines.Line2D at 0x1a40419f98>]"
      ]
     },
     "execution_count": 72,
     "metadata": {},
     "output_type": "execute_result"
    },
    {
     "data": {
      "image/png": "[encoded data removed]",
      "text/plain": [
       "<Figure size 432x288 with 1 Axes>"
      ]
     },
     "metadata": {
      "needs_background": "light"
     },
     "output_type": "display_data"
    }
   ],
   "source": [
    "plt.plot(th, au)"
   ]
  },
  {
   "cell_type": "code",
   "execution_count": 74,
   "metadata": {
    "ExecuteTime": {
     "end_time": "2018-11-04T05:47:54.879338Z",
     "start_time": "2018-11-04T05:47:54.875547Z"
    }
   },
   "outputs": [
    {
     "data": {
      "text/plain": [
       "238"
      ]
     },
     "execution_count": 74,
     "metadata": {},
     "output_type": "execute_result"
    }
   ],
   "source": [
    "i = np.argmax(au)\n",
    "i"
   ]
  },
  {
   "cell_type": "code",
   "execution_count": 75,
   "metadata": {
    "ExecuteTime": {
     "end_time": "2018-11-04T05:48:00.519108Z",
     "start_time": "2018-11-04T05:48:00.515133Z"
    }
   },
   "outputs": [
    {
     "data": {
      "text/plain": [
       "0.23823823823823823"
      ]
     },
     "execution_count": 75,
     "metadata": {},
     "output_type": "execute_result"
    }
   ],
   "source": [
    "th[i]"
   ]
  },
  {
   "cell_type": "code",
   "execution_count": 76,
   "metadata": {
    "ExecuteTime": {
     "end_time": "2018-11-04T05:48:08.197466Z",
     "start_time": "2018-11-04T05:48:08.190006Z"
    }
   },
   "outputs": [
    {
     "data": {
      "text/plain": [
       "array([[82, 13],\n",
       "       [14, 12]])"
      ]
     },
     "execution_count": 76,
     "metadata": {},
     "output_type": "execute_result"
    }
   ],
   "source": [
    "confusion_matrix(model.predict(x_test)>th[i], y_test)"
   ]
  },
  {
   "cell_type": "code",
   "execution_count": 78,
   "metadata": {
    "ExecuteTime": {
     "end_time": "2018-11-04T05:48:45.218699Z",
     "start_time": "2018-11-04T05:48:45.212127Z"
    }
   },
   "outputs": [
    {
     "data": {
      "text/plain": [
       "0.7768595041322314"
      ]
     },
     "execution_count": 78,
     "metadata": {},
     "output_type": "execute_result"
    }
   ],
   "source": [
    "accuracy_score(model.predict(x_test)>th[i], y_test)"
   ]
  }
 ],
 "metadata": {
  "kernelspec": {
   "display_name": "Python 3",
   "language": "python",
   "name": "python3"
  },
  "language_info": {
   "codemirror_mode": {
    "name": "ipython",
    "version": 3
   },
   "file_extension": ".py",
   "mimetype": "text/x-python",
   "name": "python",
   "nbconvert_exporter": "python",
   "pygments_lexer": "ipython3",
   "version": "3.6.7"
  },
  "toc": {
   "base_numbering": 1,
   "nav_menu": {},
   "number_sections": true,
   "sideBar": true,
   "skip_h1_title": false,
   "title_cell": "Table of Contents",
   "title_sidebar": "Contents",
   "toc_cell": false,
   "toc_position": {},
   "toc_section_display": true,
   "toc_window_display": false
  }
 },
 "nbformat": 4,
 "nbformat_minor": 2
}
