{
 "cells": [
  {
   "cell_type": "code",
   "execution_count": 1,
   "metadata": {
    "ExecuteTime": {
     "end_time": "2019-05-01T13:46:13.665757Z",
     "start_time": "2019-05-01T13:46:13.661835Z"
    },
    "colab": {
     "base_uri": "https://localhost:8080/",
     "height": 34
    },
    "colab_type": "code",
    "id": "gehUioAHpqQ5",
    "outputId": "f87b2a8d-9fb2-4761-ba60-f8ef002000f3"
   },
   "outputs": [
    {
     "name": "stderr",
     "output_type": "stream",
     "text": [
      "Using TensorFlow backend.\n"
     ]
    }
   ],
   "source": [
    "from keras.models import Sequential\n",
    "from keras.layers import Dense, Flatten\n",
    "from keras.layers.convolutional import Conv2D, AveragePooling2D\n",
    "import numpy as np\n",
    "from tensorflow.examples.tutorials.mnist import input_data\n",
    "from matplotlib import pyplot\n",
    "import warnings\n",
    "import matplotlib.pyplot as plt\n",
    "warnings.filterwarnings(\"ignore\")"
   ]
  },
  {
   "cell_type": "code",
   "execution_count": 0,
   "metadata": {
    "ExecuteTime": {
     "end_time": "2019-05-01T13:46:13.670550Z",
     "start_time": "2019-05-01T13:46:13.668142Z"
    },
    "colab": {},
    "colab_type": "code",
    "id": "nf1_hwOypqQ_"
   },
   "outputs": [],
   "source": [
    "seed = 167\n",
    "np.random.seed(seed)"
   ]
  },
  {
   "cell_type": "code",
   "execution_count": 3,
   "metadata": {
    "ExecuteTime": {
     "end_time": "2019-05-01T13:46:14.405153Z",
     "start_time": "2019-05-01T13:46:13.673032Z"
    },
    "colab": {
     "base_uri": "https://localhost:8080/",
     "height": 406
    },
    "colab_type": "code",
    "id": "SLRYI6tQpqRC",
    "outputId": "fa37d74a-214c-461b-9a02-13ed71fb3977",
    "scrolled": false
   },
   "outputs": [
    {
     "name": "stdout",
     "output_type": "stream",
     "text": [
      "WARNING:tensorflow:From <ipython-input-3-a839aeb82f4b>:1: read_data_sets (from tensorflow.contrib.learn.python.learn.datasets.mnist) is deprecated and will be removed in a future version.\n",
      "Instructions for updating:\n",
      "Please use alternatives such as official/mnist/dataset.py from tensorflow/models.\n",
      "WARNING:tensorflow:From /usr/local/lib/python3.6/dist-packages/tensorflow/contrib/learn/python/learn/datasets/mnist.py:260: maybe_download (from tensorflow.contrib.learn.python.learn.datasets.base) is deprecated and will be removed in a future version.\n",
      "Instructions for updating:\n",
      "Please write your own downloading logic.\n",
      "WARNING:tensorflow:From /usr/local/lib/python3.6/dist-packages/tensorflow/contrib/learn/python/learn/datasets/mnist.py:262: extract_images (from tensorflow.contrib.learn.python.learn.datasets.mnist) is deprecated and will be removed in a future version.\n",
      "Instructions for updating:\n",
      "Please use tf.data to implement this functionality.\n",
      "Extracting MNIST_data/train-images-idx3-ubyte.gz\n",
      "WARNING:tensorflow:From /usr/local/lib/python3.6/dist-packages/tensorflow/contrib/learn/python/learn/datasets/mnist.py:267: extract_labels (from tensorflow.contrib.learn.python.learn.datasets.mnist) is deprecated and will be removed in a future version.\n",
      "Instructions for updating:\n",
      "Please use tf.data to implement this functionality.\n",
      "Extracting MNIST_data/train-labels-idx1-ubyte.gz\n",
      "WARNING:tensorflow:From /usr/local/lib/python3.6/dist-packages/tensorflow/contrib/learn/python/learn/datasets/mnist.py:110: dense_to_one_hot (from tensorflow.contrib.learn.python.learn.datasets.mnist) is deprecated and will be removed in a future version.\n",
      "Instructions for updating:\n",
      "Please use tf.one_hot on tensors.\n",
      "Extracting MNIST_data/t10k-images-idx3-ubyte.gz\n",
      "Extracting MNIST_data/t10k-labels-idx1-ubyte.gz\n",
      "WARNING:tensorflow:From /usr/local/lib/python3.6/dist-packages/tensorflow/contrib/learn/python/learn/datasets/mnist.py:290: DataSet.__init__ (from tensorflow.contrib.learn.python.learn.datasets.mnist) is deprecated and will be removed in a future version.\n",
      "Instructions for updating:\n",
      "Please use alternatives such as official/mnist/dataset.py from tensorflow/models.\n"
     ]
    }
   ],
   "source": [
    "mnist = input_data.read_data_sets(\"MNIST_data/\", one_hot=True)"
   ]
  },
  {
   "cell_type": "code",
   "execution_count": 4,
   "metadata": {
    "ExecuteTime": {
     "start_time": "2019-05-01T13:46:13.667Z"
    },
    "colab": {
     "base_uri": "https://localhost:8080/",
     "height": 67
    },
    "colab_type": "code",
    "id": "fKAfITzWpqRO",
    "outputId": "926e0858-f63f-4789-800f-afc7b8e30270",
    "scrolled": false
   },
   "outputs": [
    {
     "name": "stdout",
     "output_type": "stream",
     "text": [
      "(55000, 784)\n",
      "(10000, 784)\n",
      "(5000, 784)\n"
     ]
    }
   ],
   "source": [
    "print(mnist.train.images.shape)\n",
    "print(mnist.test.images.shape)\n",
    "print(mnist.validation.images.shape)"
   ]
  },
  {
   "cell_type": "code",
   "execution_count": 5,
   "metadata": {
    "ExecuteTime": {
     "start_time": "2019-05-01T13:46:13.669Z"
    },
    "colab": {
     "base_uri": "https://localhost:8080/",
     "height": 286
    },
    "colab_type": "code",
    "id": "O06Eo334pqRT",
    "outputId": "2def8d79-486d-45bb-cdfd-3edee7f7d122"
   },
   "outputs": [
    {
     "data": {
      "text/plain": [
       "<matplotlib.image.AxesImage at 0x7fc9510b37f0>"
      ]
     },
     "execution_count": 5,
     "metadata": {
      "tags": []
     },
     "output_type": "execute_result"
    },
    {
     "data": {
      "image/png": "[encoded data removed]",
      "text/plain": [
       "<Figure size 432x288 with 1 Axes>"
      ]
     },
     "metadata": {
      "tags": []
     },
     "output_type": "display_data"
    }
   ],
   "source": [
    "pyplot.imshow(mnist.train.images[0].reshape((28 ,28)))"
   ]
  },
  {
   "cell_type": "code",
   "execution_count": 0,
   "metadata": {
    "ExecuteTime": {
     "start_time": "2019-05-01T13:46:13.671Z"
    },
    "colab": {},
    "colab_type": "code",
    "id": "8z2xWA1JpqRY"
   },
   "outputs": [],
   "source": [
    "train_x = mnist.train.images.reshape((-1,28,28,1))\n",
    "train_y = mnist.train.labels\n",
    " \n",
    "valid_x = mnist.validation.images.reshape((-1,28,28,1))\n",
    "valid_y = mnist.validation.labels\n",
    " \n",
    "test_x = mnist.test.images.reshape((-1,28,28,1))\n",
    "test_y = mnist.test.labels"
   ]
  },
  {
   "cell_type": "markdown",
   "metadata": {
    "colab_type": "text",
    "id": "24HUQ7SHpqRd"
   },
   "source": [
    "##  LeNet-5 Architectures:  \n",
    "![](https://cdn-images-1.medium.com/max/2400/1*1TI1aGBZ4dybR6__DI9dzA.png)"
   ]
  },
  {
   "cell_type": "code",
   "execution_count": 7,
   "metadata": {
    "ExecuteTime": {
     "start_time": "2019-05-01T13:46:13.673Z"
    },
    "colab": {
     "base_uri": "https://localhost:8080/",
     "height": 474
    },
    "colab_type": "code",
    "id": "OzxZGxQfpqRe",
    "outputId": "b774e5f5-90b4-4886-e1e7-38bedd2114d4"
   },
   "outputs": [
    {
     "name": "stdout",
     "output_type": "stream",
     "text": [
      "WARNING:tensorflow:From /usr/local/lib/python3.6/dist-packages/tensorflow/python/framework/op_def_library.py:263: colocate_with (from tensorflow.python.framework.ops) is deprecated and will be removed in a future version.\n",
      "Instructions for updating:\n",
      "Colocations handled automatically by placer.\n",
      "_________________________________________________________________\n",
      "Layer (type)                 Output Shape              Param #   \n",
      "=================================================================\n",
      "conv2d_1 (Conv2D)            (None, 28, 28, 6)         156       \n",
      "_________________________________________________________________\n",
      "average_pooling2d_1 (Average (None, 14, 14, 6)         0         \n",
      "_________________________________________________________________\n",
      "conv2d_2 (Conv2D)            (None, 10, 10, 16)        2416      \n",
      "_________________________________________________________________\n",
      "average_pooling2d_2 (Average (None, 5, 5, 16)          0         \n",
      "_________________________________________________________________\n",
      "conv2d_3 (Conv2D)            (None, 1, 1, 120)         48120     \n",
      "_________________________________________________________________\n",
      "flatten_1 (Flatten)          (None, 120)               0         \n",
      "_________________________________________________________________\n",
      "dense_1 (Dense)              (None, 84)                10164     \n",
      "_________________________________________________________________\n",
      "dense_2 (Dense)              (None, 10)                850       \n",
      "=================================================================\n",
      "Total params: 61,706\n",
      "Trainable params: 61,706\n",
      "Non-trainable params: 0\n",
      "_________________________________________________________________\n"
     ]
    }
   ],
   "source": [
    "model = Sequential()\n",
    "\n",
    "# C1 Convolutional Layer\n",
    "model.add(Conv2D(6, kernel_size=(5, 5), strides=(1, 1), activation='relu', \n",
    "                 input_shape=(28,28,1), padding='same'))\n",
    "\n",
    "# S2 Pooling Layer\n",
    "model.add(AveragePooling2D(pool_size=(2, 2)))\n",
    "\n",
    "# C3 Convolutional Layer\n",
    "model.add(Conv2D(16, kernel_size=(5, 5), strides=(1, 1), activation='relu',padding='valid'))\n",
    "\n",
    "# S4 Pooling Layer\n",
    "model.add(AveragePooling2D(pool_size=(2, 2)))\n",
    "\n",
    "# C5 Fully Connected Convolutional Layer\n",
    "model.add(Conv2D(120, kernel_size=(5, 5), activation='relu',\n",
    "                 padding='valid'))\n",
    "#Flatten the CNN output to connect it with fully connected layers\n",
    "model.add(Flatten())\n",
    "\n",
    "# FC6 Fully Connected Layer\n",
    "model.add(Dense(84, activation='relu'))\n",
    "\n",
    "#Output Layer with softmax activation\n",
    "model.add(Dense(10, activation='softmax'))\n",
    "\n",
    "# Compile the model\n",
    "model.compile(optimizer='sgd',loss='categorical_crossentropy',metrics=['accuracy'])\n",
    "\n",
    "# Summary of model\n",
    "model.summary()"
   ]
  },
  {
   "cell_type": "code",
   "execution_count": 8,
   "metadata": {
    "ExecuteTime": {
     "start_time": "2019-05-01T13:46:13.678Z"
    },
    "colab": {
     "base_uri": "https://localhost:8080/",
     "height": 776
    },
    "colab_type": "code",
    "id": "bcLHVHKgpqRi",
    "outputId": "2e86c99a-5861-4cff-c281-3bb548ed0bdd"
   },
   "outputs": [
    {
     "name": "stdout",
     "output_type": "stream",
     "text": [
      "WARNING:tensorflow:From /usr/local/lib/python3.6/dist-packages/tensorflow/python/ops/math_ops.py:3066: to_int32 (from tensorflow.python.ops.math_ops) is deprecated and will be removed in a future version.\n",
      "Instructions for updating:\n",
      "Use tf.cast instead.\n",
      "Train on 55000 samples, validate on 5000 samples\n",
      "Epoch 1/20\n",
      " - 11s - loss: 0.5619 - acc: 0.8279 - val_loss: 0.2067 - val_acc: 0.9402\n",
      "Epoch 2/20\n",
      " - 9s - loss: 0.1765 - acc: 0.9457 - val_loss: 0.1174 - val_acc: 0.9658\n",
      "Epoch 3/20\n",
      " - 9s - loss: 0.1222 - acc: 0.9620 - val_loss: 0.0870 - val_acc: 0.9750\n",
      "Epoch 4/20\n",
      " - 10s - loss: 0.0939 - acc: 0.9710 - val_loss: 0.0712 - val_acc: 0.9806\n",
      "Epoch 5/20\n",
      " - 9s - loss: 0.0769 - acc: 0.9759 - val_loss: 0.0696 - val_acc: 0.9788\n",
      "Epoch 6/20\n",
      " - 9s - loss: 0.0659 - acc: 0.9790 - val_loss: 0.0731 - val_acc: 0.9798\n",
      "Epoch 7/20\n",
      " - 9s - loss: 0.0570 - acc: 0.9818 - val_loss: 0.0529 - val_acc: 0.9854\n",
      "Epoch 8/20\n",
      " - 9s - loss: 0.0507 - acc: 0.9840 - val_loss: 0.0591 - val_acc: 0.9816\n",
      "Epoch 9/20\n",
      " - 9s - loss: 0.0456 - acc: 0.9857 - val_loss: 0.0556 - val_acc: 0.9842\n",
      "Epoch 10/20\n",
      " - 9s - loss: 0.0411 - acc: 0.9869 - val_loss: 0.0613 - val_acc: 0.9812\n",
      "Epoch 11/20\n",
      " - 9s - loss: 0.0372 - acc: 0.9876 - val_loss: 0.0542 - val_acc: 0.9848\n",
      "Epoch 12/20\n",
      " - 9s - loss: 0.0330 - acc: 0.9894 - val_loss: 0.0553 - val_acc: 0.9850\n",
      "Epoch 13/20\n",
      " - 10s - loss: 0.0309 - acc: 0.9899 - val_loss: 0.0480 - val_acc: 0.9866\n",
      "Epoch 14/20\n",
      " - 9s - loss: 0.0286 - acc: 0.9904 - val_loss: 0.0501 - val_acc: 0.9850\n",
      "Epoch 15/20\n",
      " - 9s - loss: 0.0257 - acc: 0.9921 - val_loss: 0.0485 - val_acc: 0.9872\n",
      "Epoch 16/20\n",
      " - 9s - loss: 0.0236 - acc: 0.9923 - val_loss: 0.0441 - val_acc: 0.9874\n",
      "Epoch 17/20\n",
      " - 9s - loss: 0.0220 - acc: 0.9931 - val_loss: 0.0440 - val_acc: 0.9890\n",
      "Epoch 18/20\n",
      " - 9s - loss: 0.0209 - acc: 0.9933 - val_loss: 0.0448 - val_acc: 0.9886\n",
      "Epoch 19/20\n",
      " - 9s - loss: 0.0186 - acc: 0.9946 - val_loss: 0.0428 - val_acc: 0.9886\n",
      "Epoch 20/20\n",
      " - 9s - loss: 0.0176 - acc: 0.9941 - val_loss: 0.0486 - val_acc: 0.9870\n"
     ]
    }
   ],
   "source": [
    "history = model.fit(train_x, train_y, validation_data=(valid_x, valid_y), batch_size=20, epochs=20, verbose=2)"
   ]
  },
  {
   "cell_type": "code",
   "execution_count": 9,
   "metadata": {
    "ExecuteTime": {
     "start_time": "2019-05-01T13:46:13.680Z"
    },
    "colab": {
     "base_uri": "https://localhost:8080/",
     "height": 34
    },
    "colab_type": "code",
    "id": "aYZizF_3pqRm",
    "outputId": "effc354f-7b77-48e2-ad2a-3c6181c26af2"
   },
   "outputs": [
    {
     "name": "stdout",
     "output_type": "stream",
     "text": [
      "[0.03980240287391939, 0.9870999971628189]\n"
     ]
    }
   ],
   "source": [
    "print(model.evaluate(test_x, test_y, batch_size=20, verbose=2))"
   ]
  },
  {
   "cell_type": "code",
   "execution_count": 10,
   "metadata": {
    "colab": {
     "base_uri": "https://localhost:8080/",
     "height": 295
    },
    "colab_type": "code",
    "id": "rui-A6CbsK2E",
    "outputId": "b8515e35-08bb-415f-9473-aecea36d3b84"
   },
   "outputs": [
    {
     "data": {
      "image/png": "[encoded data removed]",
      "text/plain": [
       "<Figure size 432x288 with 1 Axes>"
      ]
     },
     "metadata": {
      "tags": []
     },
     "output_type": "display_data"
    }
   ],
   "source": [
    "# Accuracy Visualization\n",
    "plt.plot(history.history['acc'])\n",
    "plt.plot(history.history['val_acc'])\n",
    "plt.title('Model accuracy')\n",
    "plt.ylabel('Accuracy')\n",
    "plt.xlabel('Epoch')\n",
    "plt.legend(['Train', 'Test'], loc='upper left')\n",
    "plt.show()"
   ]
  },
  {
   "cell_type": "code",
   "execution_count": 11,
   "metadata": {
    "colab": {
     "base_uri": "https://localhost:8080/",
     "height": 295
    },
    "colab_type": "code",
    "id": "062PCQOHsiwp",
    "outputId": "09292bea-d798-46cc-f5b4-91e797b23de1"
   },
   "outputs": [
    {
     "data": {
      "image/png": "[encoded data removed]",
      "text/plain": [
       "<Figure size 432x288 with 1 Axes>"
      ]
     },
     "metadata": {
      "tags": []
     },
     "output_type": "display_data"
    }
   ],
   "source": [
    "# Model loss Visualization\n",
    "plt.plot(history.history['loss'])\n",
    "plt.plot(history.history['val_loss'])\n",
    "plt.title('Model loss')\n",
    "plt.ylabel('Loss')\n",
    "plt.xlabel('Epoch')\n",
    "plt.legend(['Train', 'Test'], loc='upper left')\n",
    "plt.show()"
   ]
  }
 ],
 "metadata": {
  "accelerator": "GPU",
  "colab": {
   "collapsed_sections": [],
   "name": "LeNet.ipynb",
   "provenance": [],
   "version": "0.3.2"
  },
  "kernelspec": {
   "display_name": "Python 3",
   "language": "python",
   "name": "python3"
  },
  "language_info": {
   "codemirror_mode": {
    "name": "ipython",
    "version": 3
   },
   "file_extension": ".py",
   "mimetype": "text/x-python",
   "name": "python",
   "nbconvert_exporter": "python",
   "pygments_lexer": "ipython3",
   "version": "3.6.7"
  },
  "toc": {
   "base_numbering": 1,
   "nav_menu": {},
   "number_sections": true,
   "sideBar": true,
   "skip_h1_title": false,
   "title_cell": "Table of Contents",
   "title_sidebar": "Contents",
   "toc_cell": false,
   "toc_position": {},
   "toc_section_display": true,
   "toc_window_display": false
  }
 },
 "nbformat": 4,
 "nbformat_minor": 1
}
