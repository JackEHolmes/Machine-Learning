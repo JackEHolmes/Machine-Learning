{
 "cells": [
  {
   "cell_type": "code",
   "execution_count": 1,
   "metadata": {
    "ExecuteTime": {
     "end_time": "2019-01-20T15:52:09.825556Z",
     "start_time": "2019-01-20T15:52:06.264684Z"
    }
   },
   "outputs": [],
   "source": [
    "import numpy as np\n",
    "import tensorflow as tf\n",
    "import matplotlib.pyplot as plt\n",
    "from sklearn.model_selection import train_test_split\n",
    "import seaborn as sns\n",
    "import pandas as pd"
   ]
  },
  {
   "cell_type": "code",
   "execution_count": 2,
   "metadata": {
    "ExecuteTime": {
     "end_time": "2019-01-20T15:52:09.843042Z",
     "start_time": "2019-01-20T15:52:09.829077Z"
    }
   },
   "outputs": [],
   "source": [
    "class LMS():\n",
    "    \n",
    "    def __init__(self, nodes_n=0):\n",
    "        if nodes_n==0: raise\n",
    "        self.weight = np.concatenate((np.random.randn(nodes_n), np.zeros(1)))\n",
    "        self.weights = pd.DataFrame()\n",
    "        self.weights = self.weights.append(pd.Series(self.weight) ,ignore_index=True)\n",
    "        \n",
    "    def predict(self, x):\n",
    "        x = self.augmentMatrix(x)\n",
    "        return np.dot(self.weight, x.T).reshape(-1,1)\n",
    "    \n",
    "    def result(self, x):\n",
    "        return np.dot(self.weight, np.array([*x,1]).T)\n",
    "    \n",
    "    def fit(self, train_x, train_y, learning_rate=0.01, epoches=5, display_step=10):\n",
    "        \n",
    "        train_n = 0\n",
    "        for epoch in range(1,epoches+1):\n",
    "            for (x, y) in zip(train_x, train_y):\n",
    "                self.weight += (y-self.result(x))*self.augmentMatrix(x)*learning_rate\n",
    "                train_n += 1\n",
    "                self.weights = self.weights.append(pd.Series(self.weight) ,ignore_index=True)\n",
    "                if train_n % display_step ==0 :\n",
    "                    print(\"train_n=\", train_n, \"epoch=\", epoch, \"\\t\", \"loss = \", self.cost(train_x, train_y))\n",
    "                    print(\"weight:\", self.get_weight(), \"\\t\", \"bias:\", self.get_bias())\n",
    "        print(\"Done!\")\n",
    "            \n",
    "    def cost(self, x, y):\n",
    "        return 1/len(x)*sum(sum(abs(self.predict(i)-y) for i in x))\n",
    "        \n",
    "    def get_weight(self):\n",
    "        return self.weight[:-1]\n",
    "    \n",
    "    def get_weights(self):\n",
    "        return self.weights\n",
    "    \n",
    "    def get_bias(self):\n",
    "        return self.weight[-1]\n",
    "    \n",
    "    def augmentMatrix(self, x):\n",
    "        return np.array([[*a,1] for a in x]) if len(np.shape(x))!=1 else np.array([*x,1])"
   ]
  },
  {
   "cell_type": "code",
   "execution_count": 3,
   "metadata": {
    "ExecuteTime": {
     "end_time": "2019-01-20T15:52:09.853472Z",
     "start_time": "2019-01-20T15:52:09.845138Z"
    },
    "scrolled": true
   },
   "outputs": [
    {
     "data": {
      "text/plain": [
       "((200, 3), (200, 1))"
      ]
     },
     "execution_count": 3,
     "metadata": {},
     "output_type": "execute_result"
    }
   ],
   "source": [
    "# Generating data\n",
    "a = np.random.randn(200,1)\n",
    "b = np.random.randn(200,1)\n",
    "c = np.random.randn(200,1)\n",
    "data_x = np.concatenate([a, b ,c] ,axis=1)\n",
    "data_y = a + b*2 +c*3 + 4+ np.random.randn(200,1)*0.2\n",
    "data_x.shape, data_y.shape"
   ]
  },
  {
   "cell_type": "code",
   "execution_count": 4,
   "metadata": {
    "ExecuteTime": {
     "end_time": "2019-01-20T15:52:09.861994Z",
     "start_time": "2019-01-20T15:52:09.857280Z"
    }
   },
   "outputs": [],
   "source": [
    "train_x, test_x, train_y, test_y = train_test_split(data_x, data_y, test_size=0.3, random_state=233)"
   ]
  },
  {
   "cell_type": "code",
   "execution_count": 5,
   "metadata": {
    "ExecuteTime": {
     "end_time": "2019-01-20T15:52:09.871131Z",
     "start_time": "2019-01-20T15:52:09.863842Z"
    }
   },
   "outputs": [],
   "source": [
    "lms = LMS(3)"
   ]
  },
  {
   "cell_type": "code",
   "execution_count": 6,
   "metadata": {
    "ExecuteTime": {
     "end_time": "2019-01-20T15:52:10.822335Z",
     "start_time": "2019-01-20T15:52:09.873211Z"
    },
    "scrolled": false
   },
   "outputs": [
    {
     "name": "stdout",
     "output_type": "stream",
     "text": [
      "train_n= 20 epoch= 1 \t loss =  [594.39427673]\n",
      "weight: [-0.5569264  -0.3161492   0.75621597] \t bias: 0.6788279516283118\n",
      "train_n= 40 epoch= 1 \t loss =  [563.53625179]\n",
      "weight: [-0.55117762  0.02139126  1.66019602] \t bias: 1.466269331168166\n",
      "train_n= 60 epoch= 1 \t loss =  [551.61361922]\n",
      "weight: [-0.23354307  0.40277885  1.82281188] \t bias: 1.8285235040637602\n",
      "train_n= 80 epoch= 1 \t loss =  [558.5478199]\n",
      "weight: [0.06149907 0.80698131 2.10561468] \t bias: 2.1300984550540365\n",
      "train_n= 100 epoch= 1 \t loss =  [559.03548808]\n",
      "weight: [0.18456226 1.05057223 2.19409125] \t bias: 2.389021107431722\n",
      "train_n= 120 epoch= 1 \t loss =  [572.48294511]\n",
      "weight: [0.23180082 1.26811581 2.4926154 ] \t bias: 2.7277997797258604\n",
      "train_n= 140 epoch= 1 \t loss =  [575.60201203]\n",
      "weight: [0.35962833 1.3658146  2.57026949] \t bias: 2.933459399906936\n",
      "train_n= 160 epoch= 2 \t loss =  [576.02696567]\n",
      "weight: [0.43347074 1.47099941 2.58064301] \t bias: 3.1230941462932145\n",
      "train_n= 180 epoch= 2 \t loss =  [588.10813471]\n",
      "weight: [0.4579863  1.53801597 2.77490319] \t bias: 3.322835709600008\n",
      "train_n= 200 epoch= 2 \t loss =  [592.76027805]\n",
      "weight: [0.5772971  1.62790005 2.80377161] \t bias: 3.4213384465054975\n",
      "train_n= 220 epoch= 2 \t loss =  [600.60378543]\n",
      "weight: [0.67196909 1.72505251 2.86692597] \t bias: 3.506148349727599\n",
      "train_n= 240 epoch= 2 \t loss =  [602.79287276]\n",
      "weight: [0.7147007  1.77919045 2.87072179] \t bias: 3.5693951837394864\n",
      "train_n= 260 epoch= 2 \t loss =  [608.85328599]\n",
      "weight: [0.7373986  1.83260578 2.93367372] \t bias: 3.650650069734132\n",
      "train_n= 280 epoch= 2 \t loss =  [610.40498043]\n",
      "weight: [0.7762916  1.8505335  2.94461025] \t bias: 3.6986725192179093\n",
      "train_n= 300 epoch= 3 \t loss =  [610.57453969]\n",
      "weight: [0.79040058 1.86992553 2.93751968] \t bias: 3.7498613164730785\n",
      "train_n= 320 epoch= 3 \t loss =  [614.07046239]\n",
      "weight: [0.80779619 1.88147255 2.98232981] \t bias: 3.8090289046827825\n",
      "train_n= 340 epoch= 3 \t loss =  [615.82848438]\n",
      "weight: [0.85242296 1.9065986  2.98714612] \t bias: 3.840961396702736\n",
      "train_n= 360 epoch= 3 \t loss =  [618.9067083]\n",
      "weight: [0.88164529 1.94115805 3.00633614] \t bias: 3.8631656326610853\n",
      "train_n= 380 epoch= 3 \t loss =  [618.91437568]\n",
      "weight: [0.89405502 1.94640237 3.00157402] \t bias: 3.8761239849567124\n",
      "train_n= 400 epoch= 3 \t loss =  [620.70398737]\n",
      "weight: [0.90286709 1.96331639 3.01589922] \t bias: 3.8937218865865253\n",
      "train_n= 420 epoch= 3 \t loss =  [620.81205937]\n",
      "weight: [0.91045668 1.96364108 3.0161416 ] \t bias: 3.900283967976476\n",
      "train_n= 440 epoch= 4 \t loss =  [620.2674252]\n",
      "weight: [0.90644255 1.96255938 3.01000852] \t bias: 3.912857201835763\n",
      "train_n= 460 epoch= 4 \t loss =  [621.20829755]\n",
      "weight: [0.9193936  1.96242588 3.0219389 ] \t bias: 3.9373924902717055\n",
      "train_n= 480 epoch= 4 \t loss =  [621.90009398]\n",
      "weight: [0.93909619 1.9726538  3.02222985] \t bias: 3.952436091001075\n",
      "train_n= 500 epoch= 4 \t loss =  [623.62926809]\n",
      "weight: [0.94808141 1.99401165 3.03215098] \t bias: 3.9569621644761224\n",
      "train_n= 520 epoch= 4 \t loss =  [623.01511949]\n",
      "weight: [0.95043996 1.98629502 3.0277134 ] \t bias: 3.956877522070598\n",
      "train_n= 540 epoch= 4 \t loss =  [623.69905502]\n",
      "weight: [0.95398441 1.99478648 3.03158059] \t bias: 3.9583520758001396\n",
      "train_n= 560 epoch= 4 \t loss =  [623.41647842]\n",
      "weight: [0.9515457  1.99106348 3.03026081] \t bias: 3.953914313419695\n",
      "train_n= 580 epoch= 5 \t loss =  [622.69019965]\n",
      "weight: [0.9421977  1.98492399 3.0254057 ] \t bias: 3.9557902388757338\n",
      "train_n= 600 epoch= 5 \t loss =  [623.01137965]\n",
      "weight: [0.95341771 1.98225279 3.02976919] \t bias: 3.9715683062889853\n",
      "train_n= 620 epoch= 5 \t loss =  [623.41206847]\n",
      "weight: [0.96530269 1.98892909 3.02915033] \t bias: 3.9822901786169793\n",
      "train_n= 640 epoch= 5 \t loss =  [624.80377743]\n",
      "weight: [0.96823199 2.0073855  3.03700177] \t bias: 3.981882988733176\n",
      "train_n= 660 epoch= 5 \t loss =  [624.03500299]\n",
      "weight: [0.9674618  1.99616519 3.03314496] \t bias: 3.978381792352462\n",
      "train_n= 680 epoch= 5 \t loss =  [624.44849005]\n",
      "weight: [0.96925885 2.0026409  3.03466176] \t bias: 3.9756862280515133\n",
      "train_n= 700 epoch= 5 \t loss =  [624.06887075]\n",
      "weight: [0.96376174 1.99794773 3.03316227] \t bias: 3.9683056115585305\n",
      "Done!\n"
     ]
    }
   ],
   "source": [
    "lms.fit(train_x, train_y, learning_rate=0.01, epoches=5, display_step=20)"
   ]
  },
  {
   "cell_type": "code",
   "execution_count": 7,
   "metadata": {
    "ExecuteTime": {
     "end_time": "2019-01-20T15:52:11.264648Z",
     "start_time": "2019-01-20T15:52:10.823987Z"
    },
    "scrolled": false
   },
   "outputs": [
    {
     "data": {
      "text/plain": [
       "Text(0, 0.5, 'Weights')"
      ]
     },
     "execution_count": 7,
     "metadata": {},
     "output_type": "execute_result"
    },
    {
     "data": {
      "image/png": "[encoded data removed]",
      "text/plain": [
       "<Figure size 432x288 with 1 Axes>"
      ]
     },
     "metadata": {
      "needs_background": "light"
     },
     "output_type": "display_data"
    }
   ],
   "source": [
    "weights = lms.get_weights()\n",
    "sns.lineplot(weights.index.values,  weights[0], label=\"weight_1\")\n",
    "sns.lineplot(weights.index.values,  weights[1], label=\"weight_2\")\n",
    "sns.lineplot(weights.index.values,  weights[2], label=\"weight_3\")\n",
    "sns.lineplot(weights.index.values,  weights[3], label=\"bias\")\n",
    "plt.xlabel(\"Training times\")\n",
    "plt.ylabel(\"Weights\")"
   ]
  }
 ],
 "metadata": {
  "kernelspec": {
   "display_name": "Python 3",
   "language": "python",
   "name": "python3"
  },
  "language_info": {
   "codemirror_mode": {
    "name": "ipython",
    "version": 3
   },
   "file_extension": ".py",
   "mimetype": "text/x-python",
   "name": "python",
   "nbconvert_exporter": "python",
   "pygments_lexer": "ipython3",
   "version": "3.6.7"
  },
  "toc": {
   "base_numbering": 1,
   "nav_menu": {},
   "number_sections": true,
   "sideBar": true,
   "skip_h1_title": false,
   "title_cell": "Table of Contents",
   "title_sidebar": "Contents",
   "toc_cell": false,
   "toc_position": {},
   "toc_section_display": true,
   "toc_window_display": false
  }
 },
 "nbformat": 4,
 "nbformat_minor": 2
}
