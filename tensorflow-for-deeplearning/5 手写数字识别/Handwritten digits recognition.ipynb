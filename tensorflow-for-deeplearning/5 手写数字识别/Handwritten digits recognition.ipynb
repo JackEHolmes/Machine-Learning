{
 "cells": [
  {
   "cell_type": "code",
   "execution_count": 29,
   "metadata": {
    "ExecuteTime": {
     "end_time": "2018-10-04T01:17:10.744027Z",
     "start_time": "2018-10-04T01:17:10.740799Z"
    }
   },
   "outputs": [],
   "source": [
    "import tensorflow as tf\n",
    "import numpy as np\n",
    "import pandas as pd\n",
    "import pylab\n",
    "import matplotlib.pyplot as plt\n",
    "from tensorflow.examples.tutorials.mnist import input_data\n",
    "from sklearn.model_selection import learning_curve\n",
    "# from tensorflow.contrib.learn.python.learn.datasets import mnist"
   ]
  },
  {
   "cell_type": "markdown",
   "metadata": {},
   "source": [
    "http://yann.lecun.com/exdb/mnist/"
   ]
  },
  {
   "cell_type": "code",
   "execution_count": 22,
   "metadata": {
    "ExecuteTime": {
     "end_time": "2018-10-04T01:13:09.149683Z",
     "start_time": "2018-10-04T01:13:08.589219Z"
    }
   },
   "outputs": [
    {
     "name": "stdout",
     "output_type": "stream",
     "text": [
      "Extracting MNIST_data/train-images-idx3-ubyte.gz\n",
      "Extracting MNIST_data/train-labels-idx1-ubyte.gz\n",
      "Extracting MNIST_data/t10k-images-idx3-ubyte.gz\n",
      "Extracting MNIST_data/t10k-labels-idx1-ubyte.gz\n"
     ]
    }
   ],
   "source": [
    "mnist = input_data.read_data_sets(\"MNIST_data/\", one_hot=True)"
   ]
  },
  {
   "cell_type": "code",
   "execution_count": 11,
   "metadata": {
    "ExecuteTime": {
     "end_time": "2018-10-03T14:05:07.145484Z",
     "start_time": "2018-10-03T14:05:07.140635Z"
    }
   },
   "outputs": [
    {
     "name": "stdout",
     "output_type": "stream",
     "text": [
      "输入数据: [[0. 0. 0. ... 0. 0. 0.]\n",
      " [0. 0. 0. ... 0. 0. 0.]\n",
      " [0. 0. 0. ... 0. 0. 0.]\n",
      " ...\n",
      " [0. 0. 0. ... 0. 0. 0.]\n",
      " [0. 0. 0. ... 0. 0. 0.]\n",
      " [0. 0. 0. ... 0. 0. 0.]]\n",
      "输入数据打shape: (55000, 784)\n"
     ]
    }
   ],
   "source": [
    "print ('输入数据:',mnist.train.images)\n",
    "print ('输入数据打shape:',mnist.train.images.shape)"
   ]
  },
  {
   "cell_type": "code",
   "execution_count": 22,
   "metadata": {
    "ExecuteTime": {
     "end_time": "2018-10-03T15:04:51.444043Z",
     "start_time": "2018-10-03T15:04:51.320303Z"
    }
   },
   "outputs": [
    {
     "data": {
      "text/plain": [
       "<matplotlib.image.AxesImage at 0x1c44d56d30>"
      ]
     },
     "execution_count": 22,
     "metadata": {},
     "output_type": "execute_result"
    },
    {
     "data": {
      "image/png": "[encoded data removed]",
      "text/plain": [
       "<Figure size 432x288 with 1 Axes>"
      ]
     },
     "metadata": {
      "needs_background": "light"
     },
     "output_type": "display_data"
    }
   ],
   "source": [
    "im = mnist.train.images[1].reshape([-1, 28])\n",
    "plt.imshow(im)"
   ]
  },
  {
   "cell_type": "code",
   "execution_count": 10,
   "metadata": {
    "ExecuteTime": {
     "end_time": "2018-10-03T14:05:01.098599Z",
     "start_time": "2018-10-03T14:05:01.093088Z"
    }
   },
   "outputs": [
    {
     "data": {
      "text/plain": [
       "<tensorflow.contrib.learn.python.learn.datasets.mnist.DataSet at 0x1c398a9400>"
      ]
     },
     "execution_count": 10,
     "metadata": {},
     "output_type": "execute_result"
    }
   ],
   "source": [
    "mnist.train"
   ]
  },
  {
   "cell_type": "code",
   "execution_count": 23,
   "metadata": {
    "ExecuteTime": {
     "end_time": "2018-10-03T15:05:53.521540Z",
     "start_time": "2018-10-03T15:05:53.517874Z"
    }
   },
   "outputs": [
    {
     "name": "stdout",
     "output_type": "stream",
     "text": [
      "test: (10000, 784)\n",
      "validation: (5000, 784)\n"
     ]
    }
   ],
   "source": [
    "print ('test:',mnist.test.images.shape)\n",
    "print ('validation:',mnist.validation.images.shape)"
   ]
  },
  {
   "cell_type": "code",
   "execution_count": 24,
   "metadata": {
    "ExecuteTime": {
     "end_time": "2018-10-03T15:08:00.343463Z",
     "start_time": "2018-10-03T15:08:00.338883Z"
    }
   },
   "outputs": [
    {
     "data": {
      "text/plain": [
       "array([[0., 0., 0., ..., 1., 0., 0.],\n",
       "       [0., 0., 0., ..., 0., 0., 0.],\n",
       "       [0., 0., 0., ..., 0., 0., 0.],\n",
       "       ...,\n",
       "       [0., 0., 0., ..., 0., 0., 0.],\n",
       "       [0., 0., 0., ..., 0., 0., 0.],\n",
       "       [0., 0., 0., ..., 0., 1., 0.]])"
      ]
     },
     "execution_count": 24,
     "metadata": {},
     "output_type": "execute_result"
    }
   ],
   "source": [
    "mnist.train.labels"
   ]
  },
  {
   "cell_type": "markdown",
   "metadata": {},
   "source": [
    "# minist 分类"
   ]
  },
  {
   "cell_type": "code",
   "execution_count": 5,
   "metadata": {
    "ExecuteTime": {
     "end_time": "2018-10-04T01:03:53.103297Z",
     "start_time": "2018-10-04T01:03:53.093863Z"
    }
   },
   "outputs": [],
   "source": [
    "tf.reset_default_graph()\n",
    "x = tf.placeholder(tf.float32, [None, 784])\n",
    "y = tf.placeholder(tf.float32, [None, 10])"
   ]
  },
  {
   "cell_type": "code",
   "execution_count": 6,
   "metadata": {
    "ExecuteTime": {
     "end_time": "2018-10-04T01:03:53.124249Z",
     "start_time": "2018-10-04T01:03:53.105037Z"
    }
   },
   "outputs": [],
   "source": [
    "W = tf.Variable(tf.random_normal([784, 10]))\n",
    "b = tf.Variable(tf.zeros([10]))"
   ]
  },
  {
   "cell_type": "code",
   "execution_count": 7,
   "metadata": {
    "ExecuteTime": {
     "end_time": "2018-10-04T01:03:53.136270Z",
     "start_time": "2018-10-04T01:03:53.126317Z"
    }
   },
   "outputs": [],
   "source": [
    "pred = tf.nn.softmax(tf.matmul(x, W) + b)"
   ]
  },
  {
   "cell_type": "code",
   "execution_count": 8,
   "metadata": {
    "ExecuteTime": {
     "end_time": "2018-10-04T01:03:53.226911Z",
     "start_time": "2018-10-04T01:03:53.138666Z"
    }
   },
   "outputs": [],
   "source": [
    "cost = tf.reduce_mean(-tf.reduce_sum(y*tf.log(pred), reduction_indices=1))\n",
    "learning_rate = 0.01\n",
    "optimizer=tf.train.GradientDescentOptimizer(learning_rate).minimize(cost)"
   ]
  },
  {
   "cell_type": "code",
   "execution_count": 50,
   "metadata": {
    "ExecuteTime": {
     "end_time": "2018-10-03T16:43:38.549632Z",
     "start_time": "2018-10-03T16:42:38.626824Z"
    },
    "scrolled": false
   },
   "outputs": [
    {
     "name": "stdout",
     "output_type": "stream",
     "text": [
      "Epoch: 0001 cost= 7.669387419\n",
      "Epoch: 0002 cost= 4.397993157\n",
      "Epoch: 0003 cost= 3.217609420\n",
      "Epoch: 0004 cost= 2.605007966\n",
      "Epoch: 0005 cost= 2.221673830\n",
      "Epoch: 0006 cost= 1.956336019\n",
      "Epoch: 0007 cost= 1.762206330\n",
      "Epoch: 0008 cost= 1.614623336\n",
      "Epoch: 0009 cost= 1.498788774\n",
      "Epoch: 0010 cost= 1.405897996\n",
      "Epoch: 0011 cost= 1.329956548\n",
      "Epoch: 0012 cost= 1.266592299\n",
      "Epoch: 0013 cost= 1.212842676\n",
      "Epoch: 0014 cost= 1.166381591\n",
      "Epoch: 0015 cost= 1.126300290\n",
      "Epoch: 0016 cost= 1.090796163\n",
      "Epoch: 0017 cost= 1.059256725\n",
      "Epoch: 0018 cost= 1.031086559\n",
      "Epoch: 0019 cost= 1.005701445\n",
      "Epoch: 0020 cost= 0.982517854\n",
      "Epoch: 0021 cost= 0.961338074\n",
      "Epoch: 0022 cost= 0.941952486\n",
      "Epoch: 0023 cost= 0.923989042\n",
      "Epoch: 0024 cost= 0.907373070\n",
      "Epoch: 0025 cost= 0.891874961\n",
      " Finished!\n",
      "Accuracy: 0.8246\n",
      "Model saved in file: log/521model.ckpt\n"
     ]
    }
   ],
   "source": [
    "training_epochs = 25\n",
    "batch_size = 100\n",
    "display_step = 1\n",
    "saver = tf.train.Saver()\n",
    "model_path = \"log/521model.ckpt\"\n",
    "\n",
    "with tf.Session() as sess:\n",
    "    sess.run(tf.global_variables_initializer())\n",
    "\n",
    "    for epoch in range(training_epochs):\n",
    "        avg_cost = 0.\n",
    "        total_batch = int(mnist.train.num_examples/batch_size)\n",
    "\n",
    "        for i in range(total_batch):\n",
    "            batch_xs, batch_ys = mnist.train.next_batch(batch_size)\n",
    "            _, c = sess.run([optimizer, cost], feed_dict={\n",
    "                            x: batch_xs, y: batch_ys})\n",
    "            avg_cost += c / total_batch\n",
    "\n",
    "        if (epoch+1) % display_step == 0:\n",
    "            print(\"Epoch:\", '%04d' % (epoch+1),\n",
    "                  \"cost=\", \"{:.9f}\".format(avg_cost))\n",
    "\n",
    "    print(\" Finished!\")\n",
    "    correct_prediction = tf.equal(tf.argmax(pred, 1), tf.argmax(y, 1))\n",
    "    accuracy = tf.reduce_mean(tf.cast(correct_prediction, tf.float32))\n",
    "    print(\"Accuracy:\", accuracy.eval(\n",
    "        {x: mnist.test.images, y: mnist.test.labels}))\n",
    "    save_path = saver.save(sess, model_path)\n",
    "    print(\"Model saved in file: %s\" % save_path)"
   ]
  },
  {
   "cell_type": "code",
   "execution_count": 51,
   "metadata": {
    "ExecuteTime": {
     "end_time": "2018-10-03T23:37:13.236927Z",
     "start_time": "2018-10-03T23:37:12.707670Z"
    },
    "scrolled": true
   },
   "outputs": [
    {
     "name": "stdout",
     "output_type": "stream",
     "text": [
      "Starting 2nd session...\n",
      "Accuracy: 0.8246\n",
      "[5 7] [[3.0091330e-02 5.1328705e-11 5.8612238e-07 6.7421541e-02 7.5428558e-10\n",
      "  5.7382411e-01 2.3566822e-06 3.2865828e-01 2.5605792e-07 1.4467638e-06]\n",
      " [1.4563463e-14 8.0703917e-13 2.0249409e-03 9.1654809e-05 1.6878217e-02\n",
      "  3.5924882e-06 8.9931333e-09 6.6519356e-01 6.7767850e-08 3.1580800e-01]] [[0. 0. 0. 1. 0. 0. 0. 0. 0. 0.]\n",
      " [0. 0. 0. 0. 0. 0. 0. 0. 0. 1.]]\n"
     ]
    },
    {
     "data": {
      "image/png": "[encoded data removed]",
      "text/plain": [
       "<Figure size 432x288 with 1 Axes>"
      ]
     },
     "metadata": {
      "needs_background": "light"
     },
     "output_type": "display_data"
    },
    {
     "data": {
      "image/png": "[encoded data removed]",
      "text/plain": [
       "<Figure size 432x288 with 1 Axes>"
      ]
     },
     "metadata": {
      "needs_background": "light"
     },
     "output_type": "display_data"
    }
   ],
   "source": [
    "print(\"Starting 2nd session...\")\n",
    "with tf.Session() as sess:\n",
    "    # Initialize variables\n",
    "    sess.run(tf.global_variables_initializer())\n",
    "    # Restore model weights from previously saved model\n",
    "    saver.restore(sess, model_path)\n",
    "\n",
    "    # 测试 model\n",
    "    correct_prediction = tf.equal(tf.argmax(pred, 1), tf.argmax(y, 1))\n",
    "    # 计算准确率\n",
    "    accuracy = tf.reduce_mean(tf.cast(correct_prediction, tf.float32))\n",
    "    print(\"Accuracy:\", accuracy.eval(\n",
    "        {x: mnist.test.images, y: mnist.test.labels}))\n",
    "\n",
    "    output = tf.argmax(pred, 1)\n",
    "    batch_xs, batch_ys = mnist.train.next_batch(2)\n",
    "    outputval, predv = sess.run([output, pred], feed_dict={x: batch_xs})\n",
    "    print(outputval, predv, batch_ys)\n",
    "\n",
    "    im = batch_xs[0]\n",
    "    im = im.reshape(-1, 28)\n",
    "    pylab.imshow(im)\n",
    "    pylab.show()\n",
    "\n",
    "    im = batch_xs[1]\n",
    "    im = im.reshape(-1, 28)\n",
    "    pylab.imshow(im)\n",
    "    pylab.show()"
   ]
  }
 ],
 "metadata": {
  "kernelspec": {
   "display_name": "Python 3",
   "language": "python",
   "name": "python3"
  },
  "language_info": {
   "codemirror_mode": {
    "name": "ipython",
    "version": 3
   },
   "file_extension": ".py",
   "mimetype": "text/x-python",
   "name": "python",
   "nbconvert_exporter": "python",
   "pygments_lexer": "ipython3",
   "version": "3.6.6"
  },
  "toc": {
   "base_numbering": 1,
   "nav_menu": {},
   "number_sections": true,
   "sideBar": true,
   "skip_h1_title": false,
   "title_cell": "Table of Contents",
   "title_sidebar": "Contents",
   "toc_cell": false,
   "toc_position": {},
   "toc_section_display": true,
   "toc_window_display": false
  }
 },
 "nbformat": 4,
 "nbformat_minor": 2
}
