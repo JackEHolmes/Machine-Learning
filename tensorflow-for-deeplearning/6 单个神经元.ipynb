{
 "cells": [
  {
   "cell_type": "code",
   "execution_count": 2,
   "metadata": {
    "ExecuteTime": {
     "end_time": "2018-10-06T08:36:44.764943Z",
     "start_time": "2018-10-06T08:36:40.563885Z"
    }
   },
   "outputs": [],
   "source": [
    "import tensorflow as tf\n",
    "import numpy as np\n",
    "import pandas as pd\n",
    "import matplotlib.pyplot as plt"
   ]
  },
  {
   "cell_type": "code",
   "execution_count": 4,
   "metadata": {
    "ExecuteTime": {
     "end_time": "2018-10-06T08:37:15.052956Z",
     "start_time": "2018-10-06T08:37:14.853940Z"
    }
   },
   "outputs": [
    {
     "name": "stdout",
     "output_type": "stream",
     "text": [
      "scaled= [[0.01791432 0.00399722 0.97808844]\n",
      " [0.04980332 0.04506391 0.90513283]]\n",
      "scaled2= [[0.21747023 0.21446465 0.56806517]\n",
      " [0.2300214  0.22893383 0.5410447 ]]\n",
      "rel1= [0.02215516 3.0996735 ] \n",
      "\n",
      "rel2= [0.56551915 1.4743223 ] \n",
      "\n",
      "rel3= [0.02215518 3.0996735 ]\n",
      "rel4= [2.1721554 2.7696736] \n",
      "\n",
      "rel5= [0.02215516 3.0996735 ] \n",
      "\n",
      "loss= 3.1218286\n",
      "loss2= 3.1218288\n"
     ]
    }
   ],
   "source": [
    "# softmax\n",
    "labels = [[0, 0, 1], [0, 1, 0]]\n",
    "logits = [[2,  0.5, 6],\n",
    "          [0.1, 0,  3]]\n",
    "logits_scaled = tf.nn.softmax(logits)\n",
    "logits_scaled2 = tf.nn.softmax(logits_scaled)\n",
    "\n",
    "\n",
    "result1 = tf.nn.softmax_cross_entropy_with_logits_v2(labels=labels, logits=logits)\n",
    "result2 = tf.nn.softmax_cross_entropy_with_logits_v2(\n",
    "    labels=labels, logits=logits_scaled)\n",
    "result3 = -tf.reduce_sum(labels*tf.log(logits_scaled), 1)\n",
    "\n",
    "\n",
    "with tf.Session() as sess:\n",
    "    print(\"scaled=\", sess.run(logits_scaled))\n",
    "    print(\"scaled2=\", sess.run(logits_scaled2))  # 经过第二次的softmax后，分布概率会有变化\n",
    "\n",
    "    print(\"rel1=\", sess.run(result1), \"\\n\")  # 正确的方式\n",
    "    # 如果将softmax变换完的值放进去会，就相当于算第二次softmax的loss，所以会出错\n",
    "    print(\"rel2=\", sess.run(result2), \"\\n\")\n",
    "    print(\"rel3=\", sess.run(result3))\n",
    "\n",
    "\n",
    "# 标签总概率为1\n",
    "labels = [[0.4, 0.1, 0.5], [0.3, 0.6, 0.1]]\n",
    "result4 = tf.nn.softmax_cross_entropy_with_logits(labels=labels, logits=logits)\n",
    "with tf.Session() as sess:\n",
    "    print(\"rel4=\", sess.run(result4), \"\\n\")\n",
    "\n",
    "# sparse\n",
    "labels = [2, 1]  # 其实是0 1 2 三个类。等价 第一行 001 第二行 010\n",
    "result5 = tf.nn.sparse_softmax_cross_entropy_with_logits(\n",
    "    labels=labels, logits=logits)\n",
    "with tf.Session() as sess:\n",
    "    print(\"rel5=\", sess.run(result5), \"\\n\")\n",
    "\n",
    "# 注意！！！这个函数的返回值并不是一个数，而是一个向量，\n",
    "# 如果要求交叉熵loss，我们要对向量求均值，\n",
    "# 就是对向量再做一步tf.reduce_sum操作\n",
    "loss = tf.reduce_sum(result1)\n",
    "with tf.Session() as sess:\n",
    "    print(\"loss=\", sess.run(loss))\n",
    "\n",
    "labels = [[0, 0, 1], [0, 1, 0]]\n",
    "loss2 = -tf.reduce_sum(labels * tf.log(logits_scaled))\n",
    "with tf.Session() as sess:\n",
    "    print(\"loss2=\", sess.run(loss2))"
   ]
  },
  {
   "cell_type": "code",
   "execution_count": 6,
   "metadata": {
    "ExecuteTime": {
     "end_time": "2018-10-06T08:42:04.021735Z",
     "start_time": "2018-10-06T08:41:17.703333Z"
    }
   },
   "outputs": [
    {
     "name": "stdout",
     "output_type": "stream",
     "text": [
      "WARNING:tensorflow:From /Users/she/anaconda3/lib/python3.6/site-packages/tensorflow/contrib/learn/python/learn/datasets/mnist.py:262: extract_images (from tensorflow.contrib.learn.python.learn.datasets.mnist) is deprecated and will be removed in a future version.\n",
      "Instructions for updating:\n",
      "Please use tf.data to implement this functionality.\n",
      "Extracting MNIST_data/train-images-idx3-ubyte.gz\n",
      "WARNING:tensorflow:From /Users/she/anaconda3/lib/python3.6/site-packages/tensorflow/contrib/learn/python/learn/datasets/mnist.py:267: extract_labels (from tensorflow.contrib.learn.python.learn.datasets.mnist) is deprecated and will be removed in a future version.\n",
      "Instructions for updating:\n",
      "Please use tf.data to implement this functionality.\n",
      "Extracting MNIST_data/train-labels-idx1-ubyte.gz\n",
      "Extracting MNIST_data/t10k-images-idx3-ubyte.gz\n",
      "Extracting MNIST_data/t10k-labels-idx1-ubyte.gz\n",
      "WARNING:tensorflow:From /Users/she/anaconda3/lib/python3.6/site-packages/tensorflow/contrib/learn/python/learn/datasets/mnist.py:290: DataSet.__init__ (from tensorflow.contrib.learn.python.learn.datasets.mnist) is deprecated and will be removed in a future version.\n",
      "Instructions for updating:\n",
      "Please use alternatives such as official/mnist/dataset.py from tensorflow/models.\n",
      "输入数据: [[0. 0. 0. ... 0. 0. 0.]\n",
      " [0. 0. 0. ... 0. 0. 0.]\n",
      " [0. 0. 0. ... 0. 0. 0.]\n",
      " ...\n",
      " [0. 0. 0. ... 0. 0. 0.]\n",
      " [0. 0. 0. ... 0. 0. 0.]\n",
      " [0. 0. 0. ... 0. 0. 0.]]\n",
      "输入数据打shape: (55000, 784)\n"
     ]
    },
    {
     "data": {
      "image/png": "[encoded data removed]",
      "text/plain": [
       "<Figure size 432x288 with 1 Axes>"
      ]
     },
     "metadata": {
      "needs_background": "light"
     },
     "output_type": "display_data"
    },
    {
     "name": "stdout",
     "output_type": "stream",
     "text": [
      "输入数据打shape: (10000, 784)\n",
      "输入数据打shape: (5000, 784)\n",
      "Epoch: 0001 cost= 8.382668430\n",
      "Epoch: 0002 cost= 4.464316230\n",
      "Epoch: 0003 cost= 3.126034678\n",
      "Epoch: 0004 cost= 2.488456380\n",
      "Epoch: 0005 cost= 2.117256206\n",
      "Epoch: 0006 cost= 1.872246565\n",
      "Epoch: 0007 cost= 1.697908393\n",
      "Epoch: 0008 cost= 1.566228652\n",
      "Epoch: 0009 cost= 1.463108710\n",
      "Epoch: 0010 cost= 1.379796264\n",
      "Epoch: 0011 cost= 1.310698166\n",
      "Epoch: 0012 cost= 1.252372600\n",
      "Epoch: 0013 cost= 1.202280560\n",
      "Epoch: 0014 cost= 1.158756600\n",
      "Epoch: 0015 cost= 1.120371513\n",
      "Epoch: 0016 cost= 1.086222033\n",
      "Epoch: 0017 cost= 1.055665097\n",
      "Epoch: 0018 cost= 1.028173959\n",
      "Epoch: 0019 cost= 1.003075219\n",
      "Epoch: 0020 cost= 0.980055359\n",
      "Epoch: 0021 cost= 0.958943647\n",
      "Epoch: 0022 cost= 0.939451212\n",
      "Epoch: 0023 cost= 0.921281921\n",
      "Epoch: 0024 cost= 0.904460538\n",
      "Epoch: 0025 cost= 0.888698173\n",
      " Finished!\n"
     ]
    }
   ],
   "source": [
    "from tensorflow.examples.tutorials.mnist import input_data\n",
    "mnist = input_data.read_data_sets(\"MNIST_data/\")\n",
    "\n",
    "print('输入数据:', mnist.train.images)\n",
    "print('输入数据打shape:', mnist.train.images.shape)\n",
    "\n",
    "import pylab\n",
    "im = mnist.train.images[1]\n",
    "im = im.reshape(-1, 28)\n",
    "pylab.imshow(im)\n",
    "pylab.show()\n",
    "\n",
    "\n",
    "print('输入数据打shape:', mnist.test.images.shape)\n",
    "print('输入数据打shape:', mnist.validation.images.shape)\n",
    "\n",
    "\n",
    "import tensorflow as tf  # 导入tensorflow库\n",
    "\n",
    "tf.reset_default_graph()\n",
    "# tf Graph Input\n",
    "x = tf.placeholder(tf.float32, [None, 784])  # mnist data维度 28*28=784\n",
    "y = tf.placeholder(tf.int32, [None])  # 0-9 数字=> 10 classes\n",
    "\n",
    "# Set model weights\n",
    "W = tf.Variable(tf.random_normal([784, 10]))\n",
    "b = tf.Variable(tf.zeros([10]))\n",
    "\n",
    "z = tf.matmul(x, W) + b\n",
    "# 构建模型\n",
    "pred = tf.nn.softmax(z)  # Softmax分类\n",
    "\n",
    "# Minimize error using cross entropy\n",
    "#cost = tf.reduce_mean(-tf.reduce_sum(y*tf.log(pred), reduction_indices=1))\n",
    "cost = tf.reduce_mean(\n",
    "    tf.nn.sparse_softmax_cross_entropy_with_logits(labels=y, logits=z))\n",
    "# 参数设置\n",
    "learning_rate = 0.01\n",
    "# 使用梯度下降优化器\n",
    "optimizer = tf.train.GradientDescentOptimizer(learning_rate).minimize(cost)\n",
    "\n",
    "training_epochs = 25\n",
    "batch_size = 100\n",
    "display_step = 1\n",
    "\n",
    "\n",
    "# 启动session\n",
    "with tf.Session() as sess:\n",
    "    sess.run(tf.global_variables_initializer())  # Initializing OP\n",
    "\n",
    "    # 启动循环开始训练\n",
    "    for epoch in range(training_epochs):\n",
    "        avg_cost = 0.\n",
    "        total_batch = int(mnist.train.num_examples/batch_size)\n",
    "        # 遍历全部数据集\n",
    "        for i in range(total_batch):\n",
    "            batch_xs, batch_ys = mnist.train.next_batch(batch_size)\n",
    "            # Run optimization op (backprop) and cost op (to get loss value)\n",
    "            _, c = sess.run([optimizer, cost], feed_dict={x: batch_xs,\n",
    "                                                          y: batch_ys})\n",
    "            # Compute average loss\n",
    "            avg_cost += c / total_batch\n",
    "        # 显示训练中的详细信息\n",
    "        if (epoch+1) % display_step == 0:\n",
    "            print(\"Epoch:\", '%04d' % (epoch+1),\n",
    "                  \"cost=\", \"{:.9f}\".format(avg_cost))\n",
    "\n",
    "    print(\" Finished!\")"
   ]
  },
  {
   "cell_type": "code",
   "execution_count": null,
   "metadata": {},
   "outputs": [],
   "source": []
  }
 ],
 "metadata": {
  "kernelspec": {
   "display_name": "Python 3",
   "language": "python",
   "name": "python3"
  },
  "language_info": {
   "codemirror_mode": {
    "name": "ipython",
    "version": 3
   },
   "file_extension": ".py",
   "mimetype": "text/x-python",
   "name": "python",
   "nbconvert_exporter": "python",
   "pygments_lexer": "ipython3",
   "version": "3.6.6"
  },
  "toc": {
   "base_numbering": 1,
   "nav_menu": {},
   "number_sections": true,
   "sideBar": true,
   "skip_h1_title": false,
   "title_cell": "Table of Contents",
   "title_sidebar": "Contents",
   "toc_cell": false,
   "toc_position": {},
   "toc_section_display": true,
   "toc_window_display": false
  }
 },
 "nbformat": 4,
 "nbformat_minor": 2
}
