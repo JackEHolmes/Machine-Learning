{
 "cells": [
  {
   "cell_type": "code",
   "execution_count": 151,
   "metadata": {
    "ExecuteTime": {
     "end_time": "2018-11-11T23:58:45.626597Z",
     "start_time": "2018-11-11T23:58:45.618180Z"
    }
   },
   "outputs": [],
   "source": [
    "from xgboost import XGBClassifier\n",
    "from xgboost import XGBRegressor\n",
    "import pandas as pd\n",
    "import numpy as np\n",
    "import matplotlib.pyplot as plt\n",
    "import seaborn as sns\n",
    "from sklearn.model_selection import train_test_split\n",
    "from sklearn.metrics import accuracy_score\n",
    "from sklearn.metrics import auc\n",
    "from sklearn.metrics import f1_score\n",
    "from sklearn.metrics import confusion_matrix\n",
    "from sklearn.model_selection import cross_val_score\n",
    "from sklearn.preprocessing import StandardScaler\n",
    "from sklearn.pipeline import make_pipeline\n",
    "from sklearn.linear_model import LogisticRegression\n",
    "from sklearn.linear_model import Ridge\n",
    "from sklearn.linear_model import Lasso\n",
    "from sklearn.linear_model import LinearRegression\n",
    "from sklearn.preprocessing import PolynomialFeatures\n",
    "from sklearn.svm import SVR\n",
    "from sklearn.svm import SVC\n",
    "from sklearn.ensemble import GradientBoostingClassifier\n",
    "from sklearn.ensemble import RandomForestClassifier\n",
    "from sklearn.model_selection import GridSearchCV\n",
    "import warnings\n",
    "warnings.filterwarnings('ignore')"
   ]
  },
  {
   "cell_type": "markdown",
   "metadata": {},
   "source": [
    "## reading data"
   ]
  },
  {
   "cell_type": "code",
   "execution_count": 3,
   "metadata": {
    "ExecuteTime": {
     "end_time": "2018-11-11T14:39:49.372723Z",
     "start_time": "2018-11-11T14:39:49.357455Z"
    }
   },
   "outputs": [],
   "source": [
    "pd_data = pd.read_csv('Affairs.csv')"
   ]
  },
  {
   "cell_type": "code",
   "execution_count": 4,
   "metadata": {
    "ExecuteTime": {
     "end_time": "2018-11-11T14:39:49.398035Z",
     "start_time": "2018-11-11T14:39:49.374640Z"
    }
   },
   "outputs": [
    {
     "name": "stdout",
     "output_type": "stream",
     "text": [
      "<class 'pandas.core.frame.DataFrame'>\n",
      "RangeIndex: 601 entries, 0 to 600\n",
      "Data columns (total 10 columns):\n",
      "Unnamed: 0       601 non-null int64\n",
      "affairs          601 non-null int64\n",
      "gender           601 non-null object\n",
      "age              601 non-null float64\n",
      "yearsmarried     601 non-null float64\n",
      "children         601 non-null object\n",
      "religiousness    601 non-null int64\n",
      "education        601 non-null int64\n",
      "occupation       601 non-null int64\n",
      "rating           601 non-null int64\n",
      "dtypes: float64(2), int64(6), object(2)\n",
      "memory usage: 47.0+ KB\n",
      "None\n"
     ]
    },
    {
     "data": {
      "text/html": [
       "<div>\n",
       "<style scoped>\n",
       "    .dataframe tbody tr th:only-of-type {\n",
       "        vertical-align: middle;\n",
       "    }\n",
       "\n",
       "    .dataframe tbody tr th {\n",
       "        vertical-align: top;\n",
       "    }\n",
       "\n",
       "    .dataframe thead th {\n",
       "        text-align: right;\n",
       "    }\n",
       "</style>\n",
       "<table border=\"1\" class=\"dataframe\">\n",
       "  <thead>\n",
       "    <tr style=\"text-align: right;\">\n",
       "      <th></th>\n",
       "      <th>Unnamed: 0</th>\n",
       "      <th>affairs</th>\n",
       "      <th>gender</th>\n",
       "      <th>age</th>\n",
       "      <th>yearsmarried</th>\n",
       "      <th>children</th>\n",
       "      <th>religiousness</th>\n",
       "      <th>education</th>\n",
       "      <th>occupation</th>\n",
       "      <th>rating</th>\n",
       "    </tr>\n",
       "  </thead>\n",
       "  <tbody>\n",
       "    <tr>\n",
       "      <th>0</th>\n",
       "      <td>4</td>\n",
       "      <td>0</td>\n",
       "      <td>male</td>\n",
       "      <td>37.0</td>\n",
       "      <td>10.00</td>\n",
       "      <td>no</td>\n",
       "      <td>3</td>\n",
       "      <td>18</td>\n",
       "      <td>7</td>\n",
       "      <td>4</td>\n",
       "    </tr>\n",
       "    <tr>\n",
       "      <th>1</th>\n",
       "      <td>5</td>\n",
       "      <td>0</td>\n",
       "      <td>female</td>\n",
       "      <td>27.0</td>\n",
       "      <td>4.00</td>\n",
       "      <td>no</td>\n",
       "      <td>4</td>\n",
       "      <td>14</td>\n",
       "      <td>6</td>\n",
       "      <td>4</td>\n",
       "    </tr>\n",
       "    <tr>\n",
       "      <th>2</th>\n",
       "      <td>11</td>\n",
       "      <td>0</td>\n",
       "      <td>female</td>\n",
       "      <td>32.0</td>\n",
       "      <td>15.00</td>\n",
       "      <td>yes</td>\n",
       "      <td>1</td>\n",
       "      <td>12</td>\n",
       "      <td>1</td>\n",
       "      <td>4</td>\n",
       "    </tr>\n",
       "    <tr>\n",
       "      <th>3</th>\n",
       "      <td>16</td>\n",
       "      <td>0</td>\n",
       "      <td>male</td>\n",
       "      <td>57.0</td>\n",
       "      <td>15.00</td>\n",
       "      <td>yes</td>\n",
       "      <td>5</td>\n",
       "      <td>18</td>\n",
       "      <td>6</td>\n",
       "      <td>5</td>\n",
       "    </tr>\n",
       "    <tr>\n",
       "      <th>4</th>\n",
       "      <td>23</td>\n",
       "      <td>0</td>\n",
       "      <td>male</td>\n",
       "      <td>22.0</td>\n",
       "      <td>0.75</td>\n",
       "      <td>no</td>\n",
       "      <td>2</td>\n",
       "      <td>17</td>\n",
       "      <td>6</td>\n",
       "      <td>3</td>\n",
       "    </tr>\n",
       "  </tbody>\n",
       "</table>\n",
       "</div>"
      ],
      "text/plain": [
       "   Unnamed: 0  affairs  gender   age  yearsmarried children  religiousness  \\\n",
       "0           4        0    male  37.0         10.00       no              3   \n",
       "1           5        0  female  27.0          4.00       no              4   \n",
       "2          11        0  female  32.0         15.00      yes              1   \n",
       "3          16        0    male  57.0         15.00      yes              5   \n",
       "4          23        0    male  22.0          0.75       no              2   \n",
       "\n",
       "   education  occupation  rating  \n",
       "0         18           7       4  \n",
       "1         14           6       4  \n",
       "2         12           1       4  \n",
       "3         18           6       5  \n",
       "4         17           6       3  "
      ]
     },
     "execution_count": 4,
     "metadata": {},
     "output_type": "execute_result"
    }
   ],
   "source": [
    "print(pd_data.info(memory_usage=True))\n",
    "pd_data.head()"
   ]
  },
  {
   "cell_type": "code",
   "execution_count": 5,
   "metadata": {
    "ExecuteTime": {
     "end_time": "2018-11-11T14:39:49.408193Z",
     "start_time": "2018-11-11T14:39:49.401472Z"
    }
   },
   "outputs": [
    {
     "data": {
      "text/plain": [
       "0     451\n",
       "7      42\n",
       "12     38\n",
       "1      34\n",
       "3      19\n",
       "2      17\n",
       "Name: affairs, dtype: int64"
      ]
     },
     "execution_count": 5,
     "metadata": {},
     "output_type": "execute_result"
    }
   ],
   "source": [
    "af = pd_data.affairs.value_counts()\n",
    "af"
   ]
  },
  {
   "cell_type": "code",
   "execution_count": 6,
   "metadata": {
    "ExecuteTime": {
     "end_time": "2018-11-11T14:39:49.416498Z",
     "start_time": "2018-11-11T14:39:49.411001Z"
    }
   },
   "outputs": [
    {
     "data": {
      "text/plain": [
       "0.24958402662229617"
      ]
     },
     "execution_count": 6,
     "metadata": {},
     "output_type": "execute_result"
    }
   ],
   "source": [
    "# 婚外情比例\n",
    "1 - af[0]/af.sum()"
   ]
  },
  {
   "cell_type": "code",
   "execution_count": 7,
   "metadata": {
    "ExecuteTime": {
     "end_time": "2018-11-11T14:39:49.426285Z",
     "start_time": "2018-11-11T14:39:49.418755Z"
    }
   },
   "outputs": [
    {
     "data": {
      "text/plain": [
       "True"
      ]
     },
     "execution_count": 7,
     "metadata": {},
     "output_type": "execute_result"
    }
   ],
   "source": [
    "len(pd_data.dropna()) == len(pd_data)"
   ]
  },
  {
   "cell_type": "markdown",
   "metadata": {
    "ExecuteTime": {
     "end_time": "2018-10-27T15:57:10.673916Z",
     "start_time": "2018-10-27T15:57:10.668299Z"
    }
   },
   "source": [
    "## preprocesing"
   ]
  },
  {
   "cell_type": "code",
   "execution_count": 8,
   "metadata": {
    "ExecuteTime": {
     "end_time": "2018-11-11T14:39:49.433177Z",
     "start_time": "2018-11-11T14:39:49.428177Z"
    }
   },
   "outputs": [],
   "source": [
    "pd_data['gender'] = pd_data.gender.map({'male': 0, 'female': 1})"
   ]
  },
  {
   "cell_type": "code",
   "execution_count": 9,
   "metadata": {
    "ExecuteTime": {
     "end_time": "2018-11-11T14:39:49.440580Z",
     "start_time": "2018-11-11T14:39:49.435638Z"
    }
   },
   "outputs": [],
   "source": [
    "pd_data['children'] = pd_data.children.map({'no': 0, 'yes': 1})"
   ]
  },
  {
   "cell_type": "code",
   "execution_count": 10,
   "metadata": {
    "ExecuteTime": {
     "end_time": "2018-11-11T14:39:49.451244Z",
     "start_time": "2018-11-11T14:39:49.442814Z"
    }
   },
   "outputs": [],
   "source": [
    "pd_data = pd.get_dummies(pd_data, columns=['occupation'])"
   ]
  },
  {
   "cell_type": "code",
   "execution_count": 11,
   "metadata": {
    "ExecuteTime": {
     "end_time": "2018-11-11T14:39:49.459675Z",
     "start_time": "2018-11-11T14:39:49.454903Z"
    }
   },
   "outputs": [],
   "source": [
    "pd_data['affairs_true'] = pd_data.affairs != 0"
   ]
  },
  {
   "cell_type": "code",
   "execution_count": 12,
   "metadata": {
    "ExecuteTime": {
     "end_time": "2018-11-11T14:39:49.480215Z",
     "start_time": "2018-11-11T14:39:49.462441Z"
    },
    "scrolled": false
   },
   "outputs": [
    {
     "data": {
      "text/html": [
       "<div>\n",
       "<style scoped>\n",
       "    .dataframe tbody tr th:only-of-type {\n",
       "        vertical-align: middle;\n",
       "    }\n",
       "\n",
       "    .dataframe tbody tr th {\n",
       "        vertical-align: top;\n",
       "    }\n",
       "\n",
       "    .dataframe thead th {\n",
       "        text-align: right;\n",
       "    }\n",
       "</style>\n",
       "<table border=\"1\" class=\"dataframe\">\n",
       "  <thead>\n",
       "    <tr style=\"text-align: right;\">\n",
       "      <th></th>\n",
       "      <th>Unnamed: 0</th>\n",
       "      <th>affairs</th>\n",
       "      <th>gender</th>\n",
       "      <th>age</th>\n",
       "      <th>yearsmarried</th>\n",
       "      <th>children</th>\n",
       "      <th>religiousness</th>\n",
       "      <th>education</th>\n",
       "      <th>rating</th>\n",
       "      <th>occupation_1</th>\n",
       "      <th>occupation_2</th>\n",
       "      <th>occupation_3</th>\n",
       "      <th>occupation_4</th>\n",
       "      <th>occupation_5</th>\n",
       "      <th>occupation_6</th>\n",
       "      <th>occupation_7</th>\n",
       "      <th>affairs_true</th>\n",
       "    </tr>\n",
       "  </thead>\n",
       "  <tbody>\n",
       "    <tr>\n",
       "      <th>0</th>\n",
       "      <td>4</td>\n",
       "      <td>0</td>\n",
       "      <td>0</td>\n",
       "      <td>37.0</td>\n",
       "      <td>10.00</td>\n",
       "      <td>0</td>\n",
       "      <td>3</td>\n",
       "      <td>18</td>\n",
       "      <td>4</td>\n",
       "      <td>0</td>\n",
       "      <td>0</td>\n",
       "      <td>0</td>\n",
       "      <td>0</td>\n",
       "      <td>0</td>\n",
       "      <td>0</td>\n",
       "      <td>1</td>\n",
       "      <td>False</td>\n",
       "    </tr>\n",
       "    <tr>\n",
       "      <th>1</th>\n",
       "      <td>5</td>\n",
       "      <td>0</td>\n",
       "      <td>1</td>\n",
       "      <td>27.0</td>\n",
       "      <td>4.00</td>\n",
       "      <td>0</td>\n",
       "      <td>4</td>\n",
       "      <td>14</td>\n",
       "      <td>4</td>\n",
       "      <td>0</td>\n",
       "      <td>0</td>\n",
       "      <td>0</td>\n",
       "      <td>0</td>\n",
       "      <td>0</td>\n",
       "      <td>1</td>\n",
       "      <td>0</td>\n",
       "      <td>False</td>\n",
       "    </tr>\n",
       "    <tr>\n",
       "      <th>2</th>\n",
       "      <td>11</td>\n",
       "      <td>0</td>\n",
       "      <td>1</td>\n",
       "      <td>32.0</td>\n",
       "      <td>15.00</td>\n",
       "      <td>1</td>\n",
       "      <td>1</td>\n",
       "      <td>12</td>\n",
       "      <td>4</td>\n",
       "      <td>1</td>\n",
       "      <td>0</td>\n",
       "      <td>0</td>\n",
       "      <td>0</td>\n",
       "      <td>0</td>\n",
       "      <td>0</td>\n",
       "      <td>0</td>\n",
       "      <td>False</td>\n",
       "    </tr>\n",
       "    <tr>\n",
       "      <th>3</th>\n",
       "      <td>16</td>\n",
       "      <td>0</td>\n",
       "      <td>0</td>\n",
       "      <td>57.0</td>\n",
       "      <td>15.00</td>\n",
       "      <td>1</td>\n",
       "      <td>5</td>\n",
       "      <td>18</td>\n",
       "      <td>5</td>\n",
       "      <td>0</td>\n",
       "      <td>0</td>\n",
       "      <td>0</td>\n",
       "      <td>0</td>\n",
       "      <td>0</td>\n",
       "      <td>1</td>\n",
       "      <td>0</td>\n",
       "      <td>False</td>\n",
       "    </tr>\n",
       "    <tr>\n",
       "      <th>4</th>\n",
       "      <td>23</td>\n",
       "      <td>0</td>\n",
       "      <td>0</td>\n",
       "      <td>22.0</td>\n",
       "      <td>0.75</td>\n",
       "      <td>0</td>\n",
       "      <td>2</td>\n",
       "      <td>17</td>\n",
       "      <td>3</td>\n",
       "      <td>0</td>\n",
       "      <td>0</td>\n",
       "      <td>0</td>\n",
       "      <td>0</td>\n",
       "      <td>0</td>\n",
       "      <td>1</td>\n",
       "      <td>0</td>\n",
       "      <td>False</td>\n",
       "    </tr>\n",
       "  </tbody>\n",
       "</table>\n",
       "</div>"
      ],
      "text/plain": [
       "   Unnamed: 0  affairs  gender   age  yearsmarried  children  religiousness  \\\n",
       "0           4        0       0  37.0         10.00         0              3   \n",
       "1           5        0       1  27.0          4.00         0              4   \n",
       "2          11        0       1  32.0         15.00         1              1   \n",
       "3          16        0       0  57.0         15.00         1              5   \n",
       "4          23        0       0  22.0          0.75         0              2   \n",
       "\n",
       "   education  rating  occupation_1  occupation_2  occupation_3  occupation_4  \\\n",
       "0         18       4             0             0             0             0   \n",
       "1         14       4             0             0             0             0   \n",
       "2         12       4             1             0             0             0   \n",
       "3         18       5             0             0             0             0   \n",
       "4         17       3             0             0             0             0   \n",
       "\n",
       "   occupation_5  occupation_6  occupation_7  affairs_true  \n",
       "0             0             0             1         False  \n",
       "1             0             1             0         False  \n",
       "2             0             0             0         False  \n",
       "3             0             1             0         False  \n",
       "4             0             1             0         False  "
      ]
     },
     "execution_count": 12,
     "metadata": {},
     "output_type": "execute_result"
    }
   ],
   "source": [
    "pd_data.head()"
   ]
  },
  {
   "cell_type": "code",
   "execution_count": 13,
   "metadata": {
    "ExecuteTime": {
     "end_time": "2018-11-11T14:39:49.490982Z",
     "start_time": "2018-11-11T14:39:49.481762Z"
    }
   },
   "outputs": [
    {
     "data": {
      "text/html": [
       "<div>\n",
       "<style scoped>\n",
       "    .dataframe tbody tr th:only-of-type {\n",
       "        vertical-align: middle;\n",
       "    }\n",
       "\n",
       "    .dataframe tbody tr th {\n",
       "        vertical-align: top;\n",
       "    }\n",
       "\n",
       "    .dataframe thead th {\n",
       "        text-align: right;\n",
       "    }\n",
       "</style>\n",
       "<table border=\"1\" class=\"dataframe\">\n",
       "  <thead>\n",
       "    <tr style=\"text-align: right;\">\n",
       "      <th></th>\n",
       "      <th>Unnamed: 0</th>\n",
       "      <th>affairs</th>\n",
       "      <th>affairs_true</th>\n",
       "    </tr>\n",
       "  </thead>\n",
       "  <tbody>\n",
       "    <tr>\n",
       "      <th>0</th>\n",
       "      <td>4</td>\n",
       "      <td>0</td>\n",
       "      <td>False</td>\n",
       "    </tr>\n",
       "    <tr>\n",
       "      <th>1</th>\n",
       "      <td>5</td>\n",
       "      <td>0</td>\n",
       "      <td>False</td>\n",
       "    </tr>\n",
       "    <tr>\n",
       "      <th>2</th>\n",
       "      <td>11</td>\n",
       "      <td>0</td>\n",
       "      <td>False</td>\n",
       "    </tr>\n",
       "    <tr>\n",
       "      <th>3</th>\n",
       "      <td>16</td>\n",
       "      <td>0</td>\n",
       "      <td>False</td>\n",
       "    </tr>\n",
       "    <tr>\n",
       "      <th>4</th>\n",
       "      <td>23</td>\n",
       "      <td>0</td>\n",
       "      <td>False</td>\n",
       "    </tr>\n",
       "  </tbody>\n",
       "</table>\n",
       "</div>"
      ],
      "text/plain": [
       "   Unnamed: 0  affairs  affairs_true\n",
       "0           4        0         False\n",
       "1           5        0         False\n",
       "2          11        0         False\n",
       "3          16        0         False\n",
       "4          23        0         False"
      ]
     },
     "execution_count": 13,
     "metadata": {},
     "output_type": "execute_result"
    }
   ],
   "source": [
    "pd_data[['Unnamed: 0', 'affairs', 'affairs_true']].head()"
   ]
  },
  {
   "cell_type": "code",
   "execution_count": 14,
   "metadata": {
    "ExecuteTime": {
     "end_time": "2018-11-11T14:39:49.497632Z",
     "start_time": "2018-11-11T14:39:49.492640Z"
    }
   },
   "outputs": [],
   "source": [
    "x = pd_data.drop(['Unnamed: 0', 'affairs', 'affairs_true'], axis=1).values\n",
    "y = pd_data.affairs.astype(int).values\n",
    "yb = pd_data.affairs_true.astype(int).values"
   ]
  },
  {
   "cell_type": "code",
   "execution_count": 15,
   "metadata": {
    "ExecuteTime": {
     "end_time": "2018-11-11T14:39:49.504386Z",
     "start_time": "2018-11-11T14:39:49.499009Z"
    }
   },
   "outputs": [
    {
     "name": "stdout",
     "output_type": "stream",
     "text": [
      "0     451\n",
      "7      42\n",
      "12     38\n",
      "1      34\n",
      "3      19\n",
      "2      17\n",
      "dtype: int64\n",
      "0    451\n",
      "1    150\n",
      "dtype: int64\n"
     ]
    }
   ],
   "source": [
    "print(pd.value_counts(y))\n",
    "print(pd.value_counts(yb))"
   ]
  },
  {
   "cell_type": "markdown",
   "metadata": {},
   "source": [
    "## XGBClassifier"
   ]
  },
  {
   "cell_type": "code",
   "execution_count": 16,
   "metadata": {
    "ExecuteTime": {
     "end_time": "2018-11-11T14:39:49.510880Z",
     "start_time": "2018-11-11T14:39:49.506249Z"
    }
   },
   "outputs": [],
   "source": [
    "x_train, x_test, y_train, y_test = train_test_split(x, yb)\n",
    "x_train, x_validation, y_train, y_validation = train_test_split(x_train, y_train)"
   ]
  },
  {
   "cell_type": "code",
   "execution_count": 17,
   "metadata": {
    "ExecuteTime": {
     "end_time": "2018-11-11T14:39:49.543537Z",
     "start_time": "2018-11-11T14:39:49.512861Z"
    }
   },
   "outputs": [
    {
     "name": "stdout",
     "output_type": "stream",
     "text": [
      "[0]\tvalidation_0-auc:0.661844\n",
      "Will train until validation_0-auc hasn't improved in 10 rounds.\n",
      "[1]\tvalidation_0-auc:0.693866\n",
      "[2]\tvalidation_0-auc:0.686921\n",
      "[3]\tvalidation_0-auc:0.655864\n",
      "[4]\tvalidation_0-auc:0.659722\n",
      "[5]\tvalidation_0-auc:0.654128\n",
      "[6]\tvalidation_0-auc:0.657215\n",
      "[7]\tvalidation_0-auc:0.658372\n",
      "[8]\tvalidation_0-auc:0.659144\n",
      "[9]\tvalidation_0-auc:0.658758\n",
      "[10]\tvalidation_0-auc:0.649498\n",
      "[11]\tvalidation_0-auc:0.654321\n",
      "Stopping. Best iteration:\n",
      "[1]\tvalidation_0-auc:0.693866\n",
      "\n"
     ]
    },
    {
     "data": {
      "text/plain": [
       "XGBClassifier(base_score=0.5, booster='gbtree', colsample_bylevel=1,\n",
       "       colsample_bytree=1, gamma=0, learning_rate=0.1, max_delta_step=0,\n",
       "       max_depth=3, min_child_weight=1, missing=None, n_estimators=100,\n",
       "       n_jobs=1, nthread=None, objective='binary:logistic', random_state=0,\n",
       "       reg_alpha=0, reg_lambda=1, scale_pos_weight=1, seed=None,\n",
       "       silent=True, subsample=1)"
      ]
     },
     "execution_count": 17,
     "metadata": {},
     "output_type": "execute_result"
    }
   ],
   "source": [
    "seed = 0\n",
    "eval_set = [(x_validation, y_validation)]\n",
    "model = XGBClassifier()\n",
    "model.fit(x_train, y_train, early_stopping_rounds=10, \n",
    "          eval_metric=\"auc\", eval_set=eval_set)"
   ]
  },
  {
   "cell_type": "code",
   "execution_count": 18,
   "metadata": {
    "ExecuteTime": {
     "end_time": "2018-11-11T14:39:49.553371Z",
     "start_time": "2018-11-11T14:39:49.546005Z"
    }
   },
   "outputs": [
    {
     "data": {
      "text/plain": [
       "0.7417218543046358"
      ]
     },
     "execution_count": 18,
     "metadata": {},
     "output_type": "execute_result"
    }
   ],
   "source": [
    "model.score(x_test, y_test)"
   ]
  },
  {
   "cell_type": "code",
   "execution_count": 19,
   "metadata": {
    "ExecuteTime": {
     "end_time": "2018-11-11T14:39:49.568497Z",
     "start_time": "2018-11-11T14:39:49.560265Z"
    },
    "scrolled": false
   },
   "outputs": [
    {
     "data": {
      "text/plain": [
       "array([[106,  28],\n",
       "       [ 11,   6]])"
      ]
     },
     "execution_count": 19,
     "metadata": {},
     "output_type": "execute_result"
    }
   ],
   "source": [
    "confusion_matrix(model.predict(x_test), y_test)"
   ]
  },
  {
   "cell_type": "markdown",
   "metadata": {
    "ExecuteTime": {
     "end_time": "2018-10-28T16:11:40.041481Z",
     "start_time": "2018-10-28T16:11:40.039290Z"
    }
   },
   "source": [
    "## GridSearch"
   ]
  },
  {
   "cell_type": "code",
   "execution_count": 20,
   "metadata": {
    "ExecuteTime": {
     "end_time": "2018-11-11T14:39:49.579465Z",
     "start_time": "2018-11-11T14:39:49.573368Z"
    }
   },
   "outputs": [],
   "source": [
    "param_xgb = {\n",
    "    'max_depth': range(2,6),\n",
    "    'learning_rate': [0.01, 0.1, 0.5], \n",
    "    'n_estimators': np.arange(3,16)*20,\n",
    "    'gamma': [10**i for i in range(-2,3)],\n",
    "    'min_child_weight': range(1, 5),\n",
    "    'max_delta_step': range(0, 5)\n",
    "}"
   ]
  },
  {
   "cell_type": "code",
   "execution_count": 23,
   "metadata": {
    "ExecuteTime": {
     "end_time": "2018-11-11T14:41:03.114104Z",
     "start_time": "2018-11-11T14:41:03.110723Z"
    },
    "scrolled": true
   },
   "outputs": [],
   "source": [
    "model_2 = XGBClassifier(early_stopping_rounds=10, \n",
    "                        eval_metric=\"auc\", eval_set=eval_set)\n",
    "grid_xgb = GridSearchCV(model_2, param_xgb, n_jobs=-1, verbose=True)"
   ]
  },
  {
   "cell_type": "code",
   "execution_count": 24,
   "metadata": {
    "ExecuteTime": {
     "end_time": "2018-11-11T14:47:17.794754Z",
     "start_time": "2018-11-11T14:41:03.116870Z"
    },
    "scrolled": false
   },
   "outputs": [
    {
     "name": "stdout",
     "output_type": "stream",
     "text": [
      "Fitting 3 folds for each of 15600 candidates, totalling 46800 fits\n"
     ]
    },
    {
     "name": "stderr",
     "output_type": "stream",
     "text": [
      "[Parallel(n_jobs=-1)]: Using backend LokyBackend with 8 concurrent workers.\n",
      "[Parallel(n_jobs=-1)]: Done  34 tasks      | elapsed:    3.0s\n",
      "[Parallel(n_jobs=-1)]: Done 1054 tasks      | elapsed:    9.1s\n",
      "[Parallel(n_jobs=-1)]: Done 3054 tasks      | elapsed:   28.8s\n",
      "[Parallel(n_jobs=-1)]: Done 5854 tasks      | elapsed:   53.4s\n",
      "[Parallel(n_jobs=-1)]: Done 9454 tasks      | elapsed:  1.4min\n",
      "[Parallel(n_jobs=-1)]: Done 13854 tasks      | elapsed:  2.1min\n",
      "[Parallel(n_jobs=-1)]: Done 19054 tasks      | elapsed:  2.9min\n",
      "[Parallel(n_jobs=-1)]: Done 25054 tasks      | elapsed:  3.7min\n",
      "[Parallel(n_jobs=-1)]: Done 31854 tasks      | elapsed:  4.5min\n",
      "[Parallel(n_jobs=-1)]: Done 39454 tasks      | elapsed:  5.4min\n",
      "[Parallel(n_jobs=-1)]: Done 46800 out of 46800 | elapsed:  6.2min finished\n"
     ]
    },
    {
     "data": {
      "text/plain": [
       "GridSearchCV(cv='warn', error_score='raise-deprecating',\n",
       "       estimator=XGBClassifier(base_score=0.5, booster='gbtree', colsample_bylevel=1,\n",
       "       colsample_bytree=1, early_stopping_rounds=10, eval_metric='auc',\n",
       "       eval_set=[(array([[ 0., 32., ...,  0.,  0.],\n",
       "       [ 0., 32., ...,  0.,  1.],\n",
       "       ...,\n",
       "       [ 0., 27., ...,  0.,  0.],\n",
       "       [ 0., 27.,...0,\n",
       "       reg_alpha=0, reg_lambda=1, scale_pos_weight=1, seed=None,\n",
       "       silent=True, subsample=1),\n",
       "       fit_params=None, iid='warn', n_jobs=-1,\n",
       "       param_grid={'max_depth': range(2, 6), 'learning_rate': [0.01, 0.1, 0.5], 'n_estimators': array([ 60,  80, 100, 120, 140, 160, 180, 200, 220, 240, 260, 280, 300]), 'gamma': [0.01, 0.1, 1, 10, 100], 'min_child_weight': range(1, 5), 'max_delta_step': range(0, 5)},\n",
       "       pre_dispatch='2*n_jobs', refit=True, return_train_score='warn',\n",
       "       scoring=None, verbose=True)"
      ]
     },
     "execution_count": 24,
     "metadata": {},
     "output_type": "execute_result"
    }
   ],
   "source": [
    "grid_xgb.fit(x_train, y_train)"
   ]
  },
  {
   "cell_type": "code",
   "execution_count": 25,
   "metadata": {
    "ExecuteTime": {
     "end_time": "2018-11-11T14:47:17.804490Z",
     "start_time": "2018-11-11T14:47:17.798071Z"
    }
   },
   "outputs": [
    {
     "data": {
      "text/plain": [
       "0.7483443708609272"
      ]
     },
     "execution_count": 25,
     "metadata": {},
     "output_type": "execute_result"
    }
   ],
   "source": [
    "grid_xgb.score(x_test, y_test)"
   ]
  },
  {
   "cell_type": "code",
   "execution_count": 42,
   "metadata": {
    "ExecuteTime": {
     "end_time": "2018-11-11T15:10:58.776811Z",
     "start_time": "2018-11-11T15:10:58.771116Z"
    }
   },
   "outputs": [
    {
     "data": {
      "text/plain": [
       "XGBClassifier(base_score=0.5, booster='gbtree', colsample_bylevel=1,\n",
       "       colsample_bytree=1, early_stopping_rounds=10, eval_metric='auc',\n",
       "       eval_set=[(array([[ 0., 32., ...,  0.,  0.],\n",
       "       [ 0., 32., ...,  0.,  1.],\n",
       "       ...,\n",
       "       [ 0., 27., ...,  0.,  0.],\n",
       "       [ 0., 27., ...,  0.,  0.]]), array([0, 1, ..., 0, 0]))],\n",
       "       gamma=0.01, learning_rate=0.01, max_delta_step=0, max_depth=2,\n",
       "       min_child_weight=1, missing=None, n_estimators=60, n_jobs=1,\n",
       "       nthread=None, objective='binary:logistic', random_state=0,\n",
       "       reg_alpha=0, reg_lambda=1, scale_pos_weight=1, seed=None,\n",
       "       silent=True, subsample=1)"
      ]
     },
     "execution_count": 42,
     "metadata": {},
     "output_type": "execute_result"
    }
   ],
   "source": [
    "grid_xgb.best_estimator_"
   ]
  },
  {
   "cell_type": "code",
   "execution_count": 105,
   "metadata": {
    "ExecuteTime": {
     "end_time": "2018-11-11T16:14:44.120033Z",
     "start_time": "2018-11-11T16:14:44.112636Z"
    }
   },
   "outputs": [
    {
     "data": {
      "text/plain": [
       "array([[109,  30],\n",
       "       [  8,   4]])"
      ]
     },
     "execution_count": 105,
     "metadata": {},
     "output_type": "execute_result"
    }
   ],
   "source": [
    "confusion_matrix(grid_xgb.predict(x_test), y_test)"
   ]
  },
  {
   "cell_type": "markdown",
   "metadata": {
    "ExecuteTime": {
     "end_time": "2018-11-11T14:39:03.443526Z",
     "start_time": "2018-11-11T14:39:03.433465Z"
    }
   },
   "source": [
    "## hyperopt"
   ]
  },
  {
   "cell_type": "code",
   "execution_count": 61,
   "metadata": {
    "ExecuteTime": {
     "end_time": "2018-11-11T15:50:26.773940Z",
     "start_time": "2018-11-11T15:50:26.770661Z"
    }
   },
   "outputs": [],
   "source": [
    "from hyperopt import fmin, tpe, hp,partial"
   ]
  },
  {
   "cell_type": "code",
   "execution_count": 163,
   "metadata": {
    "ExecuteTime": {
     "end_time": "2018-11-12T00:20:15.528980Z",
     "start_time": "2018-11-12T00:17:46.664917Z"
    }
   },
   "outputs": [],
   "source": [
    "space_xgb = {\n",
    "    'max_depth':hp.choice('max_depth', [2,3,4]),\n",
    "    'learning_rate':hp.loguniform('learning_rate',np.log(0.01),np.log(0.1)),\n",
    "    'n_estimators':hp.choice('n_estimators',range(20,161,20)),\n",
    "    'gamma':hp.loguniform('gamma',np.log(0.01),np.log(1000)),\n",
    "    'min_child_weight':hp.choice('min_child_weight',range(1,5)),\n",
    "    'max_delta_step':hp.choice('max_delta_step',range(5))\n",
    "}\n",
    "\n",
    "def hp_xgb(args):\n",
    "    xgb = XGBClassifier(early_stopping_rounds=10,eval_metric=\"auc\",\n",
    "                       max_depth = args['max_depth'],\n",
    "                       learning_rate  = args['learning_rate'],\n",
    "                       n_estimators  = args['n_estimators'],\n",
    "                       gamma  = args['gamma'],\n",
    "                       min_child_weight  = args['min_child_weight'],\n",
    "                       max_delta_step  = args['max_delta_step']\n",
    "                       )\n",
    "    xgb.fit(x_train, y_train)\n",
    "#     return -xgb.score(x_test, y_test)\n",
    "#     return -accuracy_score(xgb.predict(x_test), y_test)\n",
    "#     return -f1_score(xgb.predict(x_test), y_test)\n",
    "    metric = cross_val_score(xgb,x_train,y_train,cv=3,scoring=\"roc_auc\").mean()\n",
    "    return -metric\n",
    "best = fmin(\n",
    "    fn=hp_xgb,\n",
    "    space=space_xgb,\n",
    "    algo=partial(tpe.suggest,n_startup_jobs=10),max_evals=100)"
   ]
  },
  {
   "cell_type": "code",
   "execution_count": 164,
   "metadata": {
    "ExecuteTime": {
     "end_time": "2018-11-12T00:20:15.535273Z",
     "start_time": "2018-11-12T00:20:15.531521Z"
    }
   },
   "outputs": [
    {
     "name": "stdout",
     "output_type": "stream",
     "text": [
      "{'gamma': 1.3860095586273222, 'learning_rate': 0.06324193068174706, 'max_delta_step': 1, 'max_depth': 1, 'min_child_weight': 3, 'n_estimators': 5}\n"
     ]
    }
   ],
   "source": [
    "print(best)"
   ]
  },
  {
   "cell_type": "code",
   "execution_count": 165,
   "metadata": {
    "ExecuteTime": {
     "end_time": "2018-11-12T00:20:15.550906Z",
     "start_time": "2018-11-12T00:20:15.537169Z"
    }
   },
   "outputs": [
    {
     "data": {
      "text/plain": [
       "0.6073062558356676"
      ]
     },
     "execution_count": 165,
     "metadata": {},
     "output_type": "execute_result"
    }
   ],
   "source": [
    "-hp_xgb(best)"
   ]
  },
  {
   "cell_type": "code",
   "execution_count": 166,
   "metadata": {
    "ExecuteTime": {
     "end_time": "2018-11-12T00:20:15.558480Z",
     "start_time": "2018-11-12T00:20:15.553524Z"
    }
   },
   "outputs": [],
   "source": [
    "x = XGBClassifier(early_stopping_rounds=10,eval_metric=\"auc\",**best).fit(x_train, y_train)"
   ]
  },
  {
   "cell_type": "code",
   "execution_count": 167,
   "metadata": {
    "ExecuteTime": {
     "end_time": "2018-11-12T00:20:15.566875Z",
     "start_time": "2018-11-12T00:20:15.560626Z"
    },
    "scrolled": true
   },
   "outputs": [
    {
     "data": {
      "text/plain": [
       "array([[104,  27],\n",
       "       [ 13,   7]])"
      ]
     },
     "execution_count": 167,
     "metadata": {},
     "output_type": "execute_result"
    }
   ],
   "source": [
    "confusion_matrix(x.predict(x_test), y_test)"
   ]
  }
 ],
 "metadata": {
  "kernelspec": {
   "display_name": "Python 3",
   "language": "python",
   "name": "python3"
  },
  "language_info": {
   "codemirror_mode": {
    "name": "ipython",
    "version": 3
   },
   "file_extension": ".py",
   "mimetype": "text/x-python",
   "name": "python",
   "nbconvert_exporter": "python",
   "pygments_lexer": "ipython3",
   "version": "3.6.7"
  },
  "toc": {
   "base_numbering": 1,
   "nav_menu": {},
   "number_sections": true,
   "sideBar": true,
   "skip_h1_title": false,
   "title_cell": "Table of Contents",
   "title_sidebar": "Contents",
   "toc_cell": false,
   "toc_position": {},
   "toc_section_display": true,
   "toc_window_display": false
  }
 },
 "nbformat": 4,
 "nbformat_minor": 2
}
